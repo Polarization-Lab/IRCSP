{
 "cells": [
  {
   "cell_type": "code",
   "execution_count": 2,
   "metadata": {},
   "outputs": [],
   "source": [
    "import numpy as np\n",
    "import pandas as pd\n",
    "import h5py\n",
    "import sys\n",
    "import matplotlib.pyplot as plt\n",
    "from statistics import mean\n",
    "from scipy.optimize import curve_fit\n",
    "\n",
    "sys.path.insert(0, './radiometric')\n",
    "from LUT_functions import pixel_registration, create_LUT_df\n",
    "import scipy\n",
    "\n",
    "# Seaborn for plotting and styling\n",
    "import seaborn as sns\n",
    "sns.set_theme()\n",
    "sns.set_style(\"whitegrid\", {'axes.grid' : False})"
   ]
  },
  {
   "cell_type": "code",
   "execution_count": 3,
   "metadata": {},
   "outputs": [],
   "source": [
    "#choose filepath to desired data\n",
    "path = '/Users/kirahart/Dropbox/GitHub/IRCSP2_data/calibration_data/BBpolarized/'\n",
    "cal_file1 =  \"/Users/kirahart/Dropbox/GitHub/IRCSP2_data/calibration_files/cam1pixel.h5\"\n",
    "cal_file2 =  \"/Users/kirahart/Dropbox/GitHub/IRCSP2_data/calibration_files/cam2pixel.h5\""
   ]
  },
  {
   "cell_type": "code",
   "execution_count": 4,
   "metadata": {},
   "outputs": [],
   "source": [
    "#will create a df and print the names of the keys in the original hdf5 file\n",
    "df1 = create_LUT_df(path,'cam1_0deg.h5')\n",
    "df2 = create_LUT_df(path,'cam2_0deg.h5')"
   ]
  },
  {
   "cell_type": "code",
   "execution_count": 5,
   "metadata": {},
   "outputs": [],
   "source": [
    "waves= np.linspace(7,12,61)\n",
    "lps = [0,10,20,30,40,50,60,70,80,90,110,130,150,170]\n",
    "angles = np.round(np.linspace(-7.07,7.07,35),1)"
   ]
  },
  {
   "cell_type": "code",
   "execution_count": 6,
   "metadata": {},
   "outputs": [],
   "source": [
    "#import nuc calibration\n",
    "sys.path.insert(0, './NUC')\n",
    "from NUC_functions import import_NUC, apply_NUC\n",
    "cal_path = '/Users/kirahart/Dropbox/GitHub/IRCSP2_data/calibration_files/NUC.h5'\n",
    "\n",
    "m1,b1,T_ref1,m2,b2,T_ref2 = import_NUC(cal_path)"
   ]
  },
  {
   "cell_type": "code",
   "execution_count": null,
   "metadata": {},
   "outputs": [],
   "source": [
    "#apply pixel registration and NUC to full dataset\n",
    "\n",
    "ymin1 = 105; ymax1 = 140;\n",
    "ymin2 = 130; ymax2 = 165;\n",
    "\n",
    "mean_ims1 =[]\n",
    "mean_ims2 =[]\n",
    "std_ims1  =[]\n",
    "std_ims2  =[]\n",
    "\n",
    "mean_ims1n =[]\n",
    "mean_ims2n =[]\n",
    "std_ims1n  =[]\n",
    "std_ims2n  =[]\n",
    "\n",
    "for i in lps:\n",
    "    #will create a df and print the names of the keys in the original hdf5 file\n",
    "    df1 = create_LUT_df(path,'cam1_'+str(i)+'deg.h5')\n",
    "    df2 = create_LUT_df(path,'cam2_'+str(i)+'deg.h5')\n",
    "    \n",
    "    corrected_images1= [] ; corrected_images1n= [];\n",
    "    corrected_images2= [] ; corrected_images2n= []\n",
    "\n",
    "    for i in range(len(df1)):\n",
    "        #first without NUC correction\n",
    "        r = df1['images1'][i];\n",
    "        c = pixel_registration(r,cal_file1,waves,ymin1,ymax1)\n",
    "        \n",
    "        #now with NUC correction\n",
    "        T = df1['temp1'][i];\n",
    "        rn = apply_NUC(r,T,m1,b1,T_ref1)\n",
    "        cn = pixel_registration(rn,cal_file1,waves,ymin1,ymax1)\n",
    "        \n",
    "        corrected_images1.append(c)\n",
    "        corrected_images1n.append(cn)\n",
    "\n",
    "    for i in range(len(df2)):\n",
    "        #first without NUC correction\n",
    "        r = df2['images1'][i];\n",
    "        c = pixel_registration(r,cal_file2,waves,ymin2,ymax2)\n",
    "        \n",
    "        #now with NUC correction\n",
    "        T = df2['temp1'][i];\n",
    "        rn = apply_NUC(r,T,m2,b2,T_ref2)\n",
    "        cn = pixel_registration(rn,cal_file2,waves,ymin2,ymax2)\n",
    "        \n",
    "        corrected_images2.append(c)\n",
    "        corrected_images2n.append(cn)\n",
    "\n",
    "    mean_ims1.append(np.mean(corrected_images1,axis = 0))\n",
    "    mean_ims1n.append(np.mean(corrected_images1n,axis = 0))\n",
    "    mean_ims2.append(np.mean(corrected_images2,axis = 0))\n",
    "    mean_ims2n.append(np.mean(corrected_images2n,axis = 0))\n",
    "\n",
    "\n",
    "    std_ims1.append(np.std(corrected_images1,axis = 0))\n",
    "    std_ims2.append(np.std(corrected_images2,axis = 0))\n",
    "    std_ims1n.append(np.std(corrected_images1n,axis = 0))\n",
    "    std_ims2n.append(np.std(corrected_images2n,axis = 0))"
   ]
  },
  {
   "cell_type": "code",
   "execution_count": null,
   "metadata": {},
   "outputs": [],
   "source": [
    "d = {'lps': lps, 'ims1': list(mean_ims1),'s1': list(std_ims1), 'ims2':list(mean_ims2),'s2': list(std_ims2)}\n",
    "dn = {'lps': lps, 'ims1': list(mean_ims1n),'s1': list(std_ims1n), 'ims2':list(mean_ims2n),'s2': list(std_ims2n)}\n"
   ]
  },
  {
   "cell_type": "code",
   "execution_count": null,
   "metadata": {},
   "outputs": [],
   "source": [
    "df = pd.DataFrame.from_dict(d, orient='index')\n",
    "df = df.transpose()\n",
    "\n",
    "dfn = pd.DataFrame.from_dict(dn, orient='index')\n",
    "dfn = dfn.transpose()\n",
    "\n",
    "dfn"
   ]
  },
  {
   "cell_type": "code",
   "execution_count": null,
   "metadata": {},
   "outputs": [],
   "source": [
    "\n",
    "df.to_hdf('/Users/kirahart/Dropbox/GitHub/IRCSP2_data/calibration_data/LUT/df_pol.h5', key='s')\n",
    "dfn.to_hdf('/Users/kirahart/Dropbox/GitHub/IRCSP2_data/calibration_data/LUT/df_pol_NUC.h5', key='s')\n"
   ]
  },
  {
   "cell_type": "code",
   "execution_count": null,
   "metadata": {},
   "outputs": [],
   "source": [
    "def finv(y,A,B):\n",
    "    return ((y-B)/A)**0.5\n"
   ]
  },
  {
   "cell_type": "code",
   "execution_count": null,
   "metadata": {},
   "outputs": [],
   "source": [
    "#import radiometric data\n",
    "\n",
    "#choose filepath to desired data\n",
    "save_path =   '/Users/kirahart/Dropbox/GitHub/IRCSP2_data/calibration_files/'\n",
    "name =  \"LUT.h5\" \n",
    "\n",
    "hf = h5py.File(save_path+name, 'r')\n",
    "B2 = hf.get('B2')\n",
    "B1 = hf.get('B1')"
   ]
  },
  {
   "cell_type": "code",
   "execution_count": null,
   "metadata": {},
   "outputs": [],
   "source": [
    "\n",
    "j = 10;\n",
    "I1 = df['ims1'][j]-B1\n",
    "I2 = df['ims2'][j]-B2\n",
    "plt.matshow((I1-I2)/(I1+I2),cmap = 'inferno' )\n",
    "plt.colorbar()\n",
    "plt.ylabel('Angular FOV [$^\\circ$]')\n",
    "plt.xlabel('Wavelength [$\\mu m$]')\n",
    "plt.ax = plt.gca()\n",
    "plt.ax.xaxis.set_ticks_position('bottom')\n",
    "plt.xticks([0, 20, 40,60], [waves[0],round(waves[20]),waves[30],waves[60]])\n",
    "plt.yticks([0, 9,17,26,34], [angles[0], angles[9],angles[17],angles[26],angles[34]])\n",
    "plt.title('Modulation Function, AOLP = ' + str(lps[j])+ '$ ^\\circ $ ')\n",
    "plt.clim([-1,1])\n",
    "plt.show()\n"
   ]
  },
  {
   "cell_type": "code",
   "execution_count": null,
   "metadata": {},
   "outputs": [],
   "source": [
    "#create sum column\n",
    "df[\"totalrad\"] = df['ims2']+df['ims1']\n",
    "df[\"totalstd\"] = (df['s2']**2+df['s1']**2)**0.5"
   ]
  },
  {
   "cell_type": "code",
   "execution_count": null,
   "metadata": {},
   "outputs": [],
   "source": [
    "cmin = np.min(list(df['totalrad'])); cmax=np.max(list(df['totalrad']))\n",
    "\n",
    "j = 5;\n",
    "plt.matshow(df['totalrad'][j],cmap = 'inferno' )\n",
    "plt.colorbar()\n",
    "plt.ylabel('Spatial Sampling')\n",
    "plt.xlabel('Wavelength [$\\mu m$]')\n",
    "plt.ax = plt.gca()\n",
    "plt.ax.xaxis.set_ticks_position('bottom')\n",
    "plt.xticks([0, 20, 40,60], [waves[0],round(waves[20]),waves[30],waves[60]])\n",
    "plt.title('AOLP = ' + str(lps[j])+ '$^\\circ $ \\n no NUC')\n",
    "#plt.clim(cmin,cmax)\n",
    "plt.show()"
   ]
  },
  {
   "cell_type": "code",
   "execution_count": null,
   "metadata": {},
   "outputs": [],
   "source": [
    "# pixel fit \n",
    "def f(x, A, B): # this is your 'straight line' y=f(x)\n",
    "    return A*x**2 + B\n",
    "\n",
    "def finv(y,A,B):\n",
    "    return ((y-B)/A)**0.5\n"
   ]
  },
  {
   "cell_type": "code",
   "execution_count": null,
   "metadata": {},
   "outputs": [],
   "source": [
    "x = 10\n",
    "y = 30\n",
    "plt.errorbar(dfn['lps'],get_slice(dfn['ims2'],x,y),label = 'no NUC')\n",
    "#plt.errorbar(df['lps'],get_slice_avg(df['ims1'],x),yerr=get_slice_avg(df['s1'],x),label = 'no NUC')\n",
    "plt.title('spatially averaged response \\n $\\lambda = $' + str(round(waves[x],2)) + ' $  \\mu m$')\n",
    "plt.xlabel('Scene Temperature [$^\\circ C$ ] ')\n",
    "plt.ylabel('avg camera count')\n",
    "plt.legend()\n",
    "plt.show()\n"
   ]
  },
  {
   "cell_type": "code",
   "execution_count": null,
   "metadata": {},
   "outputs": [],
   "source": [
    "def get_slice(df,x,y):\n",
    "    sli = []\n",
    "    for i in range(len(df)):\n",
    "        s = df[i]\n",
    "        sli.append(s[y,x])\n",
    "    return(sli)\n",
    "\n",
    "def get_slice_avg(df,x):\n",
    "    sli = []\n",
    "    for i in range(len(df)):\n",
    "        s = df[i]\n",
    "        sli.append(np.mean(s[:,x]))\n",
    "    return(sli)"
   ]
  },
  {
   "cell_type": "code",
   "execution_count": null,
   "metadata": {},
   "outputs": [],
   "source": [
    "''''playing with off set '''\n",
    "\n",
    "j = 10;\n",
    "I1 = df['ims1'][j]-B1\n",
    "I2 = df['ims2'][j]-B2\n",
    "plt.matshow(I1,cmap = 'inferno' )\n",
    "plt.colorbar()\n",
    "plt.ylabel('Angular FOV [$^\\circ$]')\n",
    "plt.xlabel('Wavelength [$\\mu m$]')\n",
    "plt.ax = plt.gca()\n",
    "plt.ax.xaxis.set_ticks_position('bottom')\n",
    "plt.xticks([0, 20, 40,60], [waves[0],round(waves[20]),waves[30],waves[60]])\n",
    "plt.yticks([0, 9,17,26,34], [angles[0], angles[9],angles[17],angles[26],angles[34]])\n",
    "plt.title('Modulation Function, AOLP = ' + str(lps[j])+ '$ ^\\circ $ ')\n",
    "plt.clim([-1,1])\n",
    "plt.show()\n"
   ]
  },
  {
   "cell_type": "code",
   "execution_count": null,
   "metadata": {},
   "outputs": [],
   "source": []
  }
 ],
 "metadata": {
  "kernelspec": {
   "display_name": "Python 3",
   "language": "python",
   "name": "python3"
  },
  "language_info": {
   "codemirror_mode": {
    "name": "ipython",
    "version": 3
   },
   "file_extension": ".py",
   "mimetype": "text/x-python",
   "name": "python",
   "nbconvert_exporter": "python",
   "pygments_lexer": "ipython3",
   "version": "3.8.5"
  }
 },
 "nbformat": 4,
 "nbformat_minor": 2
}
