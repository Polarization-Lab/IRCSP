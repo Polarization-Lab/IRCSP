{
 "cells": [
  {
   "cell_type": "code",
   "execution_count": 2,
   "metadata": {},
   "outputs": [],
   "source": [
    "import numpy as np\n",
    "import pandas as pd\n",
    "import h5py\n",
    "import sys\n",
    "import matplotlib.pyplot as plt\n",
    "from statistics import mean\n",
    "from scipy.optimize import curve_fit\n",
    "\n",
    "sys.path.insert(0, './radiometric')\n",
    "from LUT_functions import pixel_registration, create_LUT_df\n",
    "import scipy\n",
    "\n",
    "# Seaborn for plotting and styling\n",
    "import seaborn as sns\n",
    "sns.set_theme()\n",
    "sns.set_style(\"whitegrid\", {'axes.grid' : False})"
   ]
  },
  {
   "cell_type": "code",
   "execution_count": 3,
   "metadata": {},
   "outputs": [],
   "source": [
    "#choose filepath to desired data\n",
    "path = '/Users/kirahart/Dropbox/GitHub/IRCSP2_data/calibration_data/BBpolarized/'\n",
    "cal_file1 =  \"/Users/kirahart/Dropbox/GitHub/IRCSP2_data/calibration_files/cam1pixel.h5\"\n",
    "cal_file2 =  \"/Users/kirahart/Dropbox/GitHub/IRCSP2_data/calibration_files/cam2pixel.h5\""
   ]
  },
  {
   "cell_type": "code",
   "execution_count": 4,
   "metadata": {},
   "outputs": [],
   "source": [
    "#will create a df and print the names of the keys in the original hdf5 file\n",
    "df1 = create_LUT_df(path,'cam1_0deg.h5')\n",
    "df2 = create_LUT_df(path,'cam2_0deg.h5')"
   ]
  },
  {
   "cell_type": "code",
   "execution_count": 5,
   "metadata": {},
   "outputs": [],
   "source": [
    "waves= np.linspace(7,12,61)\n",
    "lps = [0,10,20,30,40,50,60,70,80,90,110,130,150,170]\n",
    "angles = np.round(np.linspace(-7.07,7.07,35),1)"
   ]
  },
  {
   "cell_type": "code",
   "execution_count": 6,
   "metadata": {},
   "outputs": [],
   "source": [
    "#import nuc calibration\n",
    "sys.path.insert(0, './NUC')\n",
    "from NUC_functions import import_NUC, apply_NUC\n",
    "cal_path = '/Users/kirahart/Dropbox/GitHub/IRCSP2_data/calibration_files/NUC.h5'\n",
    "\n",
    "m1,b1,T_ref1,m2,b2,T_ref2 = import_NUC(cal_path)"
   ]
  },
  {
   "cell_type": "code",
   "execution_count": 7,
   "metadata": {},
   "outputs": [],
   "source": [
    "#apply pixel registration and NUC to full dataset\n",
    "\n",
    "ymin1 = 105; ymax1 = 140;\n",
    "ymin2 = 130; ymax2 = 165;\n",
    "\n",
    "mean_ims1 =[]\n",
    "mean_ims2 =[]\n",
    "std_ims1  =[]\n",
    "std_ims2  =[]\n",
    "\n",
    "mean_ims1n =[]\n",
    "mean_ims2n =[]\n",
    "std_ims1n  =[]\n",
    "std_ims2n  =[]\n",
    "\n",
    "for i in lps:\n",
    "    #will create a df and print the names of the keys in the original hdf5 file\n",
    "    df1 = create_LUT_df(path,'cam1_'+str(i)+'deg.h5')\n",
    "    df2 = create_LUT_df(path,'cam2_'+str(i)+'deg.h5')\n",
    "    \n",
    "    corrected_images1= [] ; corrected_images1n= [];\n",
    "    corrected_images2= [] ; corrected_images2n= []\n",
    "\n",
    "    for i in range(len(df1)):\n",
    "        #first without NUC correction\n",
    "        r = df1['images1'][i];\n",
    "        c = pixel_registration(r,cal_file1,waves,ymin1,ymax1)\n",
    "        \n",
    "        #now with NUC correction\n",
    "        T = df1['temp1'][i];\n",
    "        rn = apply_NUC(r,T,m1,b1,T_ref1)\n",
    "        cn = pixel_registration(rn,cal_file1,waves,ymin1,ymax1)\n",
    "        \n",
    "        corrected_images1.append(c)\n",
    "        corrected_images1n.append(cn)\n",
    "\n",
    "    for i in range(len(df2)):\n",
    "        #first without NUC correction\n",
    "        r = df2['images1'][i];\n",
    "        c = pixel_registration(r,cal_file2,waves,ymin2,ymax2)\n",
    "        \n",
    "        #now with NUC correction\n",
    "        T = df2['temp1'][i];\n",
    "        rn = apply_NUC(r,T,m2,b2,T_ref2)\n",
    "        cn = pixel_registration(rn,cal_file2,waves,ymin2,ymax2)\n",
    "        \n",
    "        corrected_images2.append(c)\n",
    "        corrected_images2n.append(cn)\n",
    "\n",
    "    mean_ims1.append(np.mean(corrected_images1,axis = 0))\n",
    "    mean_ims1n.append(np.mean(corrected_images1n,axis = 0))\n",
    "    mean_ims2.append(np.mean(corrected_images2,axis = 0))\n",
    "    mean_ims2n.append(np.mean(corrected_images2n,axis = 0))\n",
    "\n",
    "\n",
    "    std_ims1.append(np.std(corrected_images1,axis = 0))\n",
    "    std_ims2.append(np.std(corrected_images2,axis = 0))\n",
    "    std_ims1n.append(np.std(corrected_images1n,axis = 0))\n",
    "    std_ims2n.append(np.std(corrected_images2n,axis = 0))"
   ]
  },
  {
   "cell_type": "code",
   "execution_count": 8,
   "metadata": {},
   "outputs": [],
   "source": [
    "d = {'lps': lps, 'ims1': list(mean_ims1),'s1': list(std_ims1), 'ims2':list(mean_ims2),'s2': list(std_ims2)}\n",
    "dn = {'lps': lps, 'ims1': list(mean_ims1n),'s1': list(std_ims1n), 'ims2':list(mean_ims2n),'s2': list(std_ims2n)}\n"
   ]
  },
  {
   "cell_type": "code",
   "execution_count": 9,
   "metadata": {},
   "outputs": [
    {
     "data": {
      "text/html": [
       "<div>\n",
       "<style scoped>\n",
       "    .dataframe tbody tr th:only-of-type {\n",
       "        vertical-align: middle;\n",
       "    }\n",
       "\n",
       "    .dataframe tbody tr th {\n",
       "        vertical-align: top;\n",
       "    }\n",
       "\n",
       "    .dataframe thead th {\n",
       "        text-align: right;\n",
       "    }\n",
       "</style>\n",
       "<table border=\"1\" class=\"dataframe\">\n",
       "  <thead>\n",
       "    <tr style=\"text-align: right;\">\n",
       "      <th></th>\n",
       "      <th>lps</th>\n",
       "      <th>ims1</th>\n",
       "      <th>s1</th>\n",
       "      <th>ims2</th>\n",
       "      <th>s2</th>\n",
       "    </tr>\n",
       "  </thead>\n",
       "  <tbody>\n",
       "    <tr>\n",
       "      <th>0</th>\n",
       "      <td>0</td>\n",
       "      <td>[[23026.854330353686, 23033.460759659847, 2304...</td>\n",
       "      <td>[[2.2303989602829404, 2.685945593641517, 1.657...</td>\n",
       "      <td>[[22487.542258331192, 22493.746684200833, 2249...</td>\n",
       "      <td>[[4.398206401020674, 3.5266980112629245, 3.639...</td>\n",
       "    </tr>\n",
       "    <tr>\n",
       "      <th>1</th>\n",
       "      <td>10</td>\n",
       "      <td>[[23034.823096117507, 23044.012564209956, 2305...</td>\n",
       "      <td>[[1.8501241799012127, 2.695888484453369, 2.391...</td>\n",
       "      <td>[[22495.636972449476, 22501.315688769, 22502.2...</td>\n",
       "      <td>[[4.757171125937215, 5.210141865977874, 5.3990...</td>\n",
       "    </tr>\n",
       "    <tr>\n",
       "      <th>2</th>\n",
       "      <td>20</td>\n",
       "      <td>[[23030.564572353145, 23037.91713302429, 23044...</td>\n",
       "      <td>[[1.52184465425815, 1.861779022575204, 1.26879...</td>\n",
       "      <td>[[22487.265360962832, 22493.515159914718, 2249...</td>\n",
       "      <td>[[4.9271994662980525, 4.025032761052026, 3.794...</td>\n",
       "    </tr>\n",
       "    <tr>\n",
       "      <th>3</th>\n",
       "      <td>30</td>\n",
       "      <td>[[23028.93609535835, 23036.346455534287, 23044...</td>\n",
       "      <td>[[1.5151353386361666, 2.0508542318854426, 1.54...</td>\n",
       "      <td>[[22480.30579795174, 22488.79087503733, 22486....</td>\n",
       "      <td>[[3.819254049383103, 3.756255213292122, 4.1453...</td>\n",
       "    </tr>\n",
       "    <tr>\n",
       "      <th>4</th>\n",
       "      <td>40</td>\n",
       "      <td>[[23029.661789045833, 23037.37862351923, 23046...</td>\n",
       "      <td>[[2.1298034897520677, 2.902873595654444, 1.858...</td>\n",
       "      <td>[[22496.192821785728, 22502.601409767765, 2250...</td>\n",
       "      <td>[[7.68712303671534, 6.713531942097864, 6.98512...</td>\n",
       "    </tr>\n",
       "    <tr>\n",
       "      <th>5</th>\n",
       "      <td>50</td>\n",
       "      <td>[[23031.320647551034, 23039.78085965795, 23047...</td>\n",
       "      <td>[[1.4488179984306377, 1.7919174879491908, 1.30...</td>\n",
       "      <td>[[22492.175888768714, 22497.77178652453, 22495...</td>\n",
       "      <td>[[5.7783820404498645, 4.754691757897911, 5.054...</td>\n",
       "    </tr>\n",
       "    <tr>\n",
       "      <th>6</th>\n",
       "      <td>60</td>\n",
       "      <td>[[23033.04038526751, 23042.03918857356, 23048....</td>\n",
       "      <td>[[2.9302484059739133, 4.22441932521147, 3.4743...</td>\n",
       "      <td>[[22483.622177112895, 22490.78999972369, 22489...</td>\n",
       "      <td>[[4.433564532928809, 4.338865103146001, 5.1225...</td>\n",
       "    </tr>\n",
       "    <tr>\n",
       "      <th>7</th>\n",
       "      <td>70</td>\n",
       "      <td>[[23006.023169820728, 23007.490408365193, 2302...</td>\n",
       "      <td>[[1.2054898715341527, 1.5756076795775888, 1.02...</td>\n",
       "      <td>[[22499.749254413447, 22505.094264521467, 2250...</td>\n",
       "      <td>[[8.419690922725703, 7.883949746400643, 7.4861...</td>\n",
       "    </tr>\n",
       "    <tr>\n",
       "      <th>8</th>\n",
       "      <td>80</td>\n",
       "      <td>[[23017.58489123953, 23022.305652303672, 23036...</td>\n",
       "      <td>[[5.171013194460856, 6.626868382643233, 4.0987...</td>\n",
       "      <td>[[22493.56514200171, 22498.320577984952, 22498...</td>\n",
       "      <td>[[5.315279622227438, 5.880567631885249, 5.8355...</td>\n",
       "    </tr>\n",
       "    <tr>\n",
       "      <th>9</th>\n",
       "      <td>90</td>\n",
       "      <td>[[23002.88219776157, 23003.363232935768, 23024...</td>\n",
       "      <td>[[0.7534383362844265, 0.9209990095174667, 0.67...</td>\n",
       "      <td>[[22512.04993038482, 22514.103797753094, 22516...</td>\n",
       "      <td>[[4.570100390950355, 4.313770610832317, 3.7885...</td>\n",
       "    </tr>\n",
       "    <tr>\n",
       "      <th>10</th>\n",
       "      <td>110</td>\n",
       "      <td>[[23031.66363144722, 23039.886496687763, 23045...</td>\n",
       "      <td>[[1.0211534938367692, 1.2247596984243032, 0.72...</td>\n",
       "      <td>[[22511.33695160468, 22516.291084073215, 22517...</td>\n",
       "      <td>[[4.393167442833372, 3.7396317745503835, 4.042...</td>\n",
       "    </tr>\n",
       "    <tr>\n",
       "      <th>11</th>\n",
       "      <td>130</td>\n",
       "      <td>[[23033.13709266731, 23041.627025355596, 23046...</td>\n",
       "      <td>[[0.8228634296422191, 1.0161275536567782, 0.57...</td>\n",
       "      <td>[[22516.59288027517, 22519.33838516712, 22522....</td>\n",
       "      <td>[[4.5354417992941105, 4.84461811417686, 4.5490...</td>\n",
       "    </tr>\n",
       "    <tr>\n",
       "      <th>12</th>\n",
       "      <td>150</td>\n",
       "      <td>[[23031.59473654874, 23039.66475548623, 23045....</td>\n",
       "      <td>[[3.5614675633013864, 4.5898010123394695, 2.70...</td>\n",
       "      <td>[[22509.21131226019, 22512.99775413192, 22516....</td>\n",
       "      <td>[[4.916237488469507, 4.043600645433593, 4.1240...</td>\n",
       "    </tr>\n",
       "    <tr>\n",
       "      <th>13</th>\n",
       "      <td>170</td>\n",
       "      <td>[[23030.64397217371, 23038.46573705632, 23045....</td>\n",
       "      <td>[[0.8586142937477038, 0.9849912229553, 0.50062...</td>\n",
       "      <td>[[22527.674004755463, 22537.39177874963, 22538...</td>\n",
       "      <td>[[7.387331257788881, 7.064123237395518, 7.0891...</td>\n",
       "    </tr>\n",
       "  </tbody>\n",
       "</table>\n",
       "</div>"
      ],
      "text/plain": [
       "    lps                                               ims1  \\\n",
       "0     0  [[23026.854330353686, 23033.460759659847, 2304...   \n",
       "1    10  [[23034.823096117507, 23044.012564209956, 2305...   \n",
       "2    20  [[23030.564572353145, 23037.91713302429, 23044...   \n",
       "3    30  [[23028.93609535835, 23036.346455534287, 23044...   \n",
       "4    40  [[23029.661789045833, 23037.37862351923, 23046...   \n",
       "5    50  [[23031.320647551034, 23039.78085965795, 23047...   \n",
       "6    60  [[23033.04038526751, 23042.03918857356, 23048....   \n",
       "7    70  [[23006.023169820728, 23007.490408365193, 2302...   \n",
       "8    80  [[23017.58489123953, 23022.305652303672, 23036...   \n",
       "9    90  [[23002.88219776157, 23003.363232935768, 23024...   \n",
       "10  110  [[23031.66363144722, 23039.886496687763, 23045...   \n",
       "11  130  [[23033.13709266731, 23041.627025355596, 23046...   \n",
       "12  150  [[23031.59473654874, 23039.66475548623, 23045....   \n",
       "13  170  [[23030.64397217371, 23038.46573705632, 23045....   \n",
       "\n",
       "                                                   s1  \\\n",
       "0   [[2.2303989602829404, 2.685945593641517, 1.657...   \n",
       "1   [[1.8501241799012127, 2.695888484453369, 2.391...   \n",
       "2   [[1.52184465425815, 1.861779022575204, 1.26879...   \n",
       "3   [[1.5151353386361666, 2.0508542318854426, 1.54...   \n",
       "4   [[2.1298034897520677, 2.902873595654444, 1.858...   \n",
       "5   [[1.4488179984306377, 1.7919174879491908, 1.30...   \n",
       "6   [[2.9302484059739133, 4.22441932521147, 3.4743...   \n",
       "7   [[1.2054898715341527, 1.5756076795775888, 1.02...   \n",
       "8   [[5.171013194460856, 6.626868382643233, 4.0987...   \n",
       "9   [[0.7534383362844265, 0.9209990095174667, 0.67...   \n",
       "10  [[1.0211534938367692, 1.2247596984243032, 0.72...   \n",
       "11  [[0.8228634296422191, 1.0161275536567782, 0.57...   \n",
       "12  [[3.5614675633013864, 4.5898010123394695, 2.70...   \n",
       "13  [[0.8586142937477038, 0.9849912229553, 0.50062...   \n",
       "\n",
       "                                                 ims2  \\\n",
       "0   [[22487.542258331192, 22493.746684200833, 2249...   \n",
       "1   [[22495.636972449476, 22501.315688769, 22502.2...   \n",
       "2   [[22487.265360962832, 22493.515159914718, 2249...   \n",
       "3   [[22480.30579795174, 22488.79087503733, 22486....   \n",
       "4   [[22496.192821785728, 22502.601409767765, 2250...   \n",
       "5   [[22492.175888768714, 22497.77178652453, 22495...   \n",
       "6   [[22483.622177112895, 22490.78999972369, 22489...   \n",
       "7   [[22499.749254413447, 22505.094264521467, 2250...   \n",
       "8   [[22493.56514200171, 22498.320577984952, 22498...   \n",
       "9   [[22512.04993038482, 22514.103797753094, 22516...   \n",
       "10  [[22511.33695160468, 22516.291084073215, 22517...   \n",
       "11  [[22516.59288027517, 22519.33838516712, 22522....   \n",
       "12  [[22509.21131226019, 22512.99775413192, 22516....   \n",
       "13  [[22527.674004755463, 22537.39177874963, 22538...   \n",
       "\n",
       "                                                   s2  \n",
       "0   [[4.398206401020674, 3.5266980112629245, 3.639...  \n",
       "1   [[4.757171125937215, 5.210141865977874, 5.3990...  \n",
       "2   [[4.9271994662980525, 4.025032761052026, 3.794...  \n",
       "3   [[3.819254049383103, 3.756255213292122, 4.1453...  \n",
       "4   [[7.68712303671534, 6.713531942097864, 6.98512...  \n",
       "5   [[5.7783820404498645, 4.754691757897911, 5.054...  \n",
       "6   [[4.433564532928809, 4.338865103146001, 5.1225...  \n",
       "7   [[8.419690922725703, 7.883949746400643, 7.4861...  \n",
       "8   [[5.315279622227438, 5.880567631885249, 5.8355...  \n",
       "9   [[4.570100390950355, 4.313770610832317, 3.7885...  \n",
       "10  [[4.393167442833372, 3.7396317745503835, 4.042...  \n",
       "11  [[4.5354417992941105, 4.84461811417686, 4.5490...  \n",
       "12  [[4.916237488469507, 4.043600645433593, 4.1240...  \n",
       "13  [[7.387331257788881, 7.064123237395518, 7.0891...  "
      ]
     },
     "execution_count": 9,
     "metadata": {},
     "output_type": "execute_result"
    }
   ],
   "source": [
    "df = pd.DataFrame.from_dict(d, orient='index')\n",
    "df = df.transpose()\n",
    "\n",
    "dfn = pd.DataFrame.from_dict(dn, orient='index')\n",
    "dfn = dfn.transpose()\n",
    "\n",
    "dfn"
   ]
  },
  {
   "cell_type": "code",
   "execution_count": 10,
   "metadata": {},
   "outputs": [
    {
     "name": "stderr",
     "output_type": "stream",
     "text": [
      "/Users/kirahart/anaconda3/lib/python3.8/site-packages/pandas/core/generic.py:2434: PerformanceWarning: \n",
      "your performance may suffer as PyTables will pickle object types that it cannot\n",
      "map directly to c-types [inferred_type->mixed-integer,key->block0_values] [items->Index(['lps', 'ims1', 's1', 'ims2', 's2'], dtype='object')]\n",
      "\n",
      "  pytables.to_hdf(\n"
     ]
    }
   ],
   "source": [
    "\n",
    "df.to_hdf('/Users/kirahart/Dropbox/GitHub/IRCSP2_data/calibration_data/LUT/df_pol.h5', key='s')\n",
    "dfn.to_hdf('/Users/kirahart/Dropbox/GitHub/IRCSP2_data/calibration_data/LUT/df_pol_NUC.h5', key='s')\n"
   ]
  },
  {
   "cell_type": "code",
   "execution_count": 11,
   "metadata": {},
   "outputs": [],
   "source": [
    "def finv(y,A,B):\n",
    "    return ((y-B)/A)**0.5\n"
   ]
  },
  {
   "cell_type": "code",
   "execution_count": 12,
   "metadata": {},
   "outputs": [],
   "source": [
    "#import radiometric data\n",
    "\n",
    "#choose filepath to desired data\n",
    "save_path =   '/Users/kirahart/Dropbox/GitHub/IRCSP2_data/calibration_files/'\n",
    "name =  \"LUT.h5\" \n",
    "\n",
    "hf = h5py.File(save_path+name, 'r')\n",
    "B2 = hf.get('B2')\n",
    "B1 = hf.get('B1')"
   ]
  },
  {
   "cell_type": "code",
   "execution_count": 13,
   "metadata": {},
   "outputs": [
    {
     "data": {
      "image/png": "[encoded data removed]",
      "text/plain": [
       "<Figure size 501.943x288 with 2 Axes>"
      ]
     },
     "metadata": {},
     "output_type": "display_data"
    }
   ],
   "source": [
    "\n",
    "j = 10;\n",
    "I1 = df['ims1'][j]-B1\n",
    "I2 = df['ims2'][j]-B2\n",
    "plt.matshow((I1-I2)/(I1+I2),cmap = 'inferno' )\n",
    "plt.colorbar()\n",
    "plt.ylabel('Angular FOV [$^\\circ$]')\n",
    "plt.xlabel('Wavelength [$\\mu m$]')\n",
    "plt.ax = plt.gca()\n",
    "plt.ax.xaxis.set_ticks_position('bottom')\n",
    "plt.xticks([0, 20, 40,60], [waves[0],round(waves[20]),waves[30],waves[60]])\n",
    "plt.yticks([0, 9,17,26,34], [angles[0], angles[9],angles[17],angles[26],angles[34]])\n",
    "plt.title('Modulation Function, AOLP = ' + str(lps[j])+ '$ ^\\circ $ ')\n",
    "plt.clim([-1,1])\n",
    "plt.show()\n"
   ]
  },
  {
   "cell_type": "code",
   "execution_count": 14,
   "metadata": {},
   "outputs": [],
   "source": [
    "#create sum column\n",
    "df[\"totalrad\"] = df['ims2']+df['ims1']\n",
    "df[\"totalstd\"] = (df['s2']**2+df['s1']**2)**0.5"
   ]
  },
  {
   "cell_type": "code",
   "execution_count": 15,
   "metadata": {},
   "outputs": [
    {
     "data": {
      "image/png": "[encoded data removed]",
      "text/plain": [
       "<Figure size 501.943x288 with 2 Axes>"
      ]
     },
     "metadata": {},
     "output_type": "display_data"
    }
   ],
   "source": [
    "cmin = np.min(list(df['totalrad'])); cmax=np.max(list(df['totalrad']))\n",
    "\n",
    "j = 5;\n",
    "plt.matshow(df['totalrad'][j],cmap = 'inferno' )\n",
    "plt.colorbar()\n",
    "plt.ylabel('Spatial Sampling')\n",
    "plt.xlabel('Wavelength [$\\mu m$]')\n",
    "plt.ax = plt.gca()\n",
    "plt.ax.xaxis.set_ticks_position('bottom')\n",
    "plt.xticks([0, 20, 40,60], [waves[0],round(waves[20]),waves[30],waves[60]])\n",
    "plt.title('AOLP = ' + str(lps[j])+ '$^\\circ $ \\n no NUC')\n",
    "#plt.clim(cmin,cmax)\n",
    "plt.show()"
   ]
  },
  {
   "cell_type": "code",
   "execution_count": 16,
   "metadata": {},
   "outputs": [],
   "source": [
    "# pixel fit \n",
    "def f(x, A, B): # this is your 'straight line' y=f(x)\n",
    "    return A*x**2 + B\n",
    "\n",
    "def finv(y,A,B):\n",
    "    return ((y-B)/A)**0.5\n"
   ]
  },
  {
   "cell_type": "code",
   "execution_count": 17,
   "metadata": {},
   "outputs": [
    {
     "ename": "NameError",
     "evalue": "name 'get_slice' is not defined",
     "output_type": "error",
     "traceback": [
      "\u001b[0;31m---------------------------------------------------------------------------\u001b[0m",
      "\u001b[0;31mNameError\u001b[0m                                 Traceback (most recent call last)",
      "\u001b[0;32m<ipython-input-17-4d41ea2d73d9>\u001b[0m in \u001b[0;36m<module>\u001b[0;34m\u001b[0m\n\u001b[1;32m      1\u001b[0m \u001b[0mx\u001b[0m \u001b[0;34m=\u001b[0m \u001b[0;36m10\u001b[0m\u001b[0;34m\u001b[0m\u001b[0;34m\u001b[0m\u001b[0m\n\u001b[1;32m      2\u001b[0m \u001b[0my\u001b[0m \u001b[0;34m=\u001b[0m \u001b[0;36m30\u001b[0m\u001b[0;34m\u001b[0m\u001b[0;34m\u001b[0m\u001b[0m\n\u001b[0;32m----> 3\u001b[0;31m \u001b[0mplt\u001b[0m\u001b[0;34m.\u001b[0m\u001b[0merrorbar\u001b[0m\u001b[0;34m(\u001b[0m\u001b[0mdfn\u001b[0m\u001b[0;34m[\u001b[0m\u001b[0;34m'lps'\u001b[0m\u001b[0;34m]\u001b[0m\u001b[0;34m,\u001b[0m\u001b[0mget_slice\u001b[0m\u001b[0;34m(\u001b[0m\u001b[0mdfn\u001b[0m\u001b[0;34m[\u001b[0m\u001b[0;34m'ims2'\u001b[0m\u001b[0;34m]\u001b[0m\u001b[0;34m,\u001b[0m\u001b[0mx\u001b[0m\u001b[0;34m,\u001b[0m\u001b[0my\u001b[0m\u001b[0;34m)\u001b[0m\u001b[0;34m,\u001b[0m\u001b[0mlabel\u001b[0m \u001b[0;34m=\u001b[0m \u001b[0;34m'no NUC'\u001b[0m\u001b[0;34m)\u001b[0m\u001b[0;34m\u001b[0m\u001b[0;34m\u001b[0m\u001b[0m\n\u001b[0m\u001b[1;32m      4\u001b[0m \u001b[0;31m#plt.errorbar(df['lps'],get_slice_avg(df['ims1'],x),yerr=get_slice_avg(df['s1'],x),label = 'no NUC')\u001b[0m\u001b[0;34m\u001b[0m\u001b[0;34m\u001b[0m\u001b[0;34m\u001b[0m\u001b[0m\n\u001b[1;32m      5\u001b[0m \u001b[0mplt\u001b[0m\u001b[0;34m.\u001b[0m\u001b[0mtitle\u001b[0m\u001b[0;34m(\u001b[0m\u001b[0;34m'spatially averaged response \\n $\\lambda = $'\u001b[0m \u001b[0;34m+\u001b[0m \u001b[0mstr\u001b[0m\u001b[0;34m(\u001b[0m\u001b[0mround\u001b[0m\u001b[0;34m(\u001b[0m\u001b[0mwaves\u001b[0m\u001b[0;34m[\u001b[0m\u001b[0mx\u001b[0m\u001b[0;34m]\u001b[0m\u001b[0;34m,\u001b[0m\u001b[0;36m2\u001b[0m\u001b[0;34m)\u001b[0m\u001b[0;34m)\u001b[0m \u001b[0;34m+\u001b[0m \u001b[0;34m' $  \\mu m$'\u001b[0m\u001b[0;34m)\u001b[0m\u001b[0;34m\u001b[0m\u001b[0;34m\u001b[0m\u001b[0m\n",
      "\u001b[0;31mNameError\u001b[0m: name 'get_slice' is not defined"
     ]
    }
   ],
   "source": [
    "x = 10\n",
    "y = 30\n",
    "plt.errorbar(dfn['lps'],get_slice(dfn['ims2'],x,y),label = 'no NUC')\n",
    "#plt.errorbar(df['lps'],get_slice_avg(df['ims1'],x),yerr=get_slice_avg(df['s1'],x),label = 'no NUC')\n",
    "plt.title('spatially averaged response \\n $\\lambda = $' + str(round(waves[x],2)) + ' $  \\mu m$')\n",
    "plt.xlabel('Scene Temperature [$^\\circ C$ ] ')\n",
    "plt.ylabel('avg camera count')\n",
    "plt.legend()\n",
    "plt.show()\n"
   ]
  },
  {
   "cell_type": "code",
   "execution_count": null,
   "metadata": {},
   "outputs": [],
   "source": [
    "def get_slice(df,x,y):\n",
    "    sli = []\n",
    "    for i in range(len(df)):\n",
    "        s = df[i]\n",
    "        sli.append(s[y,x])\n",
    "    return(sli)\n",
    "\n",
    "def get_slice_avg(df,x):\n",
    "    sli = []\n",
    "    for i in range(len(df)):\n",
    "        s = df[i]\n",
    "        sli.append(np.mean(s[:,x]))\n",
    "    return(sli)"
   ]
  },
  {
   "cell_type": "code",
   "execution_count": null,
   "metadata": {},
   "outputs": [],
   "source": [
    "''''playing with off set '''\n",
    "\n",
    "j = 10;\n",
    "I1 = df['ims1'][j]-B1\n",
    "I2 = df['ims2'][j]-B2\n",
    "plt.matshow(I1,cmap = 'inferno' )\n",
    "plt.colorbar()\n",
    "plt.ylabel('Angular FOV [$^\\circ$]')\n",
    "plt.xlabel('Wavelength [$\\mu m$]')\n",
    "plt.ax = plt.gca()\n",
    "plt.ax.xaxis.set_ticks_position('bottom')\n",
    "plt.xticks([0, 20, 40,60], [waves[0],round(waves[20]),waves[30],waves[60]])\n",
    "plt.yticks([0, 9,17,26,34], [angles[0], angles[9],angles[17],angles[26],angles[34]])\n",
    "plt.title('Modulation Function, AOLP = ' + str(lps[j])+ '$ ^\\circ $ ')\n",
    "plt.clim([-1,1])\n",
    "plt.show()\n"
   ]
  },
  {
   "cell_type": "code",
   "execution_count": null,
   "metadata": {},
   "outputs": [],
   "source": []
  }
 ],
 "metadata": {
  "kernelspec": {
   "display_name": "Python 3",
   "language": "python",
   "name": "python3"
  },
  "language_info": {
   "codemirror_mode": {
    "name": "ipython",
    "version": 3
   },
   "file_extension": ".py",
   "mimetype": "text/x-python",
   "name": "python",
   "nbconvert_exporter": "python",
   "pygments_lexer": "ipython3",
   "version": "3.8.5"
  }
 },
 "nbformat": 4,
 "nbformat_minor": 2
}
