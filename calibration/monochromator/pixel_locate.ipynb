{
 "cells": [
  {
   "cell_type": "code",
   "execution_count": 41,
   "metadata": {},
   "outputs": [],
   "source": [
    "import numpy as np\n",
    "import pandas as pd\n",
    "import h5py\n",
    "import matplotlib.pyplot as plt\n",
    "from mono_functions import create_mono_df,locate_max"
   ]
  },
  {
   "cell_type": "code",
   "execution_count": 2,
   "metadata": {},
   "outputs": [],
   "source": [
    "#choose filepath to desired data\n",
    "path =  \"C://Users//khart//Documents//IRCSP2_data//mono_data//\"\n",
    "name =  \"boson3_test.h5\" "
   ]
  },
  {
   "cell_type": "code",
   "execution_count": 3,
   "metadata": {},
   "outputs": [
    {
     "name": "stdout",
     "output_type": "stream",
     "text": [
      "Keys: <KeysViewHDF5 ['images', 'response', 'std', 'wavelengths']>\n"
     ]
    }
   ],
   "source": [
    "#will create a df and print the names of the keys in the original hdf5 file\n",
    "df = create_mono_df(path,name)"
   ]
  },
  {
   "cell_type": "code",
   "execution_count": 4,
   "metadata": {},
   "outputs": [
    {
     "data": {
      "text/html": [
       "<div>\n",
       "<style scoped>\n",
       "    .dataframe tbody tr th:only-of-type {\n",
       "        vertical-align: middle;\n",
       "    }\n",
       "\n",
       "    .dataframe tbody tr th {\n",
       "        vertical-align: top;\n",
       "    }\n",
       "\n",
       "    .dataframe thead th {\n",
       "        text-align: right;\n",
       "    }\n",
       "</style>\n",
       "<table border=\"1\" class=\"dataframe\">\n",
       "  <thead>\n",
       "    <tr style=\"text-align: right;\">\n",
       "      <th></th>\n",
       "      <th>images</th>\n",
       "      <th>response</th>\n",
       "      <th>std</th>\n",
       "      <th>wavelengths</th>\n",
       "    </tr>\n",
       "  </thead>\n",
       "  <tbody>\n",
       "    <tr>\n",
       "      <td>0</td>\n",
       "      <td>[[23644, 23634, 23632, 23620, 23612, 23641, 23...</td>\n",
       "      <td>23598.810725</td>\n",
       "      <td>31.320266</td>\n",
       "      <td>6.000000</td>\n",
       "    </tr>\n",
       "    <tr>\n",
       "      <td>1</td>\n",
       "      <td>[[23639, 23634, 23635, 23617, 23613, 23654, 23...</td>\n",
       "      <td>23599.255850</td>\n",
       "      <td>31.513318</td>\n",
       "      <td>6.101266</td>\n",
       "    </tr>\n",
       "    <tr>\n",
       "      <td>2</td>\n",
       "      <td>[[23640, 23619, 23627, 23637, 23622, 23639, 23...</td>\n",
       "      <td>23599.008400</td>\n",
       "      <td>31.591200</td>\n",
       "      <td>6.202532</td>\n",
       "    </tr>\n",
       "    <tr>\n",
       "      <td>3</td>\n",
       "      <td>[[23638, 23617, 23630, 23623, 23622, 23635, 23...</td>\n",
       "      <td>23598.143975</td>\n",
       "      <td>31.806677</td>\n",
       "      <td>6.303797</td>\n",
       "    </tr>\n",
       "    <tr>\n",
       "      <td>4</td>\n",
       "      <td>[[23634, 23617, 23643, 23616, 23623, 23634, 23...</td>\n",
       "      <td>23598.585000</td>\n",
       "      <td>32.100472</td>\n",
       "      <td>6.405063</td>\n",
       "    </tr>\n",
       "    <tr>\n",
       "      <td>...</td>\n",
       "      <td>...</td>\n",
       "      <td>...</td>\n",
       "      <td>...</td>\n",
       "      <td>...</td>\n",
       "    </tr>\n",
       "    <tr>\n",
       "      <td>75</td>\n",
       "      <td>[[23641, 23629, 23648, 23640, 23639, 23653, 23...</td>\n",
       "      <td>23593.975188</td>\n",
       "      <td>39.138205</td>\n",
       "      <td>13.594937</td>\n",
       "    </tr>\n",
       "    <tr>\n",
       "      <td>76</td>\n",
       "      <td>[[23644, 23628, 23642, 23631, 23638, 23647, 23...</td>\n",
       "      <td>23589.738662</td>\n",
       "      <td>38.870978</td>\n",
       "      <td>13.696203</td>\n",
       "    </tr>\n",
       "    <tr>\n",
       "      <td>77</td>\n",
       "      <td>[[23648, 23629, 23666, 23636, 23636, 23663, 23...</td>\n",
       "      <td>23589.939813</td>\n",
       "      <td>39.283792</td>\n",
       "      <td>13.797468</td>\n",
       "    </tr>\n",
       "    <tr>\n",
       "      <td>78</td>\n",
       "      <td>[[23650, 23635, 23654, 23624, 23632, 23654, 23...</td>\n",
       "      <td>23589.878350</td>\n",
       "      <td>39.627730</td>\n",
       "      <td>13.898734</td>\n",
       "    </tr>\n",
       "    <tr>\n",
       "      <td>79</td>\n",
       "      <td>[[23659, 23639, 23655, 23634, 23630, 23635, 23...</td>\n",
       "      <td>23593.244825</td>\n",
       "      <td>39.620456</td>\n",
       "      <td>14.000000</td>\n",
       "    </tr>\n",
       "  </tbody>\n",
       "</table>\n",
       "<p>80 rows × 4 columns</p>\n",
       "</div>"
      ],
      "text/plain": [
       "                                               images      response  \\\n",
       "0   [[23644, 23634, 23632, 23620, 23612, 23641, 23...  23598.810725   \n",
       "1   [[23639, 23634, 23635, 23617, 23613, 23654, 23...  23599.255850   \n",
       "2   [[23640, 23619, 23627, 23637, 23622, 23639, 23...  23599.008400   \n",
       "3   [[23638, 23617, 23630, 23623, 23622, 23635, 23...  23598.143975   \n",
       "4   [[23634, 23617, 23643, 23616, 23623, 23634, 23...  23598.585000   \n",
       "..                                                ...           ...   \n",
       "75  [[23641, 23629, 23648, 23640, 23639, 23653, 23...  23593.975188   \n",
       "76  [[23644, 23628, 23642, 23631, 23638, 23647, 23...  23589.738662   \n",
       "77  [[23648, 23629, 23666, 23636, 23636, 23663, 23...  23589.939813   \n",
       "78  [[23650, 23635, 23654, 23624, 23632, 23654, 23...  23589.878350   \n",
       "79  [[23659, 23639, 23655, 23634, 23630, 23635, 23...  23593.244825   \n",
       "\n",
       "          std  wavelengths  \n",
       "0   31.320266     6.000000  \n",
       "1   31.513318     6.101266  \n",
       "2   31.591200     6.202532  \n",
       "3   31.806677     6.303797  \n",
       "4   32.100472     6.405063  \n",
       "..        ...          ...  \n",
       "75  39.138205    13.594937  \n",
       "76  38.870978    13.696203  \n",
       "77  39.283792    13.797468  \n",
       "78  39.627730    13.898734  \n",
       "79  39.620456    14.000000  \n",
       "\n",
       "[80 rows x 4 columns]"
      ]
     },
     "execution_count": 4,
     "metadata": {},
     "output_type": "execute_result"
    }
   ],
   "source": [
    "df"
   ]
  },
  {
   "cell_type": "code",
   "execution_count": 55,
   "metadata": {},
   "outputs": [
    {
     "data": {
      "text/plain": [
       "<matplotlib.image.AxesImage at 0x2d2bde3b2c8>"
      ]
     },
     "execution_count": 55,
     "metadata": {},
     "output_type": "execute_result"
    },
    {
     "data": {
      "image/png": "[encoded data removed]",
      "text/plain": [
       "<Figure size 672x288 with 1 Axes>"
      ]
     },
     "metadata": {
      "needs_background": "light"
     },
     "output_type": "display_data"
    }
   ],
   "source": [
    "plt.matshow(df[\"images\"][1][140:170,100:170])"
   ]
  },
  {
   "cell_type": "code",
   "execution_count": 42,
   "metadata": {},
   "outputs": [
    {
     "ename": "TypeError",
     "evalue": "cannot unpack non-iterable function object",
     "output_type": "error",
     "traceback": [
      "\u001b[1;31m---------------------------------------------------------------------------\u001b[0m",
      "\u001b[1;31mTypeError\u001b[0m                                 Traceback (most recent call last)",
      "\u001b[1;32m<ipython-input-42-6ce4cdc36438>\u001b[0m in \u001b[0;36m<module>\u001b[1;34m\u001b[0m\n\u001b[1;32m----> 1\u001b[1;33m \u001b[0mvalue\u001b[0m\u001b[1;33m,\u001b[0m\u001b[0mloc\u001b[0m \u001b[1;33m=\u001b[0m \u001b[0mlocate_max\u001b[0m\u001b[1;33m\u001b[0m\u001b[1;33m\u001b[0m\u001b[0m\n\u001b[0m",
      "\u001b[1;31mTypeError\u001b[0m: cannot unpack non-iterable function object"
     ]
    }
   ],
   "source": [
    "[value,loc] = locate_max(dr,'image',2,140,170,)"
   ]
  },
  {
   "cell_type": "code",
   "execution_count": 39,
   "metadata": {},
   "outputs": [
    {
     "data": {
      "image/png": "[encoded data removed]",
      "text/plain": [
       "<Figure size 432x288 with 2 Axes>"
      ]
     },
     "metadata": {
      "needs_background": "light"
     },
     "output_type": "display_data"
    }
   ],
   "source": [
    "plt.subplot(121)\n",
    "plt.plot(value)\n",
    "plt.title(\"max value in each row\")\n",
    "plt.subplot(122)\n",
    "plt.plot(loc)\n",
    "plt.title(\"location of max value\")\n",
    "plt.show()"
   ]
  },
  {
   "cell_type": "code",
   "execution_count": null,
   "metadata": {},
   "outputs": [],
   "source": []
  }
 ],
 "metadata": {
  "kernelspec": {
   "display_name": "Python 3",
   "language": "python",
   "name": "python3"
  },
  "language_info": {
   "codemirror_mode": {
    "name": "ipython",
    "version": 3
   },
   "file_extension": ".py",
   "mimetype": "text/x-python",
   "name": "python",
   "nbconvert_exporter": "python",
   "pygments_lexer": "ipython3",
   "version": "3.7.4"
  }
 },
 "nbformat": 4,
 "nbformat_minor": 2
}
