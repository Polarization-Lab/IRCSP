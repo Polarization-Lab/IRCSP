{
 "cells": [
  {
   "cell_type": "code",
   "execution_count": 381,
   "metadata": {},
   "outputs": [],
   "source": [
    "import numpy as np\n",
    "import pandas as pd\n",
    "import h5py\n",
    "import matplotlib.pyplot as plt\n",
    "from mono_functions import create_mono_df,locate_max\n",
    "from statistics import mean\n",
    "from scipy.optimize import curve_fit"
   ]
  },
  {
   "cell_type": "code",
   "execution_count": 524,
   "metadata": {},
   "outputs": [],
   "source": [
    "#choose filepath to desired data\n",
    "path =  \"C://Users//khart//Documents//IRCSP2_data//mono_data//\"\n",
    "name =  \"cam1_test.h5\" "
   ]
  },
  {
   "cell_type": "code",
   "execution_count": 525,
   "metadata": {},
   "outputs": [
    {
     "name": "stdout",
     "output_type": "stream",
     "text": [
      "Keys: <KeysViewHDF5 ['images', 'response', 'std', 'wavelengths']>\n"
     ]
    }
   ],
   "source": [
    "#will create a df and print the names of the keys in the original hdf5 file\n",
    "df = create_mono_df(path,name)"
   ]
  },
  {
   "cell_type": "code",
   "execution_count": 499,
   "metadata": {},
   "outputs": [
    {
     "data": {
      "text/html": [
       "<div>\n",
       "<style scoped>\n",
       "    .dataframe tbody tr th:only-of-type {\n",
       "        vertical-align: middle;\n",
       "    }\n",
       "\n",
       "    .dataframe tbody tr th {\n",
       "        vertical-align: top;\n",
       "    }\n",
       "\n",
       "    .dataframe thead th {\n",
       "        text-align: right;\n",
       "    }\n",
       "</style>\n",
       "<table border=\"1\" class=\"dataframe\">\n",
       "  <thead>\n",
       "    <tr style=\"text-align: right;\">\n",
       "      <th></th>\n",
       "      <th>images</th>\n",
       "      <th>response</th>\n",
       "      <th>std</th>\n",
       "      <th>wavelengths</th>\n",
       "    </tr>\n",
       "  </thead>\n",
       "  <tbody>\n",
       "    <tr>\n",
       "      <td>0</td>\n",
       "      <td>[[22303, 22313, 22339, 22326, 22351, 22339, 22...</td>\n",
       "      <td>22391.573050</td>\n",
       "      <td>51.832134</td>\n",
       "      <td>6.000000</td>\n",
       "    </tr>\n",
       "    <tr>\n",
       "      <td>1</td>\n",
       "      <td>[[22303, 22313, 22350, 22329, 22347, 22348, 22...</td>\n",
       "      <td>22391.499462</td>\n",
       "      <td>51.812621</td>\n",
       "      <td>6.101266</td>\n",
       "    </tr>\n",
       "    <tr>\n",
       "      <td>2</td>\n",
       "      <td>[[22311, 22334, 22350, 22338, 22358, 22352, 22...</td>\n",
       "      <td>22396.689275</td>\n",
       "      <td>51.880955</td>\n",
       "      <td>6.202532</td>\n",
       "    </tr>\n",
       "    <tr>\n",
       "      <td>3</td>\n",
       "      <td>[[22327, 22331, 22355, 22339, 22366, 22355, 22...</td>\n",
       "      <td>22398.169187</td>\n",
       "      <td>51.829236</td>\n",
       "      <td>6.303797</td>\n",
       "    </tr>\n",
       "    <tr>\n",
       "      <td>4</td>\n",
       "      <td>[[22327, 22341, 22357, 22344, 22363, 22335, 22...</td>\n",
       "      <td>22399.440413</td>\n",
       "      <td>51.923499</td>\n",
       "      <td>6.405063</td>\n",
       "    </tr>\n",
       "    <tr>\n",
       "      <td>...</td>\n",
       "      <td>...</td>\n",
       "      <td>...</td>\n",
       "      <td>...</td>\n",
       "      <td>...</td>\n",
       "    </tr>\n",
       "    <tr>\n",
       "      <td>75</td>\n",
       "      <td>[[22346, 22367, 22388, 22365, 22377, 22380, 22...</td>\n",
       "      <td>22416.026963</td>\n",
       "      <td>52.421999</td>\n",
       "      <td>13.594937</td>\n",
       "    </tr>\n",
       "    <tr>\n",
       "      <td>76</td>\n",
       "      <td>[[22350, 22364, 22374, 22372, 22373, 22378, 22...</td>\n",
       "      <td>22417.478375</td>\n",
       "      <td>52.620502</td>\n",
       "      <td>13.696203</td>\n",
       "    </tr>\n",
       "    <tr>\n",
       "      <td>77</td>\n",
       "      <td>[[22347, 22353, 22367, 22368, 22380, 22373, 22...</td>\n",
       "      <td>22417.605050</td>\n",
       "      <td>52.972239</td>\n",
       "      <td>13.797468</td>\n",
       "    </tr>\n",
       "    <tr>\n",
       "      <td>78</td>\n",
       "      <td>[[22327, 22361, 22357, 22370, 22386, 22375, 22...</td>\n",
       "      <td>22420.065213</td>\n",
       "      <td>53.316597</td>\n",
       "      <td>13.898734</td>\n",
       "    </tr>\n",
       "    <tr>\n",
       "      <td>79</td>\n",
       "      <td>[[22335, 22357, 22372, 22363, 22372, 22365, 22...</td>\n",
       "      <td>22418.451562</td>\n",
       "      <td>53.240309</td>\n",
       "      <td>14.000000</td>\n",
       "    </tr>\n",
       "  </tbody>\n",
       "</table>\n",
       "<p>80 rows × 4 columns</p>\n",
       "</div>"
      ],
      "text/plain": [
       "                                               images      response  \\\n",
       "0   [[22303, 22313, 22339, 22326, 22351, 22339, 22...  22391.573050   \n",
       "1   [[22303, 22313, 22350, 22329, 22347, 22348, 22...  22391.499462   \n",
       "2   [[22311, 22334, 22350, 22338, 22358, 22352, 22...  22396.689275   \n",
       "3   [[22327, 22331, 22355, 22339, 22366, 22355, 22...  22398.169187   \n",
       "4   [[22327, 22341, 22357, 22344, 22363, 22335, 22...  22399.440413   \n",
       "..                                                ...           ...   \n",
       "75  [[22346, 22367, 22388, 22365, 22377, 22380, 22...  22416.026963   \n",
       "76  [[22350, 22364, 22374, 22372, 22373, 22378, 22...  22417.478375   \n",
       "77  [[22347, 22353, 22367, 22368, 22380, 22373, 22...  22417.605050   \n",
       "78  [[22327, 22361, 22357, 22370, 22386, 22375, 22...  22420.065213   \n",
       "79  [[22335, 22357, 22372, 22363, 22372, 22365, 22...  22418.451562   \n",
       "\n",
       "          std  wavelengths  \n",
       "0   51.832134     6.000000  \n",
       "1   51.812621     6.101266  \n",
       "2   51.880955     6.202532  \n",
       "3   51.829236     6.303797  \n",
       "4   51.923499     6.405063  \n",
       "..        ...          ...  \n",
       "75  52.421999    13.594937  \n",
       "76  52.620502    13.696203  \n",
       "77  52.972239    13.797468  \n",
       "78  53.316597    13.898734  \n",
       "79  53.240309    14.000000  \n",
       "\n",
       "[80 rows x 4 columns]"
      ]
     },
     "execution_count": 499,
     "metadata": {},
     "output_type": "execute_result"
    }
   ],
   "source": [
    "df"
   ]
  },
  {
   "cell_type": "code",
   "execution_count": 530,
   "metadata": {
    "scrolled": true
   },
   "outputs": [
    {
     "data": {
      "image/png": "[encoded data removed]",
      "text/plain": [
       "<Figure size 1152x144 with 1 Axes>"
      ]
     },
     "metadata": {
      "needs_background": "light"
     },
     "output_type": "display_data"
    }
   ],
   "source": [
    "\n",
    "xmin= 90; xmax=170; ymin=114; ymax=118;\n",
    "ROI= [xmin,xmax,ymin,ymax]\n",
    "\n",
    "for i in [20]:\n",
    "    plt.matshow(df[\"images\"][i][ymin:ymax,xmin:xmax])\n",
    "    #plt.colorbar()\n",
    "    plt.ylabel(str(round(df[\"wavelengths\"][i],2))+ '$\\mu m$')\n",
    "    plt.ax = plt.gca()\n",
    "    #plt.ax.axes.xaxis.set_ticks([])\n",
    "    #plt.ax.axes.yaxis.set_ticks([])\n",
    "\n",
    "plt.show()\n"
   ]
  },
  {
   "cell_type": "code",
   "execution_count": 531,
   "metadata": {},
   "outputs": [
    {
     "data": {
      "text/plain": [
       "array([48, 49, 49, 48], dtype=int64)"
      ]
     },
     "execution_count": 531,
     "metadata": {},
     "output_type": "execute_result"
    }
   ],
   "source": [
    "[value,loc] = locate_max(df,'images',30,ymin,ymax,xmin,xmax,-1)\n",
    "loc\n"
   ]
  },
  {
   "cell_type": "code",
   "execution_count": 532,
   "metadata": {},
   "outputs": [],
   "source": [
    "#calculate location of maxvalues, add to database\n",
    "maxlocs = []\n",
    "maxvals = []\n",
    "\n",
    "for i in range(0,len(df[\"wavelengths\"])):\n",
    "    [loc,value] = locate_max(df,'images',i,ymin,ymax,xmin,xmax,-1)\n",
    "    maxlocs.append(value)\n",
    "    maxvals.append(loc)\n",
    "\n",
    "df['max_vals'] = pd.Series(maxvals) \n",
    "df['max_locs'] = pd.Series(maxlocs) \n",
    "df['avg_val'] = df['max_vals'].map(mean)\n",
    "df['avg_locs'] = df['max_locs'].map(mean)"
   ]
  },
  {
   "cell_type": "code",
   "execution_count": 533,
   "metadata": {},
   "outputs": [],
   "source": [
    "# pixel fit \n",
    "def f(x, A, B): # this is your 'straight line' y=f(x)\n",
    "    return A*x + B\n",
    "\n",
    "\n",
    "#fit over wavelengths with lowest noise\n",
    "fitmin=15;\n",
    "fitmax = 40;\n",
    "popt, pcov = curve_fit(f, df['wavelengths'][fitmin:fitmax], df['avg_locs'][fitmin:fitmax]) # your data x, y to fit"
   ]
  },
  {
   "cell_type": "code",
   "execution_count": 534,
   "metadata": {},
   "outputs": [],
   "source": [
    "df['fit'] =  popt[0] *  df['wavelengths'] + popt[1]"
   ]
  },
  {
   "cell_type": "code",
   "execution_count": 535,
   "metadata": {},
   "outputs": [
    {
     "data": {
      "image/png": "[encoded data removed]",
      "text/plain": [
       "<Figure size 432x288 with 2 Axes>"
      ]
     },
     "metadata": {
      "needs_background": "light"
     },
     "output_type": "display_data"
    }
   ],
   "source": [
    "#plot and check fit \n",
    "\n",
    "plt.subplot(211)\n",
    "plt.plot(df['wavelengths'],df['avg_val'])\n",
    "plt.ylabel('max response')\n",
    "plt.subplot(212)\n",
    "plt.plot(df['wavelengths'],df['avg_locs'],'.')\n",
    "plt.plot(df['wavelengths'],df['fit'],'-')\n",
    "plt.xlabel('wavelength [um]')\n",
    "plt.ylabel('pixel #')\n",
    "plt.show()\n"
   ]
  },
  {
   "cell_type": "code",
   "execution_count": 536,
   "metadata": {},
   "outputs": [],
   "source": [
    "#writetohdf5\n",
    "\n",
    "#choose filepath to desired data\n",
    "save_path =  \"C://Users//khart//Documents//IRCSP2_data//calibration_files//\"\n",
    "name =  \"cam1pixel\" \n",
    "\n",
    "#create hdf5 file\n",
    "hf = h5py.File(save_path + name + '.h5', 'w')\n",
    "hf.create_dataset('/fitparams',  data=popt)\n",
    "hf.create_dataset('/ROI',        data= ROI)\n",
    "hf.close()\n"
   ]
  },
  {
   "cell_type": "code",
   "execution_count": 323,
   "metadata": {},
   "outputs": [
    {
     "data": {
      "text/plain": [
       "71.62000002554097"
      ]
     },
     "execution_count": 323,
     "metadata": {},
     "output_type": "execute_result"
    }
   ],
   "source": [
    "rount(df['fit'][1]"
   ]
  },
  {
   "cell_type": "code",
   "execution_count": 478,
   "metadata": {},
   "outputs": [
    {
     "data": {
      "text/plain": [
       "24085.74"
      ]
     },
     "execution_count": 478,
     "metadata": {},
     "output_type": "execute_result"
    }
   ],
   "source": [
    "np.mean(df[\"images\"][10][ymin:ymax,xmin:xmax])"
   ]
  },
  {
   "cell_type": "code",
   "execution_count": null,
   "metadata": {},
   "outputs": [],
   "source": []
  }
 ],
 "metadata": {
  "kernelspec": {
   "display_name": "Python 3",
   "language": "python",
   "name": "python3"
  },
  "language_info": {
   "codemirror_mode": {
    "name": "ipython",
    "version": 3
   },
   "file_extension": ".py",
   "mimetype": "text/x-python",
   "name": "python",
   "nbconvert_exporter": "python",
   "pygments_lexer": "ipython3",
   "version": "3.7.4"
  }
 },
 "nbformat": 4,
 "nbformat_minor": 2
}
