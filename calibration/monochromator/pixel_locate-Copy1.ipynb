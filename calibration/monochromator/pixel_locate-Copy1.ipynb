{
 "cells": [
  {
   "cell_type": "code",
   "execution_count": 326,
   "metadata": {},
   "outputs": [],
   "source": [
    "import numpy as np\n",
    "import pandas as pd\n",
    "import h5py\n",
    "import matplotlib.pyplot as plt\n",
    "from mono_functions import create_mono_df,locate_max\n",
    "from statistics import mean\n",
    "from scipy.optimize import curve_fit"
   ]
  },
  {
   "cell_type": "code",
   "execution_count": 340,
   "metadata": {},
   "outputs": [],
   "source": [
    "#choose filepath to desired data\n",
    "path =  \"C://Users//khart//Documents//IRCSP2_data//mono_data//\"\n",
    "name =  \"cam1_test.h5\" "
   ]
  },
  {
   "cell_type": "code",
   "execution_count": 341,
   "metadata": {},
   "outputs": [
    {
     "name": "stdout",
     "output_type": "stream",
     "text": [
      "Keys: <KeysViewHDF5 ['images', 'response', 'std', 'wavelengths']>\n"
     ]
    }
   ],
   "source": [
    "#will create a df and print the names of the keys in the original hdf5 file\n",
    "df = create_mono_df(path,name)"
   ]
  },
  {
   "cell_type": "code",
   "execution_count": 342,
   "metadata": {},
   "outputs": [
    {
     "data": {
      "text/html": [
       "<div>\n",
       "<style scoped>\n",
       "    .dataframe tbody tr th:only-of-type {\n",
       "        vertical-align: middle;\n",
       "    }\n",
       "\n",
       "    .dataframe tbody tr th {\n",
       "        vertical-align: top;\n",
       "    }\n",
       "\n",
       "    .dataframe thead th {\n",
       "        text-align: right;\n",
       "    }\n",
       "</style>\n",
       "<table border=\"1\" class=\"dataframe\">\n",
       "  <thead>\n",
       "    <tr style=\"text-align: right;\">\n",
       "      <th></th>\n",
       "      <th>images</th>\n",
       "      <th>response</th>\n",
       "      <th>std</th>\n",
       "      <th>wavelengths</th>\n",
       "    </tr>\n",
       "  </thead>\n",
       "  <tbody>\n",
       "    <tr>\n",
       "      <td>0</td>\n",
       "      <td>[[24264, 24251, 24259, 24272, 24272, 24262, 24...</td>\n",
       "      <td>24259.764413</td>\n",
       "      <td>10.659045</td>\n",
       "      <td>6.000000</td>\n",
       "    </tr>\n",
       "    <tr>\n",
       "      <td>1</td>\n",
       "      <td>[[24263, 24249, 24260, 24267, 24272, 24260, 24...</td>\n",
       "      <td>24259.504950</td>\n",
       "      <td>10.634185</td>\n",
       "      <td>6.101266</td>\n",
       "    </tr>\n",
       "    <tr>\n",
       "      <td>2</td>\n",
       "      <td>[[24242, 24236, 24236, 24230, 24234, 24236, 24...</td>\n",
       "      <td>24233.742575</td>\n",
       "      <td>11.106672</td>\n",
       "      <td>6.202532</td>\n",
       "    </tr>\n",
       "    <tr>\n",
       "      <td>3</td>\n",
       "      <td>[[24210, 24204, 24210, 24195, 24203, 24206, 24...</td>\n",
       "      <td>24203.596550</td>\n",
       "      <td>11.568092</td>\n",
       "      <td>6.303797</td>\n",
       "    </tr>\n",
       "    <tr>\n",
       "      <td>4</td>\n",
       "      <td>[[24176, 24173, 24166, 24177, 24180, 24164, 24...</td>\n",
       "      <td>24172.070650</td>\n",
       "      <td>11.391913</td>\n",
       "      <td>6.405063</td>\n",
       "    </tr>\n",
       "    <tr>\n",
       "      <td>...</td>\n",
       "      <td>...</td>\n",
       "      <td>...</td>\n",
       "      <td>...</td>\n",
       "      <td>...</td>\n",
       "    </tr>\n",
       "    <tr>\n",
       "      <td>75</td>\n",
       "      <td>[[23525, 23535, 23521, 23527, 23515, 23516, 23...</td>\n",
       "      <td>23545.984887</td>\n",
       "      <td>29.625795</td>\n",
       "      <td>13.594937</td>\n",
       "    </tr>\n",
       "    <tr>\n",
       "      <td>76</td>\n",
       "      <td>[[23504, 23524, 23522, 23516, 23514, 23517, 23...</td>\n",
       "      <td>23538.780237</td>\n",
       "      <td>29.892960</td>\n",
       "      <td>13.696203</td>\n",
       "    </tr>\n",
       "    <tr>\n",
       "      <td>77</td>\n",
       "      <td>[[23491, 23515, 23496, 23499, 23506, 23507, 23...</td>\n",
       "      <td>23526.491375</td>\n",
       "      <td>29.926303</td>\n",
       "      <td>13.797468</td>\n",
       "    </tr>\n",
       "    <tr>\n",
       "      <td>78</td>\n",
       "      <td>[[23482, 23502, 23492, 23495, 23493, 23496, 23...</td>\n",
       "      <td>23520.743050</td>\n",
       "      <td>30.342831</td>\n",
       "      <td>13.898734</td>\n",
       "    </tr>\n",
       "    <tr>\n",
       "      <td>79</td>\n",
       "      <td>[[23509, 23489, 23491, 23510, 23505, 23493, 23...</td>\n",
       "      <td>23521.846475</td>\n",
       "      <td>30.487514</td>\n",
       "      <td>14.000000</td>\n",
       "    </tr>\n",
       "  </tbody>\n",
       "</table>\n",
       "<p>80 rows × 4 columns</p>\n",
       "</div>"
      ],
      "text/plain": [
       "                                               images      response  \\\n",
       "0   [[24264, 24251, 24259, 24272, 24272, 24262, 24...  24259.764413   \n",
       "1   [[24263, 24249, 24260, 24267, 24272, 24260, 24...  24259.504950   \n",
       "2   [[24242, 24236, 24236, 24230, 24234, 24236, 24...  24233.742575   \n",
       "3   [[24210, 24204, 24210, 24195, 24203, 24206, 24...  24203.596550   \n",
       "4   [[24176, 24173, 24166, 24177, 24180, 24164, 24...  24172.070650   \n",
       "..                                                ...           ...   \n",
       "75  [[23525, 23535, 23521, 23527, 23515, 23516, 23...  23545.984887   \n",
       "76  [[23504, 23524, 23522, 23516, 23514, 23517, 23...  23538.780237   \n",
       "77  [[23491, 23515, 23496, 23499, 23506, 23507, 23...  23526.491375   \n",
       "78  [[23482, 23502, 23492, 23495, 23493, 23496, 23...  23520.743050   \n",
       "79  [[23509, 23489, 23491, 23510, 23505, 23493, 23...  23521.846475   \n",
       "\n",
       "          std  wavelengths  \n",
       "0   10.659045     6.000000  \n",
       "1   10.634185     6.101266  \n",
       "2   11.106672     6.202532  \n",
       "3   11.568092     6.303797  \n",
       "4   11.391913     6.405063  \n",
       "..        ...          ...  \n",
       "75  29.625795    13.594937  \n",
       "76  29.892960    13.696203  \n",
       "77  29.926303    13.797468  \n",
       "78  30.342831    13.898734  \n",
       "79  30.487514    14.000000  \n",
       "\n",
       "[80 rows x 4 columns]"
      ]
     },
     "execution_count": 342,
     "metadata": {},
     "output_type": "execute_result"
    }
   ],
   "source": [
    "df"
   ]
  },
  {
   "cell_type": "code",
   "execution_count": 348,
   "metadata": {},
   "outputs": [
    {
     "data": {
      "image/png": "[encoded data removed]",
      "text/plain": [
       "<Figure size 1152x144 with 2 Axes>"
      ]
     },
     "metadata": {
      "needs_background": "light"
     },
     "output_type": "display_data"
    }
   ],
   "source": [
    "\n",
    "xmin= 110; xmax=120; ymin=100; ymax=200;\n",
    "ROI= [xmin,xmax,ymin,ymax]\n",
    "\n",
    "\n",
    "plt.matshow(df[\"images\"][30][xmin:xmax,ymin:ymax])\n",
    "plt.colorbar()\n",
    "plt.show()"
   ]
  },
  {
   "cell_type": "code",
   "execution_count": 358,
   "metadata": {},
   "outputs": [
    {
     "data": {
      "text/plain": [
       "array([24248, 24247, 24243, 24255, 24249, 24250, 24253, 24248, 24253,\n",
       "       24247], dtype=uint16)"
      ]
     },
     "execution_count": 358,
     "metadata": {},
     "output_type": "execute_result"
    }
   ],
   "source": [
    "[value,loc] = locate_max(df,'images',2,xmin,xmax,ymin,ymax,1)\n",
    "value"
   ]
  },
  {
   "cell_type": "code",
   "execution_count": 353,
   "metadata": {},
   "outputs": [],
   "source": [
    "#calculate location of maxvalues, add to database\n",
    "maxlocs = []\n",
    "maxvals = []\n",
    "\n",
    "for i in range(0,len(df[\"wavelengths\"])):\n",
    "    [loc,value] = locate_max(df,'images',i,xmin+2,xmax-2,ymin,ymax,1)\n",
    "    maxlocs.append(value)\n",
    "    maxvals.append(loc)\n",
    "\n",
    "df['max_vals'] = pd.Series(maxvals) \n",
    "df['max_locs'] = pd.Series(maxlocs) \n",
    "df['avg_val'] = df['max_vals'].map(mean)\n",
    "df['avg_locs'] = df['max_locs'].map(mean)"
   ]
  },
  {
   "cell_type": "code",
   "execution_count": 354,
   "metadata": {},
   "outputs": [],
   "source": [
    "# pixel fit \n",
    "def f(x, A, B): # this is your 'straight line' y=f(x)\n",
    "    return A*x + B\n",
    "\n",
    "\n",
    "#fit over wavelengths with lowest noise\n",
    "fitmin=15;\n",
    "fitmax = 40;\n",
    "popt, pcov = curve_fit(f, df['wavelengths'][fitmin:fitmax], df['avg_locs'][fitmin:fitmax]) # your data x, y to fit"
   ]
  },
  {
   "cell_type": "code",
   "execution_count": 355,
   "metadata": {},
   "outputs": [],
   "source": [
    "df['fit'] =  popt[0] *  df['wavelengths'] + popt[1]"
   ]
  },
  {
   "cell_type": "code",
   "execution_count": 356,
   "metadata": {},
   "outputs": [
    {
     "data": {
      "image/png": "[encoded data removed]",
      "text/plain": [
       "<Figure size 432x288 with 2 Axes>"
      ]
     },
     "metadata": {
      "needs_background": "light"
     },
     "output_type": "display_data"
    }
   ],
   "source": [
    "#plot and check fit \n",
    "\n",
    "plt.subplot(211)\n",
    "plt.plot(df['wavelengths'],df['avg_val'])\n",
    "plt.ylabel('max response')\n",
    "plt.subplot(212)\n",
    "plt.plot(df['wavelengths'],df['avg_locs'],'.')\n",
    "plt.plot(df['wavelengths'],df['fit'],'-')\n",
    "plt.xlabel('wavelength [um]')\n",
    "plt.ylabel('pixel #')\n",
    "plt.show()\n"
   ]
  },
  {
   "cell_type": "code",
   "execution_count": 307,
   "metadata": {},
   "outputs": [],
   "source": [
    "#writetohdf5\n",
    "\n",
    "#choose filepath to desired data\n",
    "save_path =  \"C://Users//khart//Documents//IRCSP2_data//calibration_files//\"\n",
    "name =  \"12142020cal\" \n",
    "\n",
    "#create hdf5 file\n",
    "hf = h5py.File(save_path + name + '.h5', 'w')\n",
    "hf.create_dataset('/pixel_registration/cam1/fitparams',  data=popt)\n",
    "hf.create_dataset('/pixel_registration/cam1/ROI',        data= ROI)\n",
    "hf.close()\n"
   ]
  },
  {
   "cell_type": "code",
   "execution_count": 323,
   "metadata": {},
   "outputs": [
    {
     "data": {
      "text/plain": [
       "71.62000002554097"
      ]
     },
     "execution_count": 323,
     "metadata": {},
     "output_type": "execute_result"
    }
   ],
   "source": [
    "rount(df['fit'][1]"
   ]
  },
  {
   "cell_type": "code",
   "execution_count": null,
   "metadata": {},
   "outputs": [],
   "source": []
  }
 ],
 "metadata": {
  "kernelspec": {
   "display_name": "Python 3",
   "language": "python",
   "name": "python3"
  },
  "language_info": {
   "codemirror_mode": {
    "name": "ipython",
    "version": 3
   },
   "file_extension": ".py",
   "mimetype": "text/x-python",
   "name": "python",
   "nbconvert_exporter": "python",
   "pygments_lexer": "ipython3",
   "version": "3.7.4"
  }
 },
 "nbformat": 4,
 "nbformat_minor": 2
}
