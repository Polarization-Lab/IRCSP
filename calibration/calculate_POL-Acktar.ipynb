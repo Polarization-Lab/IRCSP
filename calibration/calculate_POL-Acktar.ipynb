{
 "cells": [
  {
   "cell_type": "code",
   "execution_count": 77,
   "id": "a66446a0",
   "metadata": {},
   "outputs": [],
   "source": [
    "import numpy as np\n",
    "import pandas as pd\n",
    "import h5py\n",
    "import sys\n",
    "import matplotlib.pyplot as plt\n",
    "import matplotlib.cm as cm\n",
    "from statistics import mean\n",
    "import scipy\n",
    "from pathlib import Path\n",
    "import math\n",
    "\n",
    "from radiometric.LUT import create_LUT_df, determine_reference, applyNUC_to_LUT\n",
    "\n",
    "from NUC.NUC_functions import import_NUC, apply_NUC, get_slice, determine_slope\n",
    "from NUC.NUC_functions import determine_dark, apply_DFC_to_df\n",
    "from NUC.NUC_functions import pixel_registration\n",
    "\n",
    "from matplotlib import cm\n",
    "from scipy.optimize import curve_fit\n",
    "from scipy.fft import fft, fftfreq\n"
   ]
  },
  {
   "cell_type": "code",
   "execution_count": 148,
   "id": "a909b5e6",
   "metadata": {},
   "outputs": [],
   "source": [
    "#choose filepath to desired data\n",
    "path = '/Volumes/KESU/jun22/polarized/'\n",
    "#note cam definitions are flipped as of FLIRPY ffc fix \n",
    "cal_file2 =  '/Volumes/KESU/calibration_files/cam1pixel.h5'\n",
    "cal_file1 =  '/Volumes/KESU/calibration_files/cam2pixel.h5'"
   ]
  },
  {
   "cell_type": "code",
   "execution_count": 153,
   "id": "7cfe78e4",
   "metadata": {},
   "outputs": [],
   "source": [
    "waves= np.linspace(7,12,61)\n",
    "temps = np.linspace(0,359,360);\n"
   ]
  },
  {
   "cell_type": "code",
   "execution_count": 154,
   "id": "8977baba",
   "metadata": {},
   "outputs": [],
   "source": [
    "#select ROI\n",
    "ymin2 = 90; ymax2 = 150;\n",
    "ymin1 = 120; ymax1 = 180;\n",
    "\n",
    "FOV = 5.33 ;\n",
    "HFOV = FOV/4;\n",
    "angles = np.round(np.linspace(-HFOV,HFOV,ymax2-ymin2))"
   ]
  },
  {
   "cell_type": "code",
   "execution_count": 155,
   "id": "7705594f",
   "metadata": {},
   "outputs": [],
   "source": [
    "#load LUTS\n",
    "\n",
    "with h5py.File('/Volumes/KESU/apr06/LUTS/LUT.h5', \"r\") as file:\n",
    "    var = file['/var'][()]\n",
    "    var1 = file['/var1'][()]\n",
    "    var2 = file['/var2'][()]\n",
    "    \n",
    "    waves = file['/waves'][()]\n",
    "    nedt =  file['/nedt'][()]"
   ]
  },
  {
   "cell_type": "code",
   "execution_count": 158,
   "id": "5276a531",
   "metadata": {},
   "outputs": [
    {
     "ename": "KeyError",
     "evalue": "\"Unable to open object (object 'temp2' doesn't exist)\"",
     "output_type": "error",
     "traceback": [
      "\u001b[0;31m---------------------------------------------------------------------------\u001b[0m",
      "\u001b[0;31mKeyError\u001b[0m                                  Traceback (most recent call last)",
      "\u001b[0;32m/var/folders/f6/95s_7p490mb1lbkhbstm78cr0000gn/T/ipykernel_13475/22118776.py\u001b[0m in \u001b[0;36m<module>\u001b[0;34m\u001b[0m\n\u001b[1;32m      7\u001b[0m     \u001b[0ms1\u001b[0m \u001b[0;34m=\u001b[0m \u001b[0mnp\u001b[0m\u001b[0;34m.\u001b[0m\u001b[0mstd\u001b[0m\u001b[0;34m(\u001b[0m\u001b[0mfile\u001b[0m\u001b[0;34m[\u001b[0m\u001b[0;34m'imgs1'\u001b[0m\u001b[0;34m]\u001b[0m\u001b[0;34m[\u001b[0m\u001b[0;34m(\u001b[0m\u001b[0;34m)\u001b[0m\u001b[0;34m]\u001b[0m\u001b[0;34m,\u001b[0m\u001b[0maxis\u001b[0m \u001b[0;34m=\u001b[0m \u001b[0;36m0\u001b[0m\u001b[0;34m)\u001b[0m\u001b[0;34m\u001b[0m\u001b[0;34m\u001b[0m\u001b[0m\n\u001b[1;32m      8\u001b[0m     \u001b[0ms2\u001b[0m \u001b[0;34m=\u001b[0m \u001b[0mnp\u001b[0m\u001b[0;34m.\u001b[0m\u001b[0mmean\u001b[0m\u001b[0;34m(\u001b[0m\u001b[0mfile\u001b[0m\u001b[0;34m[\u001b[0m\u001b[0;34m'imgs2'\u001b[0m\u001b[0;34m]\u001b[0m\u001b[0;34m[\u001b[0m\u001b[0;34m(\u001b[0m\u001b[0;34m)\u001b[0m\u001b[0;34m]\u001b[0m\u001b[0;34m,\u001b[0m\u001b[0maxis\u001b[0m \u001b[0;34m=\u001b[0m \u001b[0;36m0\u001b[0m\u001b[0;34m)\u001b[0m\u001b[0;34m\u001b[0m\u001b[0;34m\u001b[0m\u001b[0m\n\u001b[0;32m----> 9\u001b[0;31m     \u001b[0mt2\u001b[0m \u001b[0;34m=\u001b[0m \u001b[0mnp\u001b[0m\u001b[0;34m.\u001b[0m\u001b[0mmean\u001b[0m\u001b[0;34m(\u001b[0m\u001b[0mfile\u001b[0m\u001b[0;34m[\u001b[0m\u001b[0;34m'temp2'\u001b[0m\u001b[0;34m]\u001b[0m\u001b[0;34m[\u001b[0m\u001b[0;34m(\u001b[0m\u001b[0;34m)\u001b[0m\u001b[0;34m]\u001b[0m\u001b[0;34m,\u001b[0m\u001b[0maxis\u001b[0m \u001b[0;34m=\u001b[0m \u001b[0;36m0\u001b[0m\u001b[0;34m)\u001b[0m\u001b[0;34m\u001b[0m\u001b[0;34m\u001b[0m\u001b[0m\n\u001b[0m\u001b[1;32m     10\u001b[0m     \u001b[0mt1\u001b[0m \u001b[0;34m=\u001b[0m \u001b[0mnp\u001b[0m\u001b[0;34m.\u001b[0m\u001b[0mmean\u001b[0m\u001b[0;34m(\u001b[0m\u001b[0mfile\u001b[0m\u001b[0;34m[\u001b[0m\u001b[0;34m'temp1'\u001b[0m\u001b[0;34m]\u001b[0m\u001b[0;34m[\u001b[0m\u001b[0;34m(\u001b[0m\u001b[0;34m)\u001b[0m\u001b[0;34m]\u001b[0m\u001b[0;34m,\u001b[0m\u001b[0maxis\u001b[0m \u001b[0;34m=\u001b[0m \u001b[0;36m0\u001b[0m\u001b[0;34m)\u001b[0m\u001b[0;34m\u001b[0m\u001b[0;34m\u001b[0m\u001b[0m\n\u001b[1;32m     11\u001b[0m \u001b[0;34m\u001b[0m\u001b[0m\n",
      "\u001b[0;32mh5py/_objects.pyx\u001b[0m in \u001b[0;36mh5py._objects.with_phil.wrapper\u001b[0;34m()\u001b[0m\n",
      "\u001b[0;32mh5py/_objects.pyx\u001b[0m in \u001b[0;36mh5py._objects.with_phil.wrapper\u001b[0;34m()\u001b[0m\n",
      "\u001b[0;32m~/opt/anaconda3/lib/python3.8/site-packages/h5py/_hl/group.py\u001b[0m in \u001b[0;36m__getitem__\u001b[0;34m(self, name)\u001b[0m\n\u001b[1;32m    262\u001b[0m                 \u001b[0;32mraise\u001b[0m \u001b[0mValueError\u001b[0m\u001b[0;34m(\u001b[0m\u001b[0;34m\"Invalid HDF5 object reference\"\u001b[0m\u001b[0;34m)\u001b[0m\u001b[0;34m\u001b[0m\u001b[0;34m\u001b[0m\u001b[0m\n\u001b[1;32m    263\u001b[0m         \u001b[0;32melse\u001b[0m\u001b[0;34m:\u001b[0m\u001b[0;34m\u001b[0m\u001b[0;34m\u001b[0m\u001b[0m\n\u001b[0;32m--> 264\u001b[0;31m             \u001b[0moid\u001b[0m \u001b[0;34m=\u001b[0m \u001b[0mh5o\u001b[0m\u001b[0;34m.\u001b[0m\u001b[0mopen\u001b[0m\u001b[0;34m(\u001b[0m\u001b[0mself\u001b[0m\u001b[0;34m.\u001b[0m\u001b[0mid\u001b[0m\u001b[0;34m,\u001b[0m \u001b[0mself\u001b[0m\u001b[0;34m.\u001b[0m\u001b[0m_e\u001b[0m\u001b[0;34m(\u001b[0m\u001b[0mname\u001b[0m\u001b[0;34m)\u001b[0m\u001b[0;34m,\u001b[0m \u001b[0mlapl\u001b[0m\u001b[0;34m=\u001b[0m\u001b[0mself\u001b[0m\u001b[0;34m.\u001b[0m\u001b[0m_lapl\u001b[0m\u001b[0;34m)\u001b[0m\u001b[0;34m\u001b[0m\u001b[0;34m\u001b[0m\u001b[0m\n\u001b[0m\u001b[1;32m    265\u001b[0m \u001b[0;34m\u001b[0m\u001b[0m\n\u001b[1;32m    266\u001b[0m         \u001b[0motype\u001b[0m \u001b[0;34m=\u001b[0m \u001b[0mh5i\u001b[0m\u001b[0;34m.\u001b[0m\u001b[0mget_type\u001b[0m\u001b[0;34m(\u001b[0m\u001b[0moid\u001b[0m\u001b[0;34m)\u001b[0m\u001b[0;34m\u001b[0m\u001b[0;34m\u001b[0m\u001b[0m\n",
      "\u001b[0;32mh5py/_objects.pyx\u001b[0m in \u001b[0;36mh5py._objects.with_phil.wrapper\u001b[0;34m()\u001b[0m\n",
      "\u001b[0;32mh5py/_objects.pyx\u001b[0m in \u001b[0;36mh5py._objects.with_phil.wrapper\u001b[0;34m()\u001b[0m\n",
      "\u001b[0;32mh5py/h5o.pyx\u001b[0m in \u001b[0;36mh5py.h5o.open\u001b[0;34m()\u001b[0m\n",
      "\u001b[0;31mKeyError\u001b[0m: \"Unable to open object (object 'temp2' doesn't exist)\""
     ]
    }
   ],
   "source": [
    "filename = path + '0deg.h5'\n",
    "\n",
    "\n",
    "with h5py.File(filename, \"r\") as file:\n",
    "    image1 = np.mean(file['imgs1'][()],axis = 0)\n",
    "    image2 = np.mean(file['imgs2'][()],axis = 0)\n",
    "    s1 = np.std(file['imgs1'][()],axis = 0)\n",
    "    s2 = np.mean(file['imgs2'][()],axis = 0)\n",
    "    t2 = np.mean(file['temp2'][()],axis = 0)\n",
    "    t1 = np.mean(file['temp1'][()],axis = 0)\n",
    "\n",
    "c1 = (image1-np.mean(image1[125:175,25:75]))\n",
    "\n",
    "c2 = (image2-np.mean(image2[100:150,25:75]))\n",
    "\n",
    "r1 = np.mean(image1[100:150,25:75])\n",
    "\n",
    "#plot test images, test appearance\n",
    "fig, axes = plt.subplots(nrows=1, ncols=2, figsize=(15, 5),sharey = True)\n",
    "\n",
    "p1 = axes[0].pcolormesh(image1,shading = 'auto')#,vmin = 0)\n",
    "fig.colorbar(p1, ax=axes[0])\n",
    "axes[0].set_title('Camera 1',fontsize = 14)\n",
    "axes[0].set_ylabel('View Angles [$^\\circ$]',fontsize = 14)\n",
    "axes[0].set_xlabel('Wavlength [$\\mu m$]',fontsize = 14)\n",
    "\n",
    "p2 = axes[1].pcolormesh(image2,shading = 'auto')#,vmin = 0)\n",
    "axes[1].set_title('Camera 2',fontsize = 14)\n",
    "axes[1].set_xlabel('Wavlength [$\\mu m$]',fontsize = 14)\n",
    "fig.colorbar(p2, ax=axes[1])\n",
    "\n",
    "plt.show()"
   ]
  },
  {
   "cell_type": "code",
   "execution_count": 157,
   "id": "17ff299f",
   "metadata": {},
   "outputs": [],
   "source": [
    "im1 = []\n",
    "im2 = []\n",
    "std1 = []\n",
    "std2 = []\n",
    "for t in temps:\n",
    "    filename = path +str(round(t))+'deg.h5'\n",
    "    try:\n",
    "        with h5py.File(filename, \"r\") as file:\n",
    "            image1 = np.mean(file['imgs1'][()],axis = 0)\n",
    "            image2 = np.mean(file['imgs2'][()],axis = 0)\n",
    "            s1 = np.std(file['imgs1'][()],axis = 0)\n",
    "            s2 = np.std(file['imgs2'][()],axis = 0)\n",
    "\n",
    "\n",
    "        c1 = (image1-np.mean(image1[150:200,25:75]))\n",
    "        c2 = (image2-np.mean(image2[150:200,25:75]))\n",
    "\n",
    "        im1.append(c1)\n",
    "        im2.append(c2)\n",
    "        std1.append(s1)\n",
    "        std2.append(s2)\n",
    "    except:\n",
    "        print('error')\n",
    "\n"
   ]
  },
  {
   "cell_type": "code",
   "execution_count": 145,
   "id": "db08f70e",
   "metadata": {},
   "outputs": [
    {
     "data": {
      "image/png": "[encoded data removed]",
      "text/plain": [
       "<Figure size 432x288 with 1 Axes>"
      ]
     },
     "metadata": {
      "needs_background": "light"
     },
     "output_type": "display_data"
    }
   ],
   "source": [
    "#Find location of 0 degree point\n",
    "p2 = pixel_registration(im2[1],cal_file2,waves,0,320)\n",
    "p1 = pixel_registration(im1[1],cal_file1,waves,0,320)\n",
    "plt.plot(np.mean(p2,axis = 1))\n",
    "plt.plot(np.mean(p1,axis = 1))\n",
    "plt.show()\n",
    "\n",
    "y1 = 142\n",
    "y2 = 119"
   ]
  },
  {
   "cell_type": "code",
   "execution_count": 146,
   "id": "57021ea8",
   "metadata": {},
   "outputs": [],
   "source": [
    "responses = np.zeros([len(temps),len(waves)])\n",
    "responses1 = np.zeros([len(temps),len(waves)])\n",
    "responses2 = np.zeros([len(temps),len(waves)])\n",
    "responses_err = np.zeros([len(temps),len(waves)])\n",
    "responses_err1 = np.zeros([len(temps),len(waves)])\n",
    "responses_err2 = np.zeros([len(temps),len(waves)])\n",
    "\n",
    "for t in range(len(im1)):\n",
    "    p2 = pixel_registration(im2[t],cal_file2,waves,0,256)\n",
    "    p1 = pixel_registration(im1[t],cal_file1,waves,0,256)\n",
    "    s2 = pixel_registration(std2[t],cal_file2,waves,0,256)\n",
    "    s1 = pixel_registration(std1[t],cal_file1,waves,0,256)\n",
    "\n",
    "    err = np.sqrt((s2[y2]/p2[y2])**2+(s1[y1]/p1[y1])**2)\n",
    "    responses[t]= (p1[y1]+p2[y2])\n",
    "    responses_err[t]= err\n",
    "    \n",
    "    responses1[t]= p1[y1]\n",
    "    responses_err1[t]= s1[y1]\n",
    "    responses2[t]= p2[y2]\n",
    "    responses_err2[t]= s2[y2]\n"
   ]
  },
  {
   "cell_type": "code",
   "execution_count": 147,
   "id": "77a9d506",
   "metadata": {},
   "outputs": [],
   "source": [
    "hf = h5py.File(path + 'poldata.h5', 'w')\n",
    "hf.create_dataset('/var', data=var)\n",
    "hf.create_dataset('/var1', data=var)\n",
    "hf.create_dataset('/var2', data=var)\n",
    "hf.create_dataset('/nedt', data=nedt)\n",
    "\n",
    "hf.create_dataset('/responses1', data=responses1)\n",
    "hf.create_dataset('/responses2', data=responses2)\n",
    "hf.create_dataset('/responses_err1', data=responses_err1)\n",
    "hf.create_dataset('/responses_err2', data=responses_err2)\n",
    "    \n",
    "hf.create_dataset('/waves',data = waves)\n",
    "hf.create_dataset('/angles', data = temps)\n",
    "\n",
    "hf.close()"
   ]
  },
  {
   "cell_type": "code",
   "execution_count": 114,
   "id": "d65b88f1",
   "metadata": {},
   "outputs": [],
   "source": [
    "def func(x, a, b,c):\n",
    "    y = a * np.cos(x*2* np.pi/180 + b) +c\n",
    "    return y"
   ]
  },
  {
   "cell_type": "code",
   "execution_count": 115,
   "id": "1592f666",
   "metadata": {},
   "outputs": [
    {
     "data": {
      "text/plain": [
       "[<matplotlib.lines.Line2D at 0x7f7f2204fbb0>]"
      ]
     },
     "execution_count": 115,
     "metadata": {},
     "output_type": "execute_result"
    },
    {
     "data": {
      "image/png": "[encoded data removed]",
      "text/plain": [
       "<Figure size 432x288 with 1 Axes>"
      ]
     },
     "metadata": {
      "needs_background": "light"
     },
     "output_type": "display_data"
    }
   ],
   "source": [
    "plt.plot(responses1[10]/np.mean(responses1[10]))\n",
    "plt.plot(responses2[10]/np.mean(responses2[10]))"
   ]
  },
  {
   "cell_type": "code",
   "execution_count": null,
   "id": "3b8615c0",
   "metadata": {},
   "outputs": [],
   "source": []
  }
 ],
 "metadata": {
  "kernelspec": {
   "display_name": "Python 3 (ipykernel)",
   "language": "python",
   "name": "python3"
  },
  "language_info": {
   "codemirror_mode": {
    "name": "ipython",
    "version": 3
   },
   "file_extension": ".py",
   "mimetype": "text/x-python",
   "name": "python",
   "nbconvert_exporter": "python",
   "pygments_lexer": "ipython3",
   "version": "3.7.11"
  }
 },
 "nbformat": 4,
 "nbformat_minor": 5
}
