{
 "cells": [
  {
   "cell_type": "code",
   "execution_count": 3,
   "metadata": {},
   "outputs": [],
   "source": [
    "import numpy as np\n",
    "from PIL import Image\n",
    "import matplotlib.pyplot as plt\n",
    "import operator\n",
    "from matplotlib.pyplot import subplot\n",
    "import os\n",
    "import math\n",
    "import pandas as pd\n",
    "import h5py\n",
    "os.chdir('20190719_e/')"
   ]
  },
  {
   "cell_type": "code",
   "execution_count": 4,
   "metadata": {},
   "outputs": [],
   "source": [
    "waves=np.arange(8000,13000,50)\n",
    "waves_um=np.arange(8,13,.05)\n",
    "theta=np.linspace(0,math.pi,19)\n",
    "def average(arr):\n",
    "    arr1=arr[0]\n",
    "    for i in range(1,len(arr)):\n",
    "        arr1=np.add(arr1,arr[i])\n",
    "    return(np.divide(arr1,len(arr)))\n"
   ]
  },
  {
   "cell_type": "code",
   "execution_count": 5,
   "metadata": {},
   "outputs": [],
   "source": [
    "def file_name(wave_i,angle_i):\n",
    "    if waves[wave_i]<10000:\n",
    "        name1='spectral_1_CAM1__0'+str(waves[wave_i])+'nm_angle'+str(angles[angle_i])+'deg.tiff'\n",
    "        name2='spectral_1_CAM2__0'+str(waves[wave_i])+'nm_angle'+str(angles[angle_i])+'deg.tiff'\n",
    "    else:\n",
    "        name1='spectral_1_CAM1__'+str(waves[wave_i])+'nm_angle'+str(angles[angle_i])+'deg.tiff'\n",
    "        name2='spectral_1_CAM2__'+str(waves[wave_i])+'nm_angle'+str(angles[angle_i])+'deg.tiff'\n",
    "    return(name1,name2)"
   ]
  },
  {
   "cell_type": "code",
   "execution_count": 6,
   "metadata": {},
   "outputs": [],
   "source": [
    "angles=np.arange(100,290,10)"
   ]
  },
  {
   "cell_type": "code",
   "execution_count": 7,
   "metadata": {},
   "outputs": [],
   "source": [
    "theta= np.radians(angles)"
   ]
  },
  {
   "cell_type": "code",
   "execution_count": 13,
   "metadata": {},
   "outputs": [],
   "source": [
    "def aolpdata_wavelength(i):\n",
    "    m1=[];m2=[];\n",
    "    for j in range(len(angles)):\n",
    "        name1,name2 = file_name(i,j)\n",
    "        image1=Image.open(name1)\n",
    "        image2=Image.open(name2)\n",
    "        im1=np.array(image1)[120:125,70:160]\n",
    "        im2=np.array(image2)[122:127,85:175]\n",
    "        m1.append(im1)\n",
    "        m2.append(im2)\n",
    "    return(m1,m2)"
   ]
  },
  {
   "cell_type": "code",
   "execution_count": 14,
   "metadata": {},
   "outputs": [],
   "source": [
    "path1data=[];\n",
    "path2data=[];\n",
    "for i in range(len(waves)):\n",
    "    p1,p2=aolpdata_wavelength(i)\n",
    "    path1data.append(p1)\n",
    "    path2data.append(p2)"
   ]
  },
  {
   "cell_type": "code",
   "execution_count": 15,
   "metadata": {},
   "outputs": [],
   "source": [
    "hf = h5py.File('polarized_data.hdf5', 'w') \n",
    "hf.create_dataset('path1', data=path1data)\n",
    "hf.create_dataset('path2', data=path2data)\n",
    "hf.create_dataset('angles',data=angles)\n",
    "hf.create_dataset('wavelengths',data= waves)\n",
    "hf.close()"
   ]
  },
  {
   "cell_type": "code",
   "execution_count": null,
   "metadata": {},
   "outputs": [],
   "source": []
  }
 ],
 "metadata": {
  "kernelspec": {
   "display_name": "Python 3",
   "language": "python",
   "name": "python3"
  },
  "language_info": {
   "codemirror_mode": {
    "name": "ipython",
    "version": 3
   },
   "file_extension": ".py",
   "mimetype": "text/x-python",
   "name": "python",
   "nbconvert_exporter": "python",
   "pygments_lexer": "ipython3",
   "version": "3.7.4"
  }
 },
 "nbformat": 4,
 "nbformat_minor": 2
}
