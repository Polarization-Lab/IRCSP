{
 "cells": [
  {
   "cell_type": "code",
   "execution_count": 2,
   "metadata": {},
   "outputs": [],
   "source": [
    "import numpy as np\n",
    "import pandas as pd\n",
    "import h5py\n",
    "import matplotlib.pyplot as plt\n",
    "from statistics import mean\n",
    "from scipy.optimize import curve_fit\n",
    "import scipy\n",
    "import sys\n",
    "\n",
    "sys.path.insert(0, './NUC')\n",
    "from NUC_functions import create_NUC_df, collapse_df,compile_NUC_matrix_input,calc_NUC_coef\n",
    "\n",
    "sys.path.insert(0, './radiometric')\n",
    "from LUT_functions import pixel_registration, create_LUT_df\n",
    "import scipy\n"
   ]
  },
  {
   "cell_type": "code",
   "execution_count": 3,
   "metadata": {},
   "outputs": [],
   "source": [
    "#choose filepath to desired data\n",
    "path = '/Volumes/KESU/chamber_data/'\n",
    "cal_file2 =  \"/Users/kirahart/Dropbox/GitHub/IRCSP2_data/calibration_files/cam1pixel.h5\"\n",
    "cal_file1 =  \"/Users/kirahart/Dropbox/GitHub/IRCSP2_data/calibration_files/cam2pixel.h5\""
   ]
  },
  {
   "cell_type": "code",
   "execution_count": 4,
   "metadata": {},
   "outputs": [],
   "source": [
    "#impoirt data from chamber scan\n",
    "h5name = 'Left_0mm_neg35c-2.h5'\n",
    "df = create_NUC_df(path, h5name)"
   ]
  },
  {
   "cell_type": "code",
   "execution_count": 5,
   "metadata": {},
   "outputs": [],
   "source": [
    "'''fix wrapping error for temperatures '''\n",
    "def correct_temps(df,key):\n",
    "    for i in range(len(df[key])):\n",
    "        if df[key][i] > 100:\n",
    "            t1 = df[key][i]\n",
    "            t2 =t1-6553.5\n",
    "            df[key][i] = t2"
   ]
  },
  {
   "cell_type": "code",
   "execution_count": 6,
   "metadata": {},
   "outputs": [
    {
     "name": "stderr",
     "output_type": "stream",
     "text": [
      "<ipython-input-5-db8cc11e2fda>:7: SettingWithCopyWarning: \n",
      "A value is trying to be set on a copy of a slice from a DataFrame\n",
      "\n",
      "See the caveats in the documentation: https://pandas.pydata.org/pandas-docs/stable/user_guide/indexing.html#returning-a-view-versus-a-copy\n",
      "  df[key][i] = t2\n"
     ]
    }
   ],
   "source": [
    "correct_temps(df, \"temps1\")\n",
    "correct_temps(df, \"temps2\")"
   ]
  },
  {
   "cell_type": "code",
   "execution_count": 7,
   "metadata": {},
   "outputs": [],
   "source": [
    "#import nuc calibration\n",
    "sys.path.insert(0, './NUC')\n",
    "from NUC_functions import import_NUC, apply_NUC\n",
    "cal_path = '/Users/kirahart/Dropbox/GitHub/IRCSP2_data/calibration_files/NUC.h5'\n",
    "\n",
    "m1,b1,T_ref1,m2,b2,T_ref2 = import_NUC(cal_path)"
   ]
  },
  {
   "cell_type": "code",
   "execution_count": 8,
   "metadata": {},
   "outputs": [],
   "source": [
    "#apply pixel registration and NUC to full dataset\n",
    "\n",
    "ymin2 = 105; ymax2 = 140;\n",
    "ymin1 = 130; ymax1 = 165;\n",
    "\n",
    "waves= np.linspace(7,12,61)\n",
    "angles = np.round(np.linspace(-7.07,7.07,35),1)\n",
    "\n",
    "#will create a df and print the names of the keys in the original hdf5 file\n",
    "corrected_images1= [] ; corrected_images1n= [];\n",
    "corrected_images2= [] ; corrected_images2n= []\n",
    "\n",
    "for i in range(20):\n",
    "    r1 = df['imgs1'][i];\n",
    "    c1 = pixel_registration(r1,cal_file1,waves,ymin1,ymax1)\n",
    "        \n",
    "    #now with NUC correction\n",
    "    T1 = df['temps1'][i];\n",
    "    rn1 = apply_NUC(r1,T1,m1,b1,T_ref1)\n",
    "    cn1 = pixel_registration(rn1,cal_file1,waves,ymin1,ymax1)\n",
    "        \n",
    "    corrected_images1.append(c1)\n",
    "    corrected_images1n.append(cn1)\n",
    "    \n",
    "    r2 = df['imgs2'][i];\n",
    "    c2 = pixel_registration(r2,cal_file2,waves,ymin2,ymax2)\n",
    "        \n",
    "    #now with NUC correction\n",
    "    T2 = df['temps2'][i];\n",
    "    rn2 = apply_NUC(r2,T2,m2,b2,T_ref2)\n",
    "    cn2 = pixel_registration(rn2,cal_file2,waves,ymin2,ymax2)\n",
    "        \n",
    "    corrected_images2.append(c2)\n",
    "    corrected_images2n.append(cn2)\n",
    "\n",
    "    "
   ]
  },
  {
   "cell_type": "code",
   "execution_count": 79,
   "metadata": {},
   "outputs": [],
   "source": [
    "#import radiometric data\n",
    "\n",
    "#choose filepath to desired data\n",
    "save_path =   '/Users/kirahart/Dropbox/GitHub/IRCSP2_data/calibration_files/'\n",
    "name =  \"LUT.h5\" \n",
    "\n",
    "hf = h5py.File(save_path+name, 'r')\n",
    "B1 = hf.get('B2')\n",
    "B2 = hf.get('B1')"
   ]
  },
  {
   "cell_type": "code",
   "execution_count": 92,
   "metadata": {},
   "outputs": [
    {
     "data": {
      "image/png": "[encoded data removed]",
      "text/plain": [
       "<Figure size 501.943x288 with 2 Axes>"
      ]
     },
     "metadata": {
      "needs_background": "light"
     },
     "output_type": "display_data"
    }
   ],
   "source": [
    "j = 1;\n",
    "I1 = corrected_images1[j] \n",
    "I2 = corrected_images2[j] \n",
    "plt.matshow((((I1-I2)/(I1+I2)))*42,cmap = 'inferno' )\n",
    "plt.colorbar()\n",
    "plt.ylabel('Angular FOV [$^\\circ$]')\n",
    "plt.xlabel('Wavelength [$\\mu m$]')\n",
    "plt.ax = plt.gca()\n",
    "plt.ax.xaxis.set_ticks_position('bottom')\n",
    "plt.xticks([0, 20, 40,60], [waves[0],round(waves[20]),waves[30],waves[60]])\n",
    "plt.yticks([0, 9,17,26,34], [angles[0], angles[9],angles[17],angles[26],angles[34]])\n",
    "plt.title('Modulation Function for Right Target \\n Chamber = -35 $^\\circ C$ ')\n",
    "#plt.clim([-.1,.1])\n",
    "plt.show()\n"
   ]
  },
  {
   "cell_type": "code",
   "execution_count": null,
   "metadata": {},
   "outputs": [],
   "source": []
  },
  {
   "cell_type": "code",
   "execution_count": null,
   "metadata": {
    "collapsed": true
   },
   "outputs": [],
   "source": []
  }
 ],
 "metadata": {
  "kernelspec": {
   "display_name": "Python 3",
   "language": "python",
   "name": "python3"
  },
  "language_info": {
   "codemirror_mode": {
    "name": "ipython",
    "version": 3
   },
   "file_extension": ".py",
   "mimetype": "text/x-python",
   "name": "python",
   "nbconvert_exporter": "python",
   "pygments_lexer": "ipython3",
   "version": "3.8.5"
  }
 },
 "nbformat": 4,
 "nbformat_minor": 4
}
