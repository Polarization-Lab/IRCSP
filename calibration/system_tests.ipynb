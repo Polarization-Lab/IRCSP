{
 "cells": [
  {
   "cell_type": "code",
   "execution_count": 134,
   "metadata": {},
   "outputs": [],
   "source": [
    "import numpy as np\n",
    "import matplotlib.pyplot as plt\n",
    "import h5py\n",
    "import matplotlib.patches as mpatches\n",
    "import math\n",
    "import matplotlib.lines as mlines\n",
    "import os\n",
    "import cv2 as cv\n",
    "from IPython.display import Video\n",
    "import matplotlib.cm as cm\n",
    "import matplotlib.animation as animation\n",
    "import matplotlib.image as mpimg\n",
    "from statistics import mean\n",
    "from scipy.optimize import curve_fit\n",
    "from matplotlib.pyplot import figure\n",
    "import pandas as pd"
   ]
  },
  {
   "cell_type": "code",
   "execution_count": 136,
   "metadata": {},
   "outputs": [
    {
     "name": "stdout",
     "output_type": "stream",
     "text": [
      "306\n"
     ]
    }
   ],
   "source": [
    "save_path = 'C:\\\\Users\\\\khart\\\\Documents\\\\Summer2022Campaign\\\\IRCSP2\\\\40C_long\\\\'\n",
    "angle_step = 1;\n",
    "angle_start = 0;\n",
    "angle_stop = 1860;\n",
    "angles = list(range(angle_start,angle_stop,angle_step))\n",
    "numangles = len(angles)\n",
    "imgs1 = np.empty([numangles,1,256,320])\n",
    "imgs2 = np.empty([numangles,1,256,320])\n",
    "t1 = np.empty([numangles])\n",
    "t2 = np.empty([numangles])\n",
    "\n",
    "for a in range(angle_start,angle_stop,angle_step):\n",
    "    try:\n",
    "        with h5py.File(save_path + 'meas_'+str(int(a))+'.h5', \"r\") as f:\n",
    "\n",
    "            # List all groups\n",
    "            #print(f.keys())\n",
    "            #print(f.attrs.keys())\n",
    "      \n",
    "            imgs1[a,:,:] = np.array(f[list(f.keys())[0]])\n",
    "            imgs2[a,:,:] = np.array(f[list(f.keys())[1]])\n",
    "            t1[a] = np.array(f[list(f.keys())[2]])\n",
    "            t2[a] = np.array(f[list(f.keys())[3]])\n",
    "    \n",
    "    except:\n",
    "            print(a)"
   ]
  },
  {
   "cell_type": "code",
   "execution_count": 137,
   "metadata": {},
   "outputs": [],
   "source": [
    "im2 = imgs2[:,0,110:130,160:220]\n",
    "im2 = im2.transpose()\n",
    "\n",
    "im1 = imgs1[:,0,90:110:,140:200]\n",
    "im1 = im1.transpose()\n",
    "\n",
    "ak1 = imgs1[:,0,90:110:,50:110]\n",
    "ak1 = ak1.transpose()\n",
    "\n",
    "ak2 = imgs2[:,0,110:130,50:110]\n",
    "ak2 = ak2.transpose()"
   ]
  },
  {
   "cell_type": "code",
   "execution_count": 144,
   "metadata": {},
   "outputs": [
    {
     "data": {
      "image/png": "[encoded data removed]",
      "text/plain": [
       "<Figure size 432x288 with 1 Axes>"
      ]
     },
     "metadata": {
      "needs_background": "light"
     },
     "output_type": "display_data"
    }
   ],
   "source": [
    "\n",
    "ack2  =ak2.sum(axis=tuple(range(ak2.ndim - 1)))\n",
    "ack1  = ak1.sum(axis=tuple(range(ak1.ndim - 1)))\n",
    "active2 =im2.sum(axis=tuple(range(im2.ndim - 1)))\n",
    "active1 =im1.sum(axis=tuple(range(im1.ndim - 1)))\n",
    "\n",
    "\n",
    "plt.plot(active2-ack2,'.')\n",
    "plt.plot(active1-ack1,'.')\n",
    "plt.ylim(np.partition(active1-ack1, 4)[4],(active2-ack2).max())\n",
    "plt.xlim(1250)\n",
    "plt.show()"
   ]
  },
  {
   "cell_type": "code",
   "execution_count": 131,
   "metadata": {},
   "outputs": [],
   "source": [
    "telem_df = pd.read_csv(save_path+'telemetry.csv',header = None)"
   ]
  },
  {
   "cell_type": "code",
   "execution_count": 124,
   "metadata": {},
   "outputs": [
    {
     "data": {
      "text/html": [
       "<div>\n",
       "<style scoped>\n",
       "    .dataframe tbody tr th:only-of-type {\n",
       "        vertical-align: middle;\n",
       "    }\n",
       "\n",
       "    .dataframe tbody tr th {\n",
       "        vertical-align: top;\n",
       "    }\n",
       "\n",
       "    .dataframe thead th {\n",
       "        text-align: right;\n",
       "    }\n",
       "</style>\n",
       "<table border=\"1\" class=\"dataframe\">\n",
       "  <thead>\n",
       "    <tr style=\"text-align: right;\">\n",
       "      <th></th>\n",
       "      <th>0</th>\n",
       "      <th>1</th>\n",
       "      <th>2</th>\n",
       "      <th>3</th>\n",
       "      <th>4</th>\n",
       "      <th>5</th>\n",
       "      <th>6</th>\n",
       "      <th>7</th>\n",
       "      <th>8</th>\n",
       "      <th>9</th>\n",
       "    </tr>\n",
       "  </thead>\n",
       "  <tbody>\n",
       "    <tr>\n",
       "      <td>0</td>\n",
       "      <td>905.89</td>\n",
       "      <td>25.27</td>\n",
       "      <td>16.40</td>\n",
       "      <td>922.79</td>\n",
       "      <td>21.34</td>\n",
       "      <td>23.14</td>\n",
       "      <td>16.323</td>\n",
       "      <td>20.8</td>\n",
       "      <td>20.3</td>\n",
       "      <td>14.02.04</td>\n",
       "    </tr>\n",
       "    <tr>\n",
       "      <td>1</td>\n",
       "      <td>905.89</td>\n",
       "      <td>25.27</td>\n",
       "      <td>16.40</td>\n",
       "      <td>922.78</td>\n",
       "      <td>21.56</td>\n",
       "      <td>23.14</td>\n",
       "      <td>16.323</td>\n",
       "      <td>20.7</td>\n",
       "      <td>20.3</td>\n",
       "      <td>14.02.08</td>\n",
       "    </tr>\n",
       "    <tr>\n",
       "      <td>2</td>\n",
       "      <td>905.92</td>\n",
       "      <td>25.28</td>\n",
       "      <td>16.40</td>\n",
       "      <td>922.76</td>\n",
       "      <td>21.06</td>\n",
       "      <td>23.15</td>\n",
       "      <td>16.411</td>\n",
       "      <td>20.7</td>\n",
       "      <td>20.3</td>\n",
       "      <td>14.02.12</td>\n",
       "    </tr>\n",
       "    <tr>\n",
       "      <td>3</td>\n",
       "      <td>905.91</td>\n",
       "      <td>25.27</td>\n",
       "      <td>16.41</td>\n",
       "      <td>922.78</td>\n",
       "      <td>20.99</td>\n",
       "      <td>23.15</td>\n",
       "      <td>16.323</td>\n",
       "      <td>20.8</td>\n",
       "      <td>20.3</td>\n",
       "      <td>14.02.16</td>\n",
       "    </tr>\n",
       "    <tr>\n",
       "      <td>4</td>\n",
       "      <td>905.88</td>\n",
       "      <td>25.28</td>\n",
       "      <td>16.40</td>\n",
       "      <td>922.77</td>\n",
       "      <td>20.88</td>\n",
       "      <td>23.15</td>\n",
       "      <td>16.323</td>\n",
       "      <td>20.8</td>\n",
       "      <td>20.3</td>\n",
       "      <td>14.02.19</td>\n",
       "    </tr>\n",
       "    <tr>\n",
       "      <td>...</td>\n",
       "      <td>...</td>\n",
       "      <td>...</td>\n",
       "      <td>...</td>\n",
       "      <td>...</td>\n",
       "      <td>...</td>\n",
       "      <td>...</td>\n",
       "      <td>...</td>\n",
       "      <td>...</td>\n",
       "      <td>...</td>\n",
       "      <td>...</td>\n",
       "    </tr>\n",
       "    <tr>\n",
       "      <td>1756</td>\n",
       "      <td>900.54</td>\n",
       "      <td>26.51</td>\n",
       "      <td>14.45</td>\n",
       "      <td>921.75</td>\n",
       "      <td>19.35</td>\n",
       "      <td>23.39</td>\n",
       "      <td>13.854</td>\n",
       "      <td>18.7</td>\n",
       "      <td>18.2</td>\n",
       "      <td>15.55.50</td>\n",
       "    </tr>\n",
       "    <tr>\n",
       "      <td>1757</td>\n",
       "      <td>900.56</td>\n",
       "      <td>26.50</td>\n",
       "      <td>14.44</td>\n",
       "      <td>921.74</td>\n",
       "      <td>19.33</td>\n",
       "      <td>23.40</td>\n",
       "      <td>13.765</td>\n",
       "      <td>18.7</td>\n",
       "      <td>18.1</td>\n",
       "      <td>15.55.54</td>\n",
       "    </tr>\n",
       "    <tr>\n",
       "      <td>1758</td>\n",
       "      <td>900.51</td>\n",
       "      <td>26.51</td>\n",
       "      <td>14.43</td>\n",
       "      <td>921.78</td>\n",
       "      <td>19.39</td>\n",
       "      <td>23.39</td>\n",
       "      <td>13.765</td>\n",
       "      <td>18.7</td>\n",
       "      <td>18.1</td>\n",
       "      <td>15.55.58</td>\n",
       "    </tr>\n",
       "    <tr>\n",
       "      <td>1759</td>\n",
       "      <td>900.45</td>\n",
       "      <td>26.52</td>\n",
       "      <td>14.41</td>\n",
       "      <td>921.73</td>\n",
       "      <td>19.35</td>\n",
       "      <td>23.38</td>\n",
       "      <td>13.765</td>\n",
       "      <td>18.7</td>\n",
       "      <td>18.1</td>\n",
       "      <td>15.56.01</td>\n",
       "    </tr>\n",
       "    <tr>\n",
       "      <td>1760</td>\n",
       "      <td>900.44</td>\n",
       "      <td>26.52</td>\n",
       "      <td>14.40</td>\n",
       "      <td>921.72</td>\n",
       "      <td>19.37</td>\n",
       "      <td>23.37</td>\n",
       "      <td>13.676</td>\n",
       "      <td>18.6</td>\n",
       "      <td>18.1</td>\n",
       "      <td>15.56.05</td>\n",
       "    </tr>\n",
       "  </tbody>\n",
       "</table>\n",
       "<p>1761 rows × 10 columns</p>\n",
       "</div>"
      ],
      "text/plain": [
       "           0      1      2       3      4      5       6     7     8         9\n",
       "0     905.89  25.27  16.40  922.79  21.34  23.14  16.323  20.8  20.3  14.02.04\n",
       "1     905.89  25.27  16.40  922.78  21.56  23.14  16.323  20.7  20.3  14.02.08\n",
       "2     905.92  25.28  16.40  922.76  21.06  23.15  16.411  20.7  20.3  14.02.12\n",
       "3     905.91  25.27  16.41  922.78  20.99  23.15  16.323  20.8  20.3  14.02.16\n",
       "4     905.88  25.28  16.40  922.77  20.88  23.15  16.323  20.8  20.3  14.02.19\n",
       "...      ...    ...    ...     ...    ...    ...     ...   ...   ...       ...\n",
       "1756  900.54  26.51  14.45  921.75  19.35  23.39  13.854  18.7  18.2  15.55.50\n",
       "1757  900.56  26.50  14.44  921.74  19.33  23.40  13.765  18.7  18.1  15.55.54\n",
       "1758  900.51  26.51  14.43  921.78  19.39  23.39  13.765  18.7  18.1  15.55.58\n",
       "1759  900.45  26.52  14.41  921.73  19.35  23.38  13.765  18.7  18.1  15.56.01\n",
       "1760  900.44  26.52  14.40  921.72  19.37  23.37  13.676  18.6  18.1  15.56.05\n",
       "\n",
       "[1761 rows x 10 columns]"
      ]
     },
     "execution_count": 124,
     "metadata": {},
     "output_type": "execute_result"
    }
   ],
   "source": [
    "telem_df"
   ]
  },
  {
   "cell_type": "code",
   "execution_count": 85,
   "metadata": {},
   "outputs": [
    {
     "data": {
      "image/png": "[encoded data removed]",
      "text/plain": [
       "<Figure size 432x288 with 1 Axes>"
      ]
     },
     "metadata": {
      "needs_background": "light"
     },
     "output_type": "display_data"
    }
   ],
   "source": [
    "plt.plot(t1,ack1[:-1],'.')\n",
    "plt.ylim(np.partition(ack1, 4)[4],ack1.max())\n",
    "plt.show()\n"
   ]
  },
  {
   "cell_type": "code",
   "execution_count": 76,
   "metadata": {},
   "outputs": [
    {
     "data": {
      "image/png": "[encoded data removed]",
      "text/plain": [
       "<Figure size 432x288 with 1 Axes>"
      ]
     },
     "metadata": {
      "needs_background": "light"
     },
     "output_type": "display_data"
    }
   ],
   "source": [
    "plt.plot(telem_df[2][0:angle_stop],ack2,'.')\n",
    "plt.ylim(np.partition(ack2, 4)[4],ack2.max())\n",
    "plt.show()\n"
   ]
  },
  {
   "cell_type": "code",
   "execution_count": null,
   "metadata": {},
   "outputs": [],
   "source": []
  }
 ],
 "metadata": {
  "kernelspec": {
   "display_name": "Python 3",
   "language": "python",
   "name": "python3"
  },
  "language_info": {
   "codemirror_mode": {
    "name": "ipython",
    "version": 3
   },
   "file_extension": ".py",
   "mimetype": "text/x-python",
   "name": "python",
   "nbconvert_exporter": "python",
   "pygments_lexer": "ipython3",
   "version": "3.8.5"
  }
 },
 "nbformat": 4,
 "nbformat_minor": 4
}
