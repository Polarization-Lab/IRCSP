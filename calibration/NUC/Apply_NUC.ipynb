{
 "cells": [
  {
   "cell_type": "code",
   "execution_count": 2,
   "metadata": {},
   "outputs": [],
   "source": [
    "import numpy as np\n",
    "import pandas as pd\n",
    "import h5py\n",
    "import matplotlib.pyplot as plt\n",
    "from statistics import mean\n",
    "from scipy.optimize import curve_fit\n",
    "import scipy\n",
    "\n",
    "from NUC_functions import create_NUC_df, collapse_df,import_NUC, rc, apply_NUC\n",
    "\n",
    "# Seaborn for plotting and styling\n",
    "import seaborn as sns\n",
    "sns.set_theme()"
   ]
  },
  {
   "cell_type": "code",
   "execution_count": 3,
   "metadata": {},
   "outputs": [
    {
     "data": {
      "text/html": [
       "<div>\n",
       "<style scoped>\n",
       "    .dataframe tbody tr th:only-of-type {\n",
       "        vertical-align: middle;\n",
       "    }\n",
       "\n",
       "    .dataframe tbody tr th {\n",
       "        vertical-align: top;\n",
       "    }\n",
       "\n",
       "    .dataframe thead th {\n",
       "        text-align: right;\n",
       "    }\n",
       "</style>\n",
       "<table border=\"1\" class=\"dataframe\">\n",
       "  <thead>\n",
       "    <tr style=\"text-align: right;\">\n",
       "      <th></th>\n",
       "      <th>bbtemp</th>\n",
       "      <th>temps1</th>\n",
       "      <th>images1</th>\n",
       "    </tr>\n",
       "  </thead>\n",
       "  <tbody>\n",
       "    <tr>\n",
       "      <th>0</th>\n",
       "      <td>35.0</td>\n",
       "      <td>22.2</td>\n",
       "      <td>[[23058.0, 23061.0, 23051.0, 23061.0, 23067.0,...</td>\n",
       "    </tr>\n",
       "    <tr>\n",
       "      <th>1</th>\n",
       "      <td>40.0</td>\n",
       "      <td>22.3</td>\n",
       "      <td>[[23022.0, 23035.0, 23028.0, 23031.0, 23041.0,...</td>\n",
       "    </tr>\n",
       "    <tr>\n",
       "      <th>2</th>\n",
       "      <td>45.0</td>\n",
       "      <td>22.4</td>\n",
       "      <td>[[23002.0, 23027.0, 23020.0, 23019.0, 23030.0,...</td>\n",
       "    </tr>\n",
       "    <tr>\n",
       "      <th>3</th>\n",
       "      <td>45.0</td>\n",
       "      <td>22.3</td>\n",
       "      <td>[[23002.0, 23025.0, 23019.0, 23018.0, 23031.0,...</td>\n",
       "    </tr>\n",
       "    <tr>\n",
       "      <th>4</th>\n",
       "      <td>50.0</td>\n",
       "      <td>22.4</td>\n",
       "      <td>[[23057.0, 23065.0, 23055.0, 23058.0, 23059.0,...</td>\n",
       "    </tr>\n",
       "    <tr>\n",
       "      <th>5</th>\n",
       "      <td>50.0</td>\n",
       "      <td>22.5</td>\n",
       "      <td>[[23062.0, 23069.0, 23058.0, 23061.0, 23063.0,...</td>\n",
       "    </tr>\n",
       "    <tr>\n",
       "      <th>6</th>\n",
       "      <td>55.0</td>\n",
       "      <td>22.5</td>\n",
       "      <td>[[23066.0, 23078.0, 23062.0, 23083.0, 23072.0,...</td>\n",
       "    </tr>\n",
       "    <tr>\n",
       "      <th>7</th>\n",
       "      <td>55.0</td>\n",
       "      <td>22.6</td>\n",
       "      <td>[[22984.0, 22982.0, 22975.0, 22978.0, 22991.0,...</td>\n",
       "    </tr>\n",
       "    <tr>\n",
       "      <th>8</th>\n",
       "      <td>60.0</td>\n",
       "      <td>22.6</td>\n",
       "      <td>[[23030.0, 23039.0, 23026.0, 23049.0, 23038.0,...</td>\n",
       "    </tr>\n",
       "    <tr>\n",
       "      <th>9</th>\n",
       "      <td>60.0</td>\n",
       "      <td>22.5</td>\n",
       "      <td>[[23025.0, 23034.0, 23016.0, 23041.0, 23033.0,...</td>\n",
       "    </tr>\n",
       "    <tr>\n",
       "      <th>10</th>\n",
       "      <td>70.0</td>\n",
       "      <td>22.9</td>\n",
       "      <td>[[23064.0, 23067.0, 23046.0, 23065.0, 23069.0,...</td>\n",
       "    </tr>\n",
       "    <tr>\n",
       "      <th>11</th>\n",
       "      <td>70.0</td>\n",
       "      <td>23.0</td>\n",
       "      <td>[[23076.0, 23078.0, 23055.0, 23077.0, 23081.0,...</td>\n",
       "    </tr>\n",
       "    <tr>\n",
       "      <th>12</th>\n",
       "      <td>75.0</td>\n",
       "      <td>22.8</td>\n",
       "      <td>[[23054.0, 23057.0, 23055.0, 23069.0, 23071.0,...</td>\n",
       "    </tr>\n",
       "  </tbody>\n",
       "</table>\n",
       "</div>"
      ],
      "text/plain": [
       "    bbtemp  temps1                                            images1\n",
       "0     35.0    22.2  [[23058.0, 23061.0, 23051.0, 23061.0, 23067.0,...\n",
       "1     40.0    22.3  [[23022.0, 23035.0, 23028.0, 23031.0, 23041.0,...\n",
       "2     45.0    22.4  [[23002.0, 23027.0, 23020.0, 23019.0, 23030.0,...\n",
       "3     45.0    22.3  [[23002.0, 23025.0, 23019.0, 23018.0, 23031.0,...\n",
       "4     50.0    22.4  [[23057.0, 23065.0, 23055.0, 23058.0, 23059.0,...\n",
       "5     50.0    22.5  [[23062.0, 23069.0, 23058.0, 23061.0, 23063.0,...\n",
       "6     55.0    22.5  [[23066.0, 23078.0, 23062.0, 23083.0, 23072.0,...\n",
       "7     55.0    22.6  [[22984.0, 22982.0, 22975.0, 22978.0, 22991.0,...\n",
       "8     60.0    22.6  [[23030.0, 23039.0, 23026.0, 23049.0, 23038.0,...\n",
       "9     60.0    22.5  [[23025.0, 23034.0, 23016.0, 23041.0, 23033.0,...\n",
       "10    70.0    22.9  [[23064.0, 23067.0, 23046.0, 23065.0, 23069.0,...\n",
       "11    70.0    23.0  [[23076.0, 23078.0, 23055.0, 23077.0, 23081.0,...\n",
       "12    75.0    22.8  [[23054.0, 23057.0, 23055.0, 23069.0, 23071.0,..."
      ]
     },
     "execution_count": 3,
     "metadata": {},
     "output_type": "execute_result"
    }
   ],
   "source": [
    "#choose some data to play with\n",
    "#select ROI\n",
    "ymin1 = 100; ymax1 = 145;\n",
    "ymin2 = 125; ymax2 = 170;\n",
    "\n",
    "temps = [35,40,45,50,55,60,70,75]\n",
    "\n",
    "bbtemps1 = [];bbtemps2 = []; temps1 =[];temps2 = []; images1 =[]; images2 = []\n",
    "\n",
    "for t in temps:\n",
    "    #choose filepath to desired data\n",
    "    path = '/Users/kirahart/Dropbox/GitHub/IRCSP2_data/calibration_data/LUT/'\n",
    "    cal_file1 = 'cam1_'+str(t)+'.h5'\n",
    "    cal_file2 = 'cam2_'+str(t)+'.h5'\n",
    "    df1 = create_NUC_df(path,cal_file1)\n",
    "    df2 = create_NUC_df(path,cal_file2)\n",
    "    t1,i1 = collapse_df(df1)\n",
    "    t2,i2 = collapse_df(df2)\n",
    "    bbtemps1.extend(np.ones(len(t1))*t)\n",
    "    bbtemps2.extend(np.ones(len(t2))*t)\n",
    "    temps1.extend(t1)\n",
    "    temps2.extend(t2)\n",
    "    images1.extend(i1)\n",
    "    images2.extend(i2)\n",
    "\n",
    "data1= {'bbtemp': bbtemps1, 'temps1': temps1,'images1':list(images1)}\n",
    "data2= {'bbtemp': bbtemps2, 'temps1': temps2,'images1':list(images2)}\n",
    "\n",
    "cam1 = pd.DataFrame.from_dict(data1)\n",
    "cam2 = pd.DataFrame.from_dict(data2)\n",
    "cam1"
   ]
  },
  {
   "cell_type": "code",
   "execution_count": 8,
   "metadata": {},
   "outputs": [],
   "source": [
    "#import nuc calibration\n",
    "\n",
    "cal_path = '/Users/kirahart/Dropbox/GitHub/IRCSP2_data/calibration_files/NUC.h5'\n",
    "\n",
    "image = cam1['images1'][8]\n",
    "image2 = cam1['images1'][8+1]"
   ]
  },
  {
   "cell_type": "code",
   "execution_count": 5,
   "metadata": {},
   "outputs": [],
   "source": [
    "m1,b1,T_ref1,m2,b2,T_ref2 = import_NUC(cal_path)"
   ]
  },
  {
   "cell_type": "code",
   "execution_count": 6,
   "metadata": {},
   "outputs": [
    {
     "ename": "NameError",
     "evalue": "name 'image' is not defined",
     "output_type": "error",
     "traceback": [
      "\u001b[0;31m---------------------------------------------------------------------------\u001b[0m",
      "\u001b[0;31mNameError\u001b[0m                                 Traceback (most recent call last)",
      "\u001b[0;32m<ipython-input-6-0af246dc377c>\u001b[0m in \u001b[0;36m<module>\u001b[0;34m\u001b[0m\n\u001b[0;32m----> 1\u001b[0;31m \u001b[0mr_c\u001b[0m \u001b[0;34m=\u001b[0m \u001b[0mapply_NUC\u001b[0m\u001b[0;34m(\u001b[0m\u001b[0mimage\u001b[0m\u001b[0;34m,\u001b[0m\u001b[0mT\u001b[0m\u001b[0;34m,\u001b[0m\u001b[0mm2\u001b[0m\u001b[0;34m,\u001b[0m\u001b[0mb2\u001b[0m\u001b[0;34m,\u001b[0m\u001b[0mT_ref2\u001b[0m\u001b[0;34m)\u001b[0m\u001b[0;34m\u001b[0m\u001b[0;34m\u001b[0m\u001b[0m\n\u001b[0m",
      "\u001b[0;31mNameError\u001b[0m: name 'image' is not defined"
     ]
    }
   ],
   "source": [
    "r_c = apply_NUC(image,T,m2,b2,T_ref2)"
   ]
  },
  {
   "cell_type": "code",
   "execution_count": 7,
   "metadata": {},
   "outputs": [
    {
     "ename": "NameError",
     "evalue": "name 'image' is not defined",
     "output_type": "error",
     "traceback": [
      "\u001b[0;31m---------------------------------------------------------------------------\u001b[0m",
      "\u001b[0;31mNameError\u001b[0m                                 Traceback (most recent call last)",
      "\u001b[0;32m<ipython-input-7-6df7dd37dce5>\u001b[0m in \u001b[0;36m<module>\u001b[0;34m\u001b[0m\n\u001b[1;32m      8\u001b[0m \u001b[0max1\u001b[0m\u001b[0;34m,\u001b[0m \u001b[0max2\u001b[0m\u001b[0;34m,\u001b[0m \u001b[0max3\u001b[0m\u001b[0;34m=\u001b[0m \u001b[0maxes\u001b[0m\u001b[0;34m\u001b[0m\u001b[0;34m\u001b[0m\u001b[0m\n\u001b[1;32m      9\u001b[0m \u001b[0;34m\u001b[0m\u001b[0m\n\u001b[0;32m---> 10\u001b[0;31m \u001b[0mim1\u001b[0m \u001b[0;34m=\u001b[0m \u001b[0max1\u001b[0m\u001b[0;34m.\u001b[0m\u001b[0mimshow\u001b[0m\u001b[0;34m(\u001b[0m\u001b[0mimage\u001b[0m\u001b[0;34m[\u001b[0m\u001b[0;36m120\u001b[0m\u001b[0;34m:\u001b[0m\u001b[0;36m165\u001b[0m\u001b[0;34m,\u001b[0m\u001b[0;36m100\u001b[0m\u001b[0;34m:\u001b[0m\u001b[0;36m160\u001b[0m\u001b[0;34m]\u001b[0m\u001b[0;34m,\u001b[0m\u001b[0mcmap\u001b[0m \u001b[0;34m=\u001b[0m\u001b[0;34m'magma'\u001b[0m\u001b[0;34m,\u001b[0m\u001b[0mvmin\u001b[0m \u001b[0;34m=\u001b[0m \u001b[0;36m22500\u001b[0m\u001b[0;34m,\u001b[0m\u001b[0mvmax\u001b[0m \u001b[0;34m=\u001b[0m \u001b[0;36m22800\u001b[0m\u001b[0;34m)\u001b[0m\u001b[0;34m\u001b[0m\u001b[0;34m\u001b[0m\u001b[0m\n\u001b[0m\u001b[1;32m     11\u001b[0m \u001b[0mim2\u001b[0m \u001b[0;34m=\u001b[0m \u001b[0max2\u001b[0m\u001b[0;34m.\u001b[0m\u001b[0mimshow\u001b[0m\u001b[0;34m(\u001b[0m\u001b[0mr_c\u001b[0m\u001b[0;34m[\u001b[0m\u001b[0;36m120\u001b[0m\u001b[0;34m:\u001b[0m\u001b[0;36m165\u001b[0m\u001b[0;34m,\u001b[0m\u001b[0;36m100\u001b[0m\u001b[0;34m:\u001b[0m\u001b[0;36m160\u001b[0m\u001b[0;34m]\u001b[0m\u001b[0;34m,\u001b[0m\u001b[0mcmap\u001b[0m \u001b[0;34m=\u001b[0m\u001b[0;34m'magma'\u001b[0m\u001b[0;34m,\u001b[0m\u001b[0mvmin\u001b[0m \u001b[0;34m=\u001b[0m \u001b[0;36m22500\u001b[0m\u001b[0;34m,\u001b[0m\u001b[0mvmax\u001b[0m \u001b[0;34m=\u001b[0m \u001b[0;36m22800\u001b[0m\u001b[0;34m)\u001b[0m\u001b[0;34m\u001b[0m\u001b[0;34m\u001b[0m\u001b[0m\n\u001b[1;32m     12\u001b[0m \u001b[0mim3\u001b[0m \u001b[0;34m=\u001b[0m \u001b[0max3\u001b[0m\u001b[0;34m.\u001b[0m\u001b[0mimshow\u001b[0m\u001b[0;34m(\u001b[0m\u001b[0mimage\u001b[0m\u001b[0;34m[\u001b[0m\u001b[0;36m120\u001b[0m\u001b[0;34m:\u001b[0m\u001b[0;36m165\u001b[0m\u001b[0;34m,\u001b[0m\u001b[0;36m100\u001b[0m\u001b[0;34m:\u001b[0m\u001b[0;36m160\u001b[0m\u001b[0;34m]\u001b[0m\u001b[0;34m-\u001b[0m\u001b[0mimage2\u001b[0m\u001b[0;34m[\u001b[0m\u001b[0;36m120\u001b[0m\u001b[0;34m:\u001b[0m\u001b[0;36m165\u001b[0m\u001b[0;34m,\u001b[0m\u001b[0;36m100\u001b[0m\u001b[0;34m:\u001b[0m\u001b[0;36m160\u001b[0m\u001b[0;34m]\u001b[0m\u001b[0;34m,\u001b[0m\u001b[0mcmap\u001b[0m \u001b[0;34m=\u001b[0m\u001b[0;34m'magma'\u001b[0m\u001b[0;34m)\u001b[0m\u001b[0;34m\u001b[0m\u001b[0;34m\u001b[0m\u001b[0m\n",
      "\u001b[0;31mNameError\u001b[0m: name 'image' is not defined"
     ]
    },
    {
     "data": {
      "image/png": "[encoded data removed]",
      "text/plain": [
       "<Figure size 864x288 with 3 Axes>"
      ]
     },
     "metadata": {},
     "output_type": "display_data"
    }
   ],
   "source": [
    "\n",
    "plt.rcParams[\"axes.grid\"] = False\n",
    "plt.rc('xtick', labelsize=10) \n",
    "plt.rc('ytick', labelsize=10) \n",
    "plt.rc('figure', titlesize=50)  # fontsize of the figure title\n",
    "\n",
    "fig, axes = plt.subplots(ncols=3, figsize=(12, 4))\n",
    "\n",
    "ax1, ax2, ax3= axes\n",
    "\n",
    "im1 = ax1.imshow(image[120:165,100:160],cmap ='magma',vmin = 22500,vmax = 22800)\n",
    "im2 = ax2.imshow(r_c[120:165,100:160],cmap ='magma',vmin = 22500,vmax = 22800)\n",
    "im3 = ax3.imshow(image[120:165,100:160]-image2[120:165,100:160],cmap ='magma')\n",
    "ax1.title.set_text('before NUC \\n $T_{FPA} = 22.1^\\circ C$ ')\n",
    "ax2.title.set_text('after NUC \\n $T_{FPA} = 22.1^\\circ C$ ')\n",
    "ax3.title.set_text('Raw Image Error Relative \\n to Image w/ FPA at Reference Temperature ')\n",
    "\n",
    "\n",
    "fig.colorbar(im1, ax=ax1,fraction=0.02, pad=0.01)\n",
    "fig.colorbar(im2, ax=ax2,fraction=0.02, pad=0.01)\n",
    "fig.colorbar(im3, ax=ax3,fraction=0.02, pad=0.01)\n",
    "\n",
    "fig.tight_layout()\n",
    "\n",
    "plt.show()\n"
   ]
  },
  {
   "cell_type": "code",
   "execution_count": null,
   "metadata": {},
   "outputs": [],
   "source": []
  },
  {
   "cell_type": "code",
   "execution_count": null,
   "metadata": {},
   "outputs": [],
   "source": []
  }
 ],
 "metadata": {
  "kernelspec": {
   "display_name": "Python 3",
   "language": "python",
   "name": "python3"
  },
  "language_info": {
   "codemirror_mode": {
    "name": "ipython",
    "version": 3
   },
   "file_extension": ".py",
   "mimetype": "text/x-python",
   "name": "python",
   "nbconvert_exporter": "python",
   "pygments_lexer": "ipython3",
   "version": "3.8.5"
  }
 },
 "nbformat": 4,
 "nbformat_minor": 4
}
