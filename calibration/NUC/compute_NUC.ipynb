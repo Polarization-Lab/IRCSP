{
 "cells": [
  {
   "cell_type": "code",
   "execution_count": 1,
   "metadata": {},
   "outputs": [],
   "source": [
    "import numpy as np\n",
    "import pandas as pd\n",
    "import h5py\n",
    "import matplotlib.pyplot as plt\n",
    "from statistics import mean\n",
    "from scipy.optimize import curve_fit\n",
    "import scipy\n",
    "\n",
    "from NUC_functions import create_NUC_df, collapse_df\n",
    "\n",
    "# Seaborn for plotting and styling\n",
    "import seaborn as sns\n",
    "sns.set_theme()"
   ]
  },
  {
   "cell_type": "code",
   "execution_count": 2,
   "metadata": {},
   "outputs": [],
   "source": [
    "#choose filepath to desired data\n",
    "path = '/Users/kirahart/Dropbox/GitHub/IRCSP2_data/NUC/dec15/'\n",
    "cal_file1 = 'cam1hot.h5'\n",
    "cal_file2 = 'cam2hot.h5'"
   ]
  },
  {
   "cell_type": "code",
   "execution_count": 3,
   "metadata": {},
   "outputs": [
    {
     "data": {
      "text/html": [
       "<div>\n",
       "<style scoped>\n",
       "    .dataframe tbody tr th:only-of-type {\n",
       "        vertical-align: middle;\n",
       "    }\n",
       "\n",
       "    .dataframe tbody tr th {\n",
       "        vertical-align: top;\n",
       "    }\n",
       "\n",
       "    .dataframe thead th {\n",
       "        text-align: right;\n",
       "    }\n",
       "</style>\n",
       "<table border=\"1\" class=\"dataframe\">\n",
       "  <thead>\n",
       "    <tr style=\"text-align: right;\">\n",
       "      <th></th>\n",
       "      <th>images1</th>\n",
       "      <th>temp1</th>\n",
       "    </tr>\n",
       "  </thead>\n",
       "  <tbody>\n",
       "    <tr>\n",
       "      <th>0</th>\n",
       "      <td>[[24137, 24142, 24138, 24145, 24108, 24131, 24...</td>\n",
       "      <td>13.8</td>\n",
       "    </tr>\n",
       "    <tr>\n",
       "      <th>1</th>\n",
       "      <td>[[24019, 24018, 24006, 24023, 24015, 24040, 24...</td>\n",
       "      <td>13.9</td>\n",
       "    </tr>\n",
       "    <tr>\n",
       "      <th>2</th>\n",
       "      <td>[[24065, 24077, 24091, 24076, 24074, 24075, 24...</td>\n",
       "      <td>14.1</td>\n",
       "    </tr>\n",
       "    <tr>\n",
       "      <th>3</th>\n",
       "      <td>[[23974, 23965, 23972, 23965, 23967, 23964, 23...</td>\n",
       "      <td>14.2</td>\n",
       "    </tr>\n",
       "    <tr>\n",
       "      <th>4</th>\n",
       "      <td>[[23872, 23859, 23845, 23862, 23857, 23865, 23...</td>\n",
       "      <td>14.4</td>\n",
       "    </tr>\n",
       "    <tr>\n",
       "      <th>...</th>\n",
       "      <td>...</td>\n",
       "      <td>...</td>\n",
       "    </tr>\n",
       "    <tr>\n",
       "      <th>95</th>\n",
       "      <td>[[22681, 22667, 22678, 22660, 22686, 22679, 22...</td>\n",
       "      <td>21.2</td>\n",
       "    </tr>\n",
       "    <tr>\n",
       "      <th>96</th>\n",
       "      <td>[[22675, 22652, 22663, 22665, 22662, 22667, 22...</td>\n",
       "      <td>21.2</td>\n",
       "    </tr>\n",
       "    <tr>\n",
       "      <th>97</th>\n",
       "      <td>[[22694, 22665, 22655, 22662, 22675, 22664, 22...</td>\n",
       "      <td>21.2</td>\n",
       "    </tr>\n",
       "    <tr>\n",
       "      <th>98</th>\n",
       "      <td>[[22659, 22653, 22661, 22669, 22667, 22661, 22...</td>\n",
       "      <td>21.2</td>\n",
       "    </tr>\n",
       "    <tr>\n",
       "      <th>99</th>\n",
       "      <td>[[22666, 22648, 22651, 22658, 22675, 22679, 22...</td>\n",
       "      <td>21.2</td>\n",
       "    </tr>\n",
       "  </tbody>\n",
       "</table>\n",
       "<p>100 rows × 2 columns</p>\n",
       "</div>"
      ],
      "text/plain": [
       "                                              images1  temp1\n",
       "0   [[24137, 24142, 24138, 24145, 24108, 24131, 24...   13.8\n",
       "1   [[24019, 24018, 24006, 24023, 24015, 24040, 24...   13.9\n",
       "2   [[24065, 24077, 24091, 24076, 24074, 24075, 24...   14.1\n",
       "3   [[23974, 23965, 23972, 23965, 23967, 23964, 23...   14.2\n",
       "4   [[23872, 23859, 23845, 23862, 23857, 23865, 23...   14.4\n",
       "..                                                ...    ...\n",
       "95  [[22681, 22667, 22678, 22660, 22686, 22679, 22...   21.2\n",
       "96  [[22675, 22652, 22663, 22665, 22662, 22667, 22...   21.2\n",
       "97  [[22694, 22665, 22655, 22662, 22675, 22664, 22...   21.2\n",
       "98  [[22659, 22653, 22661, 22669, 22667, 22661, 22...   21.2\n",
       "99  [[22666, 22648, 22651, 22658, 22675, 22679, 22...   21.2\n",
       "\n",
       "[100 rows x 2 columns]"
      ]
     },
     "execution_count": 3,
     "metadata": {},
     "output_type": "execute_result"
    }
   ],
   "source": [
    "#will create a df and print the names of the keys in the original hdf5 file\n",
    "df1 = create_NUC_df(path,cal_file1)\n",
    "df2 = create_NUC_df(path,cal_file2)\n",
    "df2"
   ]
  },
  {
   "cell_type": "code",
   "execution_count": 4,
   "metadata": {},
   "outputs": [],
   "source": [
    "#select ROI\n",
    "ymin1 = 100; ymax1 = 145;\n",
    "ymin2 = 125; ymax2 = 170;\n",
    "\n",
    "temps = [35,40,45,50,55,60,70,75]"
   ]
  },
  {
   "cell_type": "code",
   "execution_count": 5,
   "metadata": {},
   "outputs": [
    {
     "data": {
      "image/png": "[encoded data removed]",
      "text/plain": [
       "<Figure size 432x288 with 1 Axes>"
      ]
     },
     "metadata": {},
     "output_type": "display_data"
    }
   ],
   "source": [
    "plt.plot(df1['temp1'],'.',label='camera 1')\n",
    "plt.plot(df2['temp1'],'.',label='camera 2')\n",
    "plt.xlabel('measurement number')\n",
    "plt.ylabel('FPA temperature [$^\\circ C$]')\n",
    "plt.legend()\n",
    "plt.show()"
   ]
  },
  {
   "cell_type": "code",
   "execution_count": 9,
   "metadata": {},
   "outputs": [],
   "source": [
    "# pixel fit \n",
    "def f(T, m, b,rc): # this is your 'straight line' y=f(x)\n",
    "    dt = 21 - T; #delta T,T ref is 21\n",
    "    return A*x**2 + B"
   ]
  },
  {
   "cell_type": "code",
   "execution_count": 10,
   "metadata": {},
   "outputs": [
    {
     "data": {
      "image/png": "[encoded data removed]",
      "text/plain": [
       "<Figure size 432x288 with 1 Axes>"
      ]
     },
     "metadata": {},
     "output_type": "display_data"
    }
   ],
   "source": [
    "for j in range(10):\n",
    "    values = np.zeros(100)\n",
    "    for i in range(100):\n",
    "        im = df2['images1'][i];\n",
    "        values[i] = im[y+j,x]\n",
    "    plt.plot(df2['temp1'],values,'.')\n",
    "\n",
    "plt.xlabel('FPA temperature [$^\\circ C$]')   \n",
    "plt.ylabel('raw pixel response')\n",
    "plt.title('Sample for 10 Pixel Resposes vs. FPA Temperature,\\n Camera 2')\n",
    "plt.show()    \n"
   ]
  },
  {
   "cell_type": "code",
   "execution_count": 322,
   "metadata": {},
   "outputs": [],
   "source": [
    "#going to make a df by hand"
   ]
  },
  {
   "cell_type": "code",
   "execution_count": 12,
   "metadata": {},
   "outputs": [],
   "source": [
    "bbtemps1 = [];bbtemps2 = []; temps1 =[];temps2 = []; images1 =[]; images2 = [];\n",
    "\n",
    "for t in temps:\n",
    "    #choose filepath to desired data\n",
    "    path = '/Users/kirahart/Dropbox/GitHub/IRCSP2_data/calibration_data/LUT/'\n",
    "    cal_file1 = 'cam1_'+str(t)+'.h5'\n",
    "    cal_file2 = 'cam2_'+str(t)+'.h5'\n",
    "    df1 = create_NUC_df(path,cal_file1)\n",
    "    df2 = create_NUC_df(path,cal_file2)\n",
    "    t1,i1 = collapse_df(df1)\n",
    "    t2,i2 = collapse_df(df2)\n",
    "    bbtemps1.extend(np.ones(len(t1))*t)\n",
    "    bbtemps2.extend(np.ones(len(t2))*t)\n",
    "    temps1.extend(t1)\n",
    "    temps2.extend(t2)\n",
    "    images1.extend(i1)\n",
    "    images2.extend(i2)\n",
    "        "
   ]
  },
  {
   "cell_type": "code",
   "execution_count": 13,
   "metadata": {},
   "outputs": [
    {
     "data": {
      "text/plain": [
       "13"
      ]
     },
     "execution_count": 13,
     "metadata": {},
     "output_type": "execute_result"
    }
   ],
   "source": [
    "data1= {'bbtemp': bbtemps1, 'temps1': temps1,'images1':list(images1)}\n",
    "data2= {'bbtemp': bbtemps2, 'temps1': temps2,'images1':list(images2)}\n",
    "len(bbtemps1)"
   ]
  },
  {
   "cell_type": "code",
   "execution_count": 14,
   "metadata": {},
   "outputs": [],
   "source": [
    "cam1 = pd.DataFrame.from_dict(data1)\n",
    "cam2 = pd.DataFrame.from_dict(data2)"
   ]
  },
  {
   "cell_type": "code",
   "execution_count": 13,
   "metadata": {},
   "outputs": [
    {
     "data": {
      "text/html": [
       "<div>\n",
       "<style scoped>\n",
       "    .dataframe tbody tr th:only-of-type {\n",
       "        vertical-align: middle;\n",
       "    }\n",
       "\n",
       "    .dataframe tbody tr th {\n",
       "        vertical-align: top;\n",
       "    }\n",
       "\n",
       "    .dataframe thead th {\n",
       "        text-align: right;\n",
       "    }\n",
       "</style>\n",
       "<table border=\"1\" class=\"dataframe\">\n",
       "  <thead>\n",
       "    <tr style=\"text-align: right;\">\n",
       "      <th></th>\n",
       "      <th>bbtemp</th>\n",
       "      <th>temps1</th>\n",
       "      <th>images1</th>\n",
       "    </tr>\n",
       "  </thead>\n",
       "  <tbody>\n",
       "    <tr>\n",
       "      <th>0</th>\n",
       "      <td>35.0</td>\n",
       "      <td>22.1</td>\n",
       "      <td>[[22448.0, 22457.0, 22465.0, 22470.0, 22474.0,...</td>\n",
       "    </tr>\n",
       "    <tr>\n",
       "      <th>1</th>\n",
       "      <td>35.0</td>\n",
       "      <td>22.2</td>\n",
       "      <td>[[22399.0, 22402.0, 22410.0, 22418.0, 22424.0,...</td>\n",
       "    </tr>\n",
       "    <tr>\n",
       "      <th>2</th>\n",
       "      <td>40.0</td>\n",
       "      <td>22.2</td>\n",
       "      <td>[[22432.0, 22442.0, 22457.0, 22456.0, 22452.0,...</td>\n",
       "    </tr>\n",
       "    <tr>\n",
       "      <th>3</th>\n",
       "      <td>40.0</td>\n",
       "      <td>22.1</td>\n",
       "      <td>[[22431.0, 22440.0, 22454.0, 22452.0, 22451.0,...</td>\n",
       "    </tr>\n",
       "    <tr>\n",
       "      <th>4</th>\n",
       "      <td>45.0</td>\n",
       "      <td>22.1</td>\n",
       "      <td>[[22508.0, 22491.0, 22514.0, 22509.0, 22511.0,...</td>\n",
       "    </tr>\n",
       "    <tr>\n",
       "      <th>5</th>\n",
       "      <td>45.0</td>\n",
       "      <td>22.2</td>\n",
       "      <td>[[22419.0, 22418.0, 22438.0, 22439.0, 22438.0,...</td>\n",
       "    </tr>\n",
       "    <tr>\n",
       "      <th>6</th>\n",
       "      <td>50.0</td>\n",
       "      <td>22.2</td>\n",
       "      <td>[[22431.0, 22413.0, 22433.0, 22426.0, 22433.0,...</td>\n",
       "    </tr>\n",
       "    <tr>\n",
       "      <th>7</th>\n",
       "      <td>55.0</td>\n",
       "      <td>22.2</td>\n",
       "      <td>[[22453.0, 22468.0, 22474.0, 22465.0, 22469.0,...</td>\n",
       "    </tr>\n",
       "    <tr>\n",
       "      <th>8</th>\n",
       "      <td>55.0</td>\n",
       "      <td>22.1</td>\n",
       "      <td>[[22488.0, 22527.0, 22529.0, 22500.0, 22521.0,...</td>\n",
       "    </tr>\n",
       "    <tr>\n",
       "      <th>9</th>\n",
       "      <td>60.0</td>\n",
       "      <td>22.2</td>\n",
       "      <td>[[22432.0, 22460.0, 22456.0, 22448.0, 22454.0,...</td>\n",
       "    </tr>\n",
       "    <tr>\n",
       "      <th>10</th>\n",
       "      <td>70.0</td>\n",
       "      <td>22.1</td>\n",
       "      <td>[[22430.0, 22448.0, 22446.0, 22446.0, 22444.0,...</td>\n",
       "    </tr>\n",
       "    <tr>\n",
       "      <th>11</th>\n",
       "      <td>70.0</td>\n",
       "      <td>22.2</td>\n",
       "      <td>[[22426.0, 22447.0, 22439.0, 22446.0, 22442.0,...</td>\n",
       "    </tr>\n",
       "    <tr>\n",
       "      <th>12</th>\n",
       "      <td>75.0</td>\n",
       "      <td>22.0</td>\n",
       "      <td>[[22545.0, 22542.0, 22538.0, 22555.0, 22538.0,...</td>\n",
       "    </tr>\n",
       "    <tr>\n",
       "      <th>13</th>\n",
       "      <td>75.0</td>\n",
       "      <td>22.1</td>\n",
       "      <td>[[22549.0, 22549.0, 22545.0, 22558.0, 22544.0,...</td>\n",
       "    </tr>\n",
       "  </tbody>\n",
       "</table>\n",
       "</div>"
      ],
      "text/plain": [
       "    bbtemp  temps1                                            images1\n",
       "0     35.0    22.1  [[22448.0, 22457.0, 22465.0, 22470.0, 22474.0,...\n",
       "1     35.0    22.2  [[22399.0, 22402.0, 22410.0, 22418.0, 22424.0,...\n",
       "2     40.0    22.2  [[22432.0, 22442.0, 22457.0, 22456.0, 22452.0,...\n",
       "3     40.0    22.1  [[22431.0, 22440.0, 22454.0, 22452.0, 22451.0,...\n",
       "4     45.0    22.1  [[22508.0, 22491.0, 22514.0, 22509.0, 22511.0,...\n",
       "5     45.0    22.2  [[22419.0, 22418.0, 22438.0, 22439.0, 22438.0,...\n",
       "6     50.0    22.2  [[22431.0, 22413.0, 22433.0, 22426.0, 22433.0,...\n",
       "7     55.0    22.2  [[22453.0, 22468.0, 22474.0, 22465.0, 22469.0,...\n",
       "8     55.0    22.1  [[22488.0, 22527.0, 22529.0, 22500.0, 22521.0,...\n",
       "9     60.0    22.2  [[22432.0, 22460.0, 22456.0, 22448.0, 22454.0,...\n",
       "10    70.0    22.1  [[22430.0, 22448.0, 22446.0, 22446.0, 22444.0,...\n",
       "11    70.0    22.2  [[22426.0, 22447.0, 22439.0, 22446.0, 22442.0,...\n",
       "12    75.0    22.0  [[22545.0, 22542.0, 22538.0, 22555.0, 22538.0,...\n",
       "13    75.0    22.1  [[22549.0, 22549.0, 22545.0, 22558.0, 22544.0,..."
      ]
     },
     "execution_count": 13,
     "metadata": {},
     "output_type": "execute_result"
    }
   ],
   "source": [
    "cam2"
   ]
  },
  {
   "cell_type": "code",
   "execution_count": 15,
   "metadata": {},
   "outputs": [],
   "source": [
    "avg1 = cam1['images1'].map(lambda x: x.mean())\n",
    "avg2 = cam2['images1'].map(lambda x: x.mean())\n",
    "\n",
    "cam1['avg']=avg1\n",
    "cam2['avg']=avg2"
   ]
  },
  {
   "cell_type": "code",
   "execution_count": 404,
   "metadata": {},
   "outputs": [
    {
     "data": {
      "text/plain": [
       "Text(0.5, 0, 'Avg. .tiff ')"
      ]
     },
     "execution_count": 404,
     "metadata": {},
     "output_type": "execute_result"
    },
    {
     "data": {
      "image/png": "[encoded data removed]",
      "text/plain": [
       "<Figure size 432x288 with 1 Axes>"
      ]
     },
     "metadata": {},
     "output_type": "display_data"
    }
   ],
   "source": [
    "fig = plt.figure()\n",
    "ax = fig.add_subplot(111, projection='3d')\n",
    "ax.scatter(cam1['bbtemp'], cam1['temps1'], cam1['avg'])\n",
    "ax.scatter(cam2['bbtemp'], cam2['temps1'], cam2['avg'])\n",
    "ax.set_xlabel('BB Temp [$^\\circ$ C]')\n",
    "ax.set_ylabel('FPA Temp [$^\\circ$ C]')\n",
    "ax.set_zlabel('Avg. .tiff ')"
   ]
  },
  {
   "cell_type": "code",
   "execution_count": 19,
   "metadata": {},
   "outputs": [
    {
     "data": {
      "text/plain": [
       "23062.0"
      ]
     },
     "execution_count": 19,
     "metadata": {},
     "output_type": "execute_result"
    }
   ],
   "source": [
    "x = 20;\n",
    "y = 30;\n",
    "for i in len(cam1['images1'])(cam1['images1'][0])[y][x]\n",
    "    "
   ]
  },
  {
   "cell_type": "code",
   "execution_count": 30,
   "metadata": {},
   "outputs": [
    {
     "data": {
      "text/plain": [
       "array([35., 40., 45., 50., 55., 60., 70., 75.])"
      ]
     },
     "execution_count": 30,
     "metadata": {},
     "output_type": "execute_result"
    }
   ],
   "source": [
    "cam2.bbtemp.unique()\n",
    "#need to build the NUC correction table manually "
   ]
  },
  {
   "cell_type": "code",
   "execution_count": 47,
   "metadata": {},
   "outputs": [],
   "source": [
    "df=cam2;\n",
    "\n",
    "#note that this function will only use the first 2 FPA temps\n",
    "#find unique temps\n",
    "ts = df.bbtemp.unique()\n",
    "counts  = np.array(df['bbtemp'].value_counts())\n",
    "remove=[]\n",
    "#find bbtemps that only have one fpa temp\n",
    "for i in range(len(counts)):\n",
    "    if counts[i] <2:\n",
    "        remove.append(i)\n",
    "#remove bbtemps that only have one fpa temp        \n",
    "ts = np.delete(ts,remove)   \n",
    "\n",
    "#make new df\n",
    "for i in range(len(ts)):\n",
    "    dfs = df.loc[df['bbtemp'] == ts[1]]\n",
    "    tfpas = np.array(dfs['temps1'])\n",
    "    responses =  np.array(dfs['arrays'])\n",
    "    "
   ]
  },
  {
   "cell_type": "code",
   "execution_count": 60,
   "metadata": {},
   "outputs": [
    {
     "data": {
      "text/plain": [
       "array([22.2, 22.1])"
      ]
     },
     "execution_count": 60,
     "metadata": {},
     "output_type": "execute_result"
    }
   ],
   "source": [
    "dfs = df.loc[df['bbtemp'] == ts[1]]\n",
    "tfpas = np.array(dfs['temps1'])\n",
    "responses =  np.array(dfs['arrays'])"
   ]
  },
  {
   "cell_type": "code",
   "execution_count": 61,
   "metadata": {},
   "outputs": [
    {
     "data": {
      "text/html": [
       "<div>\n",
       "<style scoped>\n",
       "    .dataframe tbody tr th:only-of-type {\n",
       "        vertical-align: middle;\n",
       "    }\n",
       "\n",
       "    .dataframe tbody tr th {\n",
       "        vertical-align: top;\n",
       "    }\n",
       "\n",
       "    .dataframe thead th {\n",
       "        text-align: right;\n",
       "    }\n",
       "</style>\n",
       "<table border=\"1\" class=\"dataframe\">\n",
       "  <thead>\n",
       "    <tr style=\"text-align: right;\">\n",
       "      <th></th>\n",
       "      <th>bbtemp</th>\n",
       "      <th>temps1</th>\n",
       "      <th>images1</th>\n",
       "      <th>avg</th>\n",
       "    </tr>\n",
       "  </thead>\n",
       "  <tbody>\n",
       "    <tr>\n",
       "      <th>0</th>\n",
       "      <td>35.0</td>\n",
       "      <td>22.2</td>\n",
       "      <td>[[23058.0, 23061.0, 23051.0, 23061.0, 23067.0,...</td>\n",
       "      <td>23022.345374</td>\n",
       "    </tr>\n",
       "    <tr>\n",
       "      <th>1</th>\n",
       "      <td>40.0</td>\n",
       "      <td>22.3</td>\n",
       "      <td>[[23022.0, 23035.0, 23028.0, 23031.0, 23041.0,...</td>\n",
       "      <td>23014.890527</td>\n",
       "    </tr>\n",
       "    <tr>\n",
       "      <th>2</th>\n",
       "      <td>45.0</td>\n",
       "      <td>22.4</td>\n",
       "      <td>[[23002.0, 23027.0, 23020.0, 23019.0, 23030.0,...</td>\n",
       "      <td>23003.034033</td>\n",
       "    </tr>\n",
       "    <tr>\n",
       "      <th>3</th>\n",
       "      <td>45.0</td>\n",
       "      <td>22.3</td>\n",
       "      <td>[[23002.0, 23025.0, 23019.0, 23018.0, 23031.0,...</td>\n",
       "      <td>23004.970190</td>\n",
       "    </tr>\n",
       "    <tr>\n",
       "      <th>4</th>\n",
       "      <td>50.0</td>\n",
       "      <td>22.4</td>\n",
       "      <td>[[23057.0, 23065.0, 23055.0, 23058.0, 23059.0,...</td>\n",
       "      <td>23016.072974</td>\n",
       "    </tr>\n",
       "    <tr>\n",
       "      <th>5</th>\n",
       "      <td>50.0</td>\n",
       "      <td>22.5</td>\n",
       "      <td>[[23062.0, 23069.0, 23058.0, 23061.0, 23063.0,...</td>\n",
       "      <td>23015.434448</td>\n",
       "    </tr>\n",
       "    <tr>\n",
       "      <th>6</th>\n",
       "      <td>55.0</td>\n",
       "      <td>22.5</td>\n",
       "      <td>[[23066.0, 23078.0, 23062.0, 23083.0, 23072.0,...</td>\n",
       "      <td>23019.015613</td>\n",
       "    </tr>\n",
       "    <tr>\n",
       "      <th>7</th>\n",
       "      <td>55.0</td>\n",
       "      <td>22.6</td>\n",
       "      <td>[[22984.0, 22982.0, 22975.0, 22978.0, 22991.0,...</td>\n",
       "      <td>23021.629370</td>\n",
       "    </tr>\n",
       "    <tr>\n",
       "      <th>8</th>\n",
       "      <td>60.0</td>\n",
       "      <td>22.6</td>\n",
       "      <td>[[23030.0, 23039.0, 23026.0, 23049.0, 23038.0,...</td>\n",
       "      <td>23010.569397</td>\n",
       "    </tr>\n",
       "    <tr>\n",
       "      <th>9</th>\n",
       "      <td>60.0</td>\n",
       "      <td>22.5</td>\n",
       "      <td>[[23025.0, 23034.0, 23016.0, 23041.0, 23033.0,...</td>\n",
       "      <td>23012.338782</td>\n",
       "    </tr>\n",
       "    <tr>\n",
       "      <th>10</th>\n",
       "      <td>70.0</td>\n",
       "      <td>22.9</td>\n",
       "      <td>[[23064.0, 23067.0, 23046.0, 23065.0, 23069.0,...</td>\n",
       "      <td>23019.258899</td>\n",
       "    </tr>\n",
       "    <tr>\n",
       "      <th>11</th>\n",
       "      <td>70.0</td>\n",
       "      <td>23.0</td>\n",
       "      <td>[[23076.0, 23078.0, 23055.0, 23077.0, 23081.0,...</td>\n",
       "      <td>23014.638403</td>\n",
       "    </tr>\n",
       "    <tr>\n",
       "      <th>12</th>\n",
       "      <td>75.0</td>\n",
       "      <td>22.8</td>\n",
       "      <td>[[23054.0, 23057.0, 23055.0, 23069.0, 23071.0,...</td>\n",
       "      <td>23004.259778</td>\n",
       "    </tr>\n",
       "  </tbody>\n",
       "</table>\n",
       "</div>"
      ],
      "text/plain": [
       "    bbtemp  temps1                                            images1  \\\n",
       "0     35.0    22.2  [[23058.0, 23061.0, 23051.0, 23061.0, 23067.0,...   \n",
       "1     40.0    22.3  [[23022.0, 23035.0, 23028.0, 23031.0, 23041.0,...   \n",
       "2     45.0    22.4  [[23002.0, 23027.0, 23020.0, 23019.0, 23030.0,...   \n",
       "3     45.0    22.3  [[23002.0, 23025.0, 23019.0, 23018.0, 23031.0,...   \n",
       "4     50.0    22.4  [[23057.0, 23065.0, 23055.0, 23058.0, 23059.0,...   \n",
       "5     50.0    22.5  [[23062.0, 23069.0, 23058.0, 23061.0, 23063.0,...   \n",
       "6     55.0    22.5  [[23066.0, 23078.0, 23062.0, 23083.0, 23072.0,...   \n",
       "7     55.0    22.6  [[22984.0, 22982.0, 22975.0, 22978.0, 22991.0,...   \n",
       "8     60.0    22.6  [[23030.0, 23039.0, 23026.0, 23049.0, 23038.0,...   \n",
       "9     60.0    22.5  [[23025.0, 23034.0, 23016.0, 23041.0, 23033.0,...   \n",
       "10    70.0    22.9  [[23064.0, 23067.0, 23046.0, 23065.0, 23069.0,...   \n",
       "11    70.0    23.0  [[23076.0, 23078.0, 23055.0, 23077.0, 23081.0,...   \n",
       "12    75.0    22.8  [[23054.0, 23057.0, 23055.0, 23069.0, 23071.0,...   \n",
       "\n",
       "             avg  \n",
       "0   23022.345374  \n",
       "1   23014.890527  \n",
       "2   23003.034033  \n",
       "3   23004.970190  \n",
       "4   23016.072974  \n",
       "5   23015.434448  \n",
       "6   23019.015613  \n",
       "7   23021.629370  \n",
       "8   23010.569397  \n",
       "9   23012.338782  \n",
       "10  23019.258899  \n",
       "11  23014.638403  \n",
       "12  23004.259778  "
      ]
     },
     "execution_count": 61,
     "metadata": {},
     "output_type": "execute_result"
    }
   ],
   "source": [
    "cam1"
   ]
  },
  {
   "cell_type": "code",
   "execution_count": null,
   "metadata": {},
   "outputs": [],
   "source": []
  }
 ],
 "metadata": {
  "kernelspec": {
   "display_name": "Python 3",
   "language": "python",
   "name": "python3"
  },
  "language_info": {
   "codemirror_mode": {
    "name": "ipython",
    "version": 3
   },
   "file_extension": ".py",
   "mimetype": "text/x-python",
   "name": "python",
   "nbconvert_exporter": "python",
   "pygments_lexer": "ipython3",
   "version": "3.8.5"
  }
 },
 "nbformat": 4,
 "nbformat_minor": 4
}
