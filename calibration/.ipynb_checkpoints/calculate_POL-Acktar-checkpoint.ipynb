{
 "cells": [
  {
   "cell_type": "code",
   "execution_count": 302,
   "id": "a66446a0",
   "metadata": {},
   "outputs": [],
   "source": [
    "import numpy as np\n",
    "import pandas as pd\n",
    "import h5py\n",
    "import sys\n",
    "import matplotlib.pyplot as plt\n",
    "import matplotlib.cm as cm\n",
    "from statistics import mean\n",
    "import scipy\n",
    "from pathlib import Path\n",
    "\n",
    "from radiometric.LUT import create_LUT_df, determine_reference, applyNUC_to_LUT\n",
    "\n",
    "from NUC.NUC_functions import import_NUC, apply_NUC, get_slice, determine_slope\n",
    "from NUC.NUC_functions import determine_dark, apply_DFC_to_df\n",
    "from NUC.NUC_functions import pixel_registration\n",
    "\n",
    "from matplotlib import cm\n",
    "from scipy.optimize import curve_fit\n"
   ]
  },
  {
   "cell_type": "code",
   "execution_count": 375,
   "id": "a909b5e6",
   "metadata": {},
   "outputs": [],
   "source": [
    "#choose filepath to desired data\n",
    "path = '/Volumes/KESU/apr06/LUTS/'\n",
    "#note cam definitions are flipped as of FLIRPY ffc fix \n",
    "cal_file2 =  '/Volumes/KESU/calibration_files/cam1pixel.h5'\n",
    "cal_file1 =  '/Volumes/KESU/calibration_files/cam2pixel.h5'"
   ]
  },
  {
   "cell_type": "code",
   "execution_count": 376,
   "id": "7cfe78e4",
   "metadata": {},
   "outputs": [
    {
     "data": {
      "text/plain": [
       "array([35., 36., 37., 38., 39., 40., 41., 42., 43., 44., 45., 46., 47.,\n",
       "       48., 49., 50., 51., 52., 53., 54., 55., 56., 57., 58., 59., 60.,\n",
       "       61., 62., 63., 64., 65., 66., 67., 68., 69., 70., 71., 72., 73.,\n",
       "       74., 75., 76., 77., 78., 79., 80.])"
      ]
     },
     "execution_count": 376,
     "metadata": {},
     "output_type": "execute_result"
    }
   ],
   "source": [
    "waves= np.linspace(7,12,61)\n",
    "temps = np.linspace(35,80,46)\n",
    "temps"
   ]
  },
  {
   "cell_type": "code",
   "execution_count": 377,
   "id": "8977baba",
   "metadata": {},
   "outputs": [],
   "source": [
    "#select ROI\n",
    "ymin2 = 90; ymax2 = 150;\n",
    "ymin1 = 120; ymax1 = 180;\n",
    "\n",
    "FOV = 5.33 ;\n",
    "HFOV = FOV/4;\n",
    "angles = np.round(np.linspace(-HFOV,HFOV,ymax2-ymin2))"
   ]
  },
  {
   "cell_type": "code",
   "execution_count": null,
   "id": "5276a531",
   "metadata": {},
   "outputs": [],
   "source": [
    "filename = path + '30C.h5'\n",
    "\n",
    "\n",
    "with h5py.File(filename, \"r\") as file:\n",
    "    image1 = np.mean(file['imgs1'][()],axis = 0)\n",
    "    image2 = np.mean(file['imgs2'][()],axis = 0)\n",
    "    s1 = np.std(file['imgs1'][()],axis = 0)\n",
    "    s2 = np.mean(file['imgs2'][()],axis = 0)\n",
    "    t2 = np.mean(file['temps2'][()],axis = 0)\n",
    "    t1 = np.mean(file['temps1'][()],axis = 0)\n",
    "\n",
    "c1 = (image1-np.mean(image1[125:175,25:75]))\n",
    "\n",
    "c2 = (image2-np.mean(image2[100:150,25:75]))\n",
    "\n",
    "r1 = np.mean(image1[100:150,25:75])\n",
    "\n",
    "#plot test images, test appearance\n",
    "fig, axes = plt.subplots(nrows=1, ncols=2, figsize=(15, 5),sharey = True)\n",
    "\n",
    "p1 = axes[0].pcolormesh(c1,shading = 'auto',vmin = 0)\n",
    "fig.colorbar(p1, ax=axes[0])\n",
    "axes[0].set_title('Camera 1',fontsize = 14)\n",
    "axes[0].set_ylabel('View Angles [$^\\circ$]',fontsize = 14)\n",
    "axes[0].set_xlabel('Wavlength [$\\mu m$]',fontsize = 14)\n",
    "\n",
    "p2 = axes[1].pcolormesh(c2,shading = 'auto',vmin = 0)\n",
    "axes[1].set_title('Camera 2',fontsize = 14)\n",
    "axes[1].set_xlabel('Wavlength [$\\mu m$]',fontsize = 14)\n",
    "fig.colorbar(p2, ax=axes[1])\n",
    "\n",
    "plt.show()\n",
    "t2"
   ]
  },
  {
   "cell_type": "code",
   "execution_count": 379,
   "id": "17ff299f",
   "metadata": {},
   "outputs": [],
   "source": [
    "im1 = []\n",
    "im2 = []\n",
    "std1 = []\n",
    "std2 = []\n",
    "for t in temps:\n",
    "    filename = path +str(round(t))+'C.h5'\n",
    "\n",
    "    with h5py.File(filename, \"r\") as file:\n",
    "        image1 = np.mean(file['imgs1'][()],axis = 0)\n",
    "        image2 = np.mean(file['imgs2'][()],axis = 0)\n",
    "        s1 = np.std(file['imgs1'][()],axis = 0)\n",
    "        s2 = np.std(file['imgs2'][()],axis = 0)\n",
    "\n",
    "\n",
    "    c1 = (image1-np.mean(image1[125:175,25:75]))\n",
    "    c2 = (image2-np.mean(image2[100:150,25:75]))\n",
    "    \n",
    "    im1.append(c1)\n",
    "    im2.append(c2)\n",
    "    std1.append(s1)\n",
    "    std2.append(s2)\n",
    "\n"
   ]
  },
  {
   "cell_type": "code",
   "execution_count": 380,
   "id": "db08f70e",
   "metadata": {},
   "outputs": [
    {
     "data": {
      "image/png": "[encoded data removed]",
      "text/plain": [
       "<Figure size 432x288 with 1 Axes>"
      ]
     },
     "metadata": {
      "needs_background": "light"
     },
     "output_type": "display_data"
    },
    {
     "data": {
      "text/plain": [
       "143"
      ]
     },
     "execution_count": 380,
     "metadata": {},
     "output_type": "execute_result"
    }
   ],
   "source": [
    "#Find location of 0 degree point\n",
    "p2 = pixel_registration(im2[40],cal_file2,waves,0,256)\n",
    "p1 = pixel_registration(im1[40],cal_file1,waves,0,256)\n",
    "plt.plot(np.mean(p2,axis = 1))\n",
    "plt.plot(np.mean(p1,axis = 1))\n",
    "plt.show()\n",
    "\n",
    "y1 = np.argmax(np.mean(p1,axis = 1))\n",
    "y2 = np.argmax(np.mean(p2,axis = 1))\n",
    "y1"
   ]
  },
  {
   "cell_type": "code",
   "execution_count": null,
   "id": "3cfc4799",
   "metadata": {},
   "outputs": [],
   "source": [
    "for t in range(len(temps)):\n",
    "    p2 = pixel_registration(im2[t],cal_file2,waves,0,256)\n",
    "    p1 = pixel_registration(im1[t],cal_file1,waves,0,256)\n",
    "    s2 = pixel_registration(std2[t],cal_file2,waves,0,256)\n",
    "    s1 = pixel_registration(std1[t],cal_file1,waves,0,256)\n",
    "\n",
    "\n",
    "    plt.errorbar(waves,p2[y2]+p1[y1],yerr = np.sqrt(s2[y2]**2+s1[y1]**2),c=cm.hot(temps[t]/120))\n",
    "\n",
    "\n",
    "plt.show()\n",
    "\n"
   ]
  },
  {
   "cell_type": "code",
   "execution_count": null,
   "id": "57021ea8",
   "metadata": {},
   "outputs": [],
   "source": [
    "responses = np.zeros([len(temps),len(waves)])\n",
    "responses1 = np.zeros([len(temps),len(waves)])\n",
    "responses2 = np.zeros([len(temps),len(waves)])\n",
    "responses_err = np.zeros([len(temps),len(waves)])\n",
    "responses_err1 = np.zeros([len(temps),len(waves)])\n",
    "responses_err2 = np.zeros([len(temps),len(waves)])\n",
    "\n",
    "for t in range(len(temps)):\n",
    "    p2 = pixel_registration(im2[t],cal_file2,waves,0,256)\n",
    "    p1 = pixel_registration(im1[t],cal_file1,waves,0,256)\n",
    "    s2 = pixel_registration(std2[t],cal_file2,waves,0,256)\n",
    "    s1 = pixel_registration(std1[t],cal_file1,waves,0,256)\n",
    "\n",
    "    err = np.sqrt(s2[y2]**2+s1[y1]**2)\n",
    "    responses[t]= p2[y2]+p1[y1]\n",
    "    responses_err[t]= err\n",
    "    \n",
    "    responses1[t]= p1[y1]\n",
    "    responses_err1[t]= s1[y1]\n",
    "    responses2[t]= p2[y2]\n",
    "    responses_err2[t]= s2[y2]\n"
   ]
  },
  {
   "cell_type": "code",
   "execution_count": null,
   "id": "76e44ac6",
   "metadata": {},
   "outputs": [],
   "source": [
    "\"\"\" Fitting Function\"\"\"\n",
    "def func(x, a, b,c):\n",
    "    y = a*(x-b)**1.7 \n",
    "    return y\n",
    "\n",
    "ind = 1\n",
    "\n",
    "x = temps \n",
    "y = responses[:,ind]\n",
    "y1 = responses1[:,ind]\n",
    "y2 = responses2[:,ind]\n",
    "x2 = np.arange(0,90)\n",
    "\n",
    "popt, pcov = curve_fit(func, x, y, sigma = None)\n",
    "popt1, pcov1 = curve_fit(func, x, y1, sigma = None)\n",
    "popt2, pcov2 = curve_fit(func, x, y2, sigma = None)\n",
    "\n",
    "#plt.plot(x2, func(x2, *popt), 'k--')\n",
    "plt.plot(x2, func(x2, *popt1), 'b--')\n",
    "plt.plot(x2, func(x2, *popt2),'r--')\n",
    "\n",
    "#plt.errorbar(x,y,yerr = responses_err[:,ind],fmt='.k')\n",
    "plt.errorbar(x,y1,yerr = responses_err1[:,ind],fmt='.b')\n",
    "plt.errorbar(x,y2,yerr = responses_err2[:,ind],fmt='.r')\n",
    "\n",
    "plt.show()\n",
    "\n",
    "popt"
   ]
  },
  {
   "cell_type": "code",
   "execution_count": null,
   "id": "2753fa66",
   "metadata": {},
   "outputs": [],
   "source": [
    "var = np.zeros([len(waves),3])\n",
    "var1 = np.zeros([len(waves),3])\n",
    "var2 = np.zeros([len(waves),3])\n",
    "\n",
    "for t in range(len(waves)):\n",
    "    \n",
    "    x = temps \n",
    "    y = responses[:,t]\n",
    "    y1 = responses1[:,t]\n",
    "    y2 = responses2[:,t]\n",
    "\n",
    "    popt, pcov = curve_fit(func, x, y, sigma = None)\n",
    "    popt1, pcov1 = curve_fit(func, x, y1, sigma = None)\n",
    "    popt2, pcov2 = curve_fit(func, x, y2, sigma = None)\n",
    "\n",
    "    \n",
    "    var[t] = popt\n",
    "    var1[t] = popt1\n",
    "    var2[t] = popt2"
   ]
  },
  {
   "cell_type": "code",
   "execution_count": null,
   "id": "a5e6d5ab",
   "metadata": {},
   "outputs": [],
   "source": [
    "plt.plot(waves,var[:,0])\n",
    "plt.plot(waves,var1[:,0])\n",
    "plt.plot(waves,var2[:,0])"
   ]
  },
  {
   "cell_type": "code",
   "execution_count": null,
   "id": "529d8ab3",
   "metadata": {},
   "outputs": [],
   "source": []
  },
  {
   "cell_type": "code",
   "execution_count": null,
   "id": "e8b18211",
   "metadata": {},
   "outputs": [],
   "source": []
  }
 ],
 "metadata": {
  "kernelspec": {
   "display_name": "Python 3 (ipykernel)",
   "language": "python",
   "name": "python3"
  },
  "language_info": {
   "codemirror_mode": {
    "name": "ipython",
    "version": 3
   },
   "file_extension": ".py",
   "mimetype": "text/x-python",
   "name": "python",
   "nbconvert_exporter": "python",
   "pygments_lexer": "ipython3",
   "version": "3.7.11"
  }
 },
 "nbformat": 4,
 "nbformat_minor": 5
}
