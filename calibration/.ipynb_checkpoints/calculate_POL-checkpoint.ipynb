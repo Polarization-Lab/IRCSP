{
 "cells": [
  {
   "cell_type": "code",
   "execution_count": 1,
   "metadata": {},
   "outputs": [],
   "source": [
    "import numpy as np\n",
    "import pandas as pd\n",
    "import h5py\n",
    "import sys\n",
    "import matplotlib.pyplot as plt\n",
    "from statistics import mean\n",
    "from scipy.optimize import curve_fit\n",
    "\n",
    "sys.path.insert(0, './radiometric')\n",
    "from LUT_functions import pixel_registration, create_LUT_df\n",
    "import scipy\n",
    "\n",
    "# Seaborn for plotting and styling\n",
    "import seaborn as sns\n",
    "sns.set_theme()\n",
    "sns.set_style(\"whitegrid\", {'axes.grid' : False})"
   ]
  },
  {
   "cell_type": "code",
   "execution_count": 2,
   "metadata": {},
   "outputs": [],
   "source": [
    "#choose filepath to desired data\n",
    "path = '/Users/kirahart/Dropbox/GitHub/IRCSP2_data/calibration_data/LUT/'\n",
    "cal_file1 =  \"/Users/kirahart/Dropbox/GitHub/IRCSP2_data/calibration_files/cam1pixel.h5\"\n",
    "cal_file2 =  \"/Users/kirahart/Dropbox/GitHub/IRCSP2_data/calibration_files/cam2pixel.h5\""
   ]
  },
  {
   "cell_type": "code",
   "execution_count": 3,
   "metadata": {},
   "outputs": [],
   "source": [
    "#will create a df and print the names of the keys in the original hdf5 file\n",
    "df1 = create_LUT_df(path,'cam1_80.h5')\n",
    "df2 = create_LUT_df(path,'cam2_80.h5')"
   ]
  },
  {
   "cell_type": "code",
   "execution_count": 4,
   "metadata": {},
   "outputs": [],
   "source": [
    "waves= np.linspace(7,12,61)\n",
    "temps = [25,30,35,40,45,50,55,60,70,75,80]\n",
    "angles = np.round(np.linspace(-7.07,7.07,35),1)"
   ]
  },
  {
   "cell_type": "code",
   "execution_count": 5,
   "metadata": {},
   "outputs": [],
   "source": [
    "#import nuc calibration\n",
    "sys.path.insert(0, './NUC')\n",
    "from NUC_functions import import_NUC, apply_NUC\n",
    "cal_path = '/Users/kirahart/Dropbox/GitHub/IRCSP2_data/calibration_files/NUC.h5'\n",
    "\n",
    "m1,b1,T_ref1,m2,b2,T_ref2 = import_NUC(cal_path)"
   ]
  },
  {
   "cell_type": "code",
   "execution_count": 6,
   "metadata": {},
   "outputs": [],
   "source": [
    "#apply pixel registration and NUC to full dataset\n",
    "\n",
    "ymin1 = 105; ymax1 = 140;\n",
    "ymin2 = 130; ymax2 = 165;\n",
    "\n",
    "mean_ims1 =[]\n",
    "mean_ims2 =[]\n",
    "std_ims1  =[]\n",
    "std_ims2  =[]\n",
    "\n",
    "mean_ims1n =[]\n",
    "mean_ims2n =[]\n",
    "std_ims1n  =[]\n",
    "std_ims2n  =[]\n",
    "\n",
    "for i in temps:\n",
    "    #will create a df and print the names of the keys in the original hdf5 file\n",
    "    df1 = create_LUT_df(path,'cam1_'+str(i)+'.h5')\n",
    "    df2 = create_LUT_df(path,'cam2_'+str(i)+'.h5')\n",
    "    \n",
    "    corrected_images1= [] ; corrected_images1n= [];\n",
    "    corrected_images2= [] ; corrected_images2n= []\n",
    "\n",
    "    for i in range(len(df1)):\n",
    "        #first without NUC correction\n",
    "        r = df1['images1'][i];\n",
    "        c = pixel_registration(r,cal_file1,waves,ymin1,ymax1)\n",
    "        \n",
    "        #now with NUC correction\n",
    "        T = df1['temp1'][i];\n",
    "        rn = apply_NUC(r,T,m1,b1,T_ref1)\n",
    "        cn = pixel_registration(rn,cal_file1,waves,ymin1,ymax1)\n",
    "        \n",
    "        corrected_images1.append(c)\n",
    "        corrected_images1n.append(cn)\n",
    "\n",
    "    for i in range(len(df2)):\n",
    "        #first without NUC correction\n",
    "        r = df2['images1'][i];\n",
    "        c = pixel_registration(r,cal_file2,waves,ymin2,ymax2)\n",
    "        \n",
    "        #now with NUC correction\n",
    "        T = df2['temp1'][i];\n",
    "        rn = apply_NUC(r,T,m2,b2,T_ref2)\n",
    "        cn = pixel_registration(rn,cal_file2,waves,ymin2,ymax2)\n",
    "        \n",
    "        corrected_images2.append(c)\n",
    "        corrected_images2n.append(cn)\n",
    "\n",
    "    mean_ims1.append(np.mean(corrected_images1,axis = 0))\n",
    "    mean_ims1n.append(np.mean(corrected_images1n,axis = 0))\n",
    "    mean_ims2.append(np.mean(corrected_images2,axis = 0))\n",
    "    mean_ims2n.append(np.mean(corrected_images2n,axis = 0))\n",
    "\n",
    "\n",
    "    std_ims1.append(np.std(corrected_images1,axis = 0))\n",
    "    std_ims2.append(np.std(corrected_images2,axis = 0))\n",
    "    std_ims1n.append(np.std(corrected_images1n,axis = 0))\n",
    "    std_ims2n.append(np.std(corrected_images2n,axis = 0))"
   ]
  },
  {
   "cell_type": "code",
   "execution_count": 7,
   "metadata": {},
   "outputs": [],
   "source": [
    "d = {'BB_temps': temps, 'ims1': list(mean_ims1),'s1': list(std_ims1), 'ims2':list(mean_ims2),'s2': list(std_ims2)}\n",
    "dn = {'BB_temps': temps, 'ims1': list(mean_ims1n),'s1': list(std_ims1n), 'ims2':list(mean_ims2n),'s2': list(std_ims2n)}\n"
   ]
  },
  {
   "cell_type": "code",
   "execution_count": 8,
   "metadata": {},
   "outputs": [
    {
     "data": {
      "text/html": [
       "<div>\n",
       "<style scoped>\n",
       "    .dataframe tbody tr th:only-of-type {\n",
       "        vertical-align: middle;\n",
       "    }\n",
       "\n",
       "    .dataframe tbody tr th {\n",
       "        vertical-align: top;\n",
       "    }\n",
       "\n",
       "    .dataframe thead th {\n",
       "        text-align: right;\n",
       "    }\n",
       "</style>\n",
       "<table border=\"1\" class=\"dataframe\">\n",
       "  <thead>\n",
       "    <tr style=\"text-align: right;\">\n",
       "      <th></th>\n",
       "      <th>BB_temps</th>\n",
       "      <th>ims1</th>\n",
       "      <th>s1</th>\n",
       "      <th>ims2</th>\n",
       "      <th>s2</th>\n",
       "    </tr>\n",
       "  </thead>\n",
       "  <tbody>\n",
       "    <tr>\n",
       "      <th>0</th>\n",
       "      <td>25</td>\n",
       "      <td>[[23018.460867393285, 23020.63139065816, 23031...</td>\n",
       "      <td>[[2.096237552367885, 2.5600498109448337, 2.004...</td>\n",
       "      <td>[[22492.816533073586, 22498.21890840285, 22496...</td>\n",
       "      <td>[[10.843821685185976, 10.129074232456219, 10.4...</td>\n",
       "    </tr>\n",
       "    <tr>\n",
       "      <th>1</th>\n",
       "      <td>30</td>\n",
       "      <td>[[23028.433774629473, 23034.57527005634, 23042...</td>\n",
       "      <td>[[1.4747362002333415, 1.8489296823434844, 1.43...</td>\n",
       "      <td>[[22491.86850160839, 22497.96779093427, 22495....</td>\n",
       "      <td>[[4.349049414311956, 4.402235397107074, 4.7449...</td>\n",
       "    </tr>\n",
       "    <tr>\n",
       "      <th>2</th>\n",
       "      <td>35</td>\n",
       "      <td>[[23028.371085321247, 23034.879191134292, 2304...</td>\n",
       "      <td>[[4.1279829514421165, 5.699641770055133, 4.227...</td>\n",
       "      <td>[[22503.688006984703, 22507.094253856587, 2250...</td>\n",
       "      <td>[[10.883970760693924, 8.149855391656958, 8.080...</td>\n",
       "    </tr>\n",
       "    <tr>\n",
       "      <th>3</th>\n",
       "      <td>40</td>\n",
       "      <td>[[23026.561249404942, 23032.10978181234, 23038...</td>\n",
       "      <td>[[6.88527600282132, 6.80939087626284, 4.252431...</td>\n",
       "      <td>[[22495.645899281422, 22497.71065956465, 22499...</td>\n",
       "      <td>[[6.7506434954919134, 5.896568135470383, 5.432...</td>\n",
       "    </tr>\n",
       "    <tr>\n",
       "      <th>4</th>\n",
       "      <td>45</td>\n",
       "      <td>[[23019.757629209187, 23024.3014437999, 23032....</td>\n",
       "      <td>[[2.812308696767277, 3.1560635403224837, 2.659...</td>\n",
       "      <td>[[22520.960322831535, 22521.768678600918, 2252...</td>\n",
       "      <td>[[10.342928493959924, 8.967663077656129, 7.900...</td>\n",
       "    </tr>\n",
       "    <tr>\n",
       "      <th>5</th>\n",
       "      <td>50</td>\n",
       "      <td>[[23036.225274262997, 23046.530891653412, 2304...</td>\n",
       "      <td>[[4.807040503106908, 5.329601004216688, 5.6999...</td>\n",
       "      <td>[[22513.79, 22511.0, 22510.795, 22519.71, 2252...</td>\n",
       "      <td>[[5.1580907320441725, 6.069596362197408, 5.928...</td>\n",
       "    </tr>\n",
       "    <tr>\n",
       "      <th>6</th>\n",
       "      <td>55</td>\n",
       "      <td>[[23046.299764359355, 23052.650356414357, 2306...</td>\n",
       "      <td>[[6.44993819600214, 5.816646549048909, 7.29652...</td>\n",
       "      <td>[[22545.377984520626, 22547.08185853748, 22547...</td>\n",
       "      <td>[[16.256091733208926, 16.776601321739513, 16.4...</td>\n",
       "    </tr>\n",
       "    <tr>\n",
       "      <th>7</th>\n",
       "      <td>60</td>\n",
       "      <td>[[23034.43109106532, 23034.616474309507, 23051...</td>\n",
       "      <td>[[15.121969986478808, 8.011107262382351, 15.79...</td>\n",
       "      <td>[[22540.195, 22543.335, 22544.31, 22549.105, 2...</td>\n",
       "      <td>[[6.229725114320852, 6.755388589859212, 6.2059...</td>\n",
       "    </tr>\n",
       "    <tr>\n",
       "      <th>8</th>\n",
       "      <td>70</td>\n",
       "      <td>[[21122.265637945082, 21114.315416686502, 2302...</td>\n",
       "      <td>[[1474.8105546983306, 1478.35077863994, 6.1345...</td>\n",
       "      <td>[[22537.364978385725, 22544.661277963, 22548.9...</td>\n",
       "      <td>[[7.165982161332885, 7.438468305402791, 8.6630...</td>\n",
       "    </tr>\n",
       "    <tr>\n",
       "      <th>9</th>\n",
       "      <td>75</td>\n",
       "      <td>[[23058.946188322396, 23048.368174592397, 2301...</td>\n",
       "      <td>[[11.665848885721855, 10.919103819001148, 10.8...</td>\n",
       "      <td>[[22574.574086824643, 22581.665720158024, 2258...</td>\n",
       "      <td>[[8.03034176046763, 8.567571967074652, 8.37746...</td>\n",
       "    </tr>\n",
       "    <tr>\n",
       "      <th>10</th>\n",
       "      <td>80</td>\n",
       "      <td>[[23050.260310077538, 23185.190904392646, 2313...</td>\n",
       "      <td>[[5.773598310385662, 37.14141176861305, 29.714...</td>\n",
       "      <td>[[22548.32216244355, 22557.096146265998, 22561...</td>\n",
       "      <td>[[5.141272019436989, 4.902936043255807, 4.9819...</td>\n",
       "    </tr>\n",
       "  </tbody>\n",
       "</table>\n",
       "</div>"
      ],
      "text/plain": [
       "   BB_temps                                               ims1  \\\n",
       "0        25  [[23018.460867393285, 23020.63139065816, 23031...   \n",
       "1        30  [[23028.433774629473, 23034.57527005634, 23042...   \n",
       "2        35  [[23028.371085321247, 23034.879191134292, 2304...   \n",
       "3        40  [[23026.561249404942, 23032.10978181234, 23038...   \n",
       "4        45  [[23019.757629209187, 23024.3014437999, 23032....   \n",
       "5        50  [[23036.225274262997, 23046.530891653412, 2304...   \n",
       "6        55  [[23046.299764359355, 23052.650356414357, 2306...   \n",
       "7        60  [[23034.43109106532, 23034.616474309507, 23051...   \n",
       "8        70  [[21122.265637945082, 21114.315416686502, 2302...   \n",
       "9        75  [[23058.946188322396, 23048.368174592397, 2301...   \n",
       "10       80  [[23050.260310077538, 23185.190904392646, 2313...   \n",
       "\n",
       "                                                   s1  \\\n",
       "0   [[2.096237552367885, 2.5600498109448337, 2.004...   \n",
       "1   [[1.4747362002333415, 1.8489296823434844, 1.43...   \n",
       "2   [[4.1279829514421165, 5.699641770055133, 4.227...   \n",
       "3   [[6.88527600282132, 6.80939087626284, 4.252431...   \n",
       "4   [[2.812308696767277, 3.1560635403224837, 2.659...   \n",
       "5   [[4.807040503106908, 5.329601004216688, 5.6999...   \n",
       "6   [[6.44993819600214, 5.816646549048909, 7.29652...   \n",
       "7   [[15.121969986478808, 8.011107262382351, 15.79...   \n",
       "8   [[1474.8105546983306, 1478.35077863994, 6.1345...   \n",
       "9   [[11.665848885721855, 10.919103819001148, 10.8...   \n",
       "10  [[5.773598310385662, 37.14141176861305, 29.714...   \n",
       "\n",
       "                                                 ims2  \\\n",
       "0   [[22492.816533073586, 22498.21890840285, 22496...   \n",
       "1   [[22491.86850160839, 22497.96779093427, 22495....   \n",
       "2   [[22503.688006984703, 22507.094253856587, 2250...   \n",
       "3   [[22495.645899281422, 22497.71065956465, 22499...   \n",
       "4   [[22520.960322831535, 22521.768678600918, 2252...   \n",
       "5   [[22513.79, 22511.0, 22510.795, 22519.71, 2252...   \n",
       "6   [[22545.377984520626, 22547.08185853748, 22547...   \n",
       "7   [[22540.195, 22543.335, 22544.31, 22549.105, 2...   \n",
       "8   [[22537.364978385725, 22544.661277963, 22548.9...   \n",
       "9   [[22574.574086824643, 22581.665720158024, 2258...   \n",
       "10  [[22548.32216244355, 22557.096146265998, 22561...   \n",
       "\n",
       "                                                   s2  \n",
       "0   [[10.843821685185976, 10.129074232456219, 10.4...  \n",
       "1   [[4.349049414311956, 4.402235397107074, 4.7449...  \n",
       "2   [[10.883970760693924, 8.149855391656958, 8.080...  \n",
       "3   [[6.7506434954919134, 5.896568135470383, 5.432...  \n",
       "4   [[10.342928493959924, 8.967663077656129, 7.900...  \n",
       "5   [[5.1580907320441725, 6.069596362197408, 5.928...  \n",
       "6   [[16.256091733208926, 16.776601321739513, 16.4...  \n",
       "7   [[6.229725114320852, 6.755388589859212, 6.2059...  \n",
       "8   [[7.165982161332885, 7.438468305402791, 8.6630...  \n",
       "9   [[8.03034176046763, 8.567571967074652, 8.37746...  \n",
       "10  [[5.141272019436989, 4.902936043255807, 4.9819...  "
      ]
     },
     "execution_count": 8,
     "metadata": {},
     "output_type": "execute_result"
    }
   ],
   "source": [
    "df = pd.DataFrame.from_dict(d, orient='index')\n",
    "df = df.transpose()\n",
    "\n",
    "dfn = pd.DataFrame.from_dict(dn, orient='index')\n",
    "dfn = dfn.transpose()\n",
    "\n",
    "dfn"
   ]
  },
  {
   "cell_type": "code",
   "execution_count": 9,
   "metadata": {},
   "outputs": [
    {
     "name": "stderr",
     "output_type": "stream",
     "text": [
      "/Users/kirahart/anaconda3/lib/python3.8/site-packages/pandas/core/generic.py:2434: PerformanceWarning: \n",
      "your performance may suffer as PyTables will pickle object types that it cannot\n",
      "map directly to c-types [inferred_type->mixed-integer,key->block0_values] [items->Index(['BB_temps', 'ims1', 's1', 'ims2', 's2'], dtype='object')]\n",
      "\n",
      "  pytables.to_hdf(\n"
     ]
    }
   ],
   "source": [
    "\n",
    "df.to_hdf('/Users/kirahart/Dropbox/GitHub/IRCSP2_data/calibration_data/LUT/df_no_NUC.h5', key='s')\n",
    "dfn.to_hdf('/Users/kirahart/Dropbox/GitHub/IRCSP2_data/calibration_data/LUT/df_NUC.h5', key='s')\n"
   ]
  },
  {
   "cell_type": "code",
   "execution_count": 10,
   "metadata": {},
   "outputs": [],
   "source": [
    "def finv(y,A,B):\n",
    "    return ((y-B)/A)**0.5\n"
   ]
  },
  {
   "cell_type": "code",
   "execution_count": 11,
   "metadata": {},
   "outputs": [
    {
     "data": {
      "image/png": "[encoded data removed]",
      "text/plain": [
       "<Figure size 501.943x288 with 2 Axes>"
      ]
     },
     "metadata": {},
     "output_type": "display_data"
    },
    {
     "data": {
      "image/png": "[encoded data removed]",
      "text/plain": [
       "<Figure size 501.943x288 with 2 Axes>"
      ]
     },
     "metadata": {},
     "output_type": "display_data"
    }
   ],
   "source": [
    "cmin = np.min(list(df['ims1'])); cmax=np.max(list(df['ims2']))\n",
    "\n",
    "j = 0;\n",
    "plt.matshow(df['ims2'][j],cmap = 'inferno' )\n",
    "plt.colorbar()\n",
    "plt.ylabel('Angular FOV [$^\\circ$]')\n",
    "plt.xlabel('Wavelength [$\\mu m$]')\n",
    "plt.ax = plt.gca()\n",
    "plt.ax.xaxis.set_ticks_position('bottom')\n",
    "plt.xticks([0, 20, 40,60], [waves[0],round(waves[20]),waves[30],waves[60]])\n",
    "plt.yticks([0, 9,17,26,34], [angles[0], angles[9],angles[17],angles[26],angles[34]])\n",
    "plt.title('Target Temp = ' + str(temps[j])+ '$^\\circ C$ \\n no NUC')\n",
    "#plt.clim(cmin,cmax)\n",
    "plt.show()\n",
    "\n",
    "cmin = np.min(list(dfn['ims1'])); cmax=np.max(list(df['ims2']))\n",
    "\n",
    "plt.matshow(dfn['ims2'][j],cmap = 'inferno' )\n",
    "plt.colorbar()\n",
    "plt.ylabel('Angular FOV [$^\\circ$]')\n",
    "plt.xlabel('Wavelength [$\\mu m$]')\n",
    "plt.ax = plt.gca()\n",
    "plt.ax.xaxis.set_ticks_position('bottom')\n",
    "plt.xticks([0, 20, 40,60], [waves[0],round(waves[20]),waves[30],waves[60]])\n",
    "plt.yticks([0, 9,17,26,34], [angles[0], angles[9],angles[17],angles[26],angles[34]])\n",
    "plt.title('Target Temp = ' + str(temps[j])+ '$^\\circ C$ \\n with NUC')\n",
    "plt.show()"
   ]
  },
  {
   "cell_type": "code",
   "execution_count": 12,
   "metadata": {},
   "outputs": [],
   "source": [
    "#create sum column\n",
    "df[\"totalrad\"] = df['ims2']+df['ims1']\n",
    "df[\"totalstd\"] = (df['s2']**2+df['s1']**2)**0.5"
   ]
  },
  {
   "cell_type": "code",
   "execution_count": 13,
   "metadata": {},
   "outputs": [
    {
     "data": {
      "image/png": "[encoded data removed]",
      "text/plain": [
       "<Figure size 501.943x288 with 2 Axes>"
      ]
     },
     "metadata": {},
     "output_type": "display_data"
    }
   ],
   "source": [
    "cmin = np.min(list(df['totalrad'])); cmax=np.max(list(df['totalrad']))\n",
    "\n",
    "j = 1;\n",
    "plt.matshow(df['totalrad'][j],cmap = 'inferno' )\n",
    "plt.colorbar()\n",
    "plt.ylabel('Spatial Sampling')\n",
    "plt.xlabel('Wavelength [$\\mu m$]')\n",
    "plt.ax = plt.gca()\n",
    "plt.ax.xaxis.set_ticks_position('bottom')\n",
    "plt.xticks([0, 20, 40,60], [waves[0],round(waves[20]),waves[30],waves[60]])\n",
    "plt.title('Target Temp = ' + str(temps[j])+ '$^\\circ C$  ')\n",
    "#plt.clim(cmin,cmax)\n",
    "plt.show()"
   ]
  },
  {
   "cell_type": "code",
   "execution_count": 14,
   "metadata": {},
   "outputs": [],
   "source": [
    "# pixel fit \n",
    "def f(x, A, B): # this is your 'straight line' y=f(x)\n",
    "    return A*x**2 + B\n",
    "\n",
    "def finv(y,A,B):\n",
    "    return ((y-B)/A)**0.5\n"
   ]
  },
  {
   "cell_type": "code",
   "execution_count": 15,
   "metadata": {},
   "outputs": [
    {
     "ename": "NameError",
     "evalue": "name 'get_slice_avg' is not defined",
     "output_type": "error",
     "traceback": [
      "\u001b[0;31m---------------------------------------------------------------------------\u001b[0m",
      "\u001b[0;31mNameError\u001b[0m                                 Traceback (most recent call last)",
      "\u001b[0;32m<ipython-input-15-b43cd1975b62>\u001b[0m in \u001b[0;36m<module>\u001b[0;34m\u001b[0m\n\u001b[1;32m      1\u001b[0m \u001b[0mx\u001b[0m \u001b[0;34m=\u001b[0m \u001b[0;36m30\u001b[0m\u001b[0;34m\u001b[0m\u001b[0;34m\u001b[0m\u001b[0m\n\u001b[0;32m----> 2\u001b[0;31m \u001b[0mplt\u001b[0m\u001b[0;34m.\u001b[0m\u001b[0merrorbar\u001b[0m\u001b[0;34m(\u001b[0m\u001b[0mdf\u001b[0m\u001b[0;34m[\u001b[0m\u001b[0;34m'BB_temps'\u001b[0m\u001b[0;34m]\u001b[0m\u001b[0;34m,\u001b[0m\u001b[0mget_slice_avg\u001b[0m\u001b[0;34m(\u001b[0m\u001b[0mdf\u001b[0m\u001b[0;34m[\u001b[0m\u001b[0;34m'ims2'\u001b[0m\u001b[0;34m]\u001b[0m\u001b[0;34m,\u001b[0m\u001b[0mx\u001b[0m\u001b[0;34m)\u001b[0m\u001b[0;34m,\u001b[0m\u001b[0myerr\u001b[0m\u001b[0;34m=\u001b[0m\u001b[0mget_slice_avg\u001b[0m\u001b[0;34m(\u001b[0m\u001b[0mdf\u001b[0m\u001b[0;34m[\u001b[0m\u001b[0;34m's1'\u001b[0m\u001b[0;34m]\u001b[0m\u001b[0;34m,\u001b[0m\u001b[0mx\u001b[0m\u001b[0;34m)\u001b[0m\u001b[0;34m,\u001b[0m\u001b[0mlabel\u001b[0m \u001b[0;34m=\u001b[0m \u001b[0;34m'no NUC'\u001b[0m\u001b[0;34m)\u001b[0m\u001b[0;34m\u001b[0m\u001b[0;34m\u001b[0m\u001b[0m\n\u001b[0m\u001b[1;32m      3\u001b[0m \u001b[0mplt\u001b[0m\u001b[0;34m.\u001b[0m\u001b[0merrorbar\u001b[0m\u001b[0;34m(\u001b[0m\u001b[0mdfn\u001b[0m\u001b[0;34m[\u001b[0m\u001b[0;34m'BB_temps'\u001b[0m\u001b[0;34m]\u001b[0m\u001b[0;34m,\u001b[0m\u001b[0mget_slice_avg\u001b[0m\u001b[0;34m(\u001b[0m\u001b[0mdfn\u001b[0m\u001b[0;34m[\u001b[0m\u001b[0;34m'ims2'\u001b[0m\u001b[0;34m]\u001b[0m\u001b[0;34m,\u001b[0m\u001b[0mx\u001b[0m\u001b[0;34m)\u001b[0m\u001b[0;34m,\u001b[0m\u001b[0myerr\u001b[0m\u001b[0;34m=\u001b[0m\u001b[0mget_slice_avg\u001b[0m\u001b[0;34m(\u001b[0m\u001b[0mdfn\u001b[0m\u001b[0;34m[\u001b[0m\u001b[0;34m's1'\u001b[0m\u001b[0;34m]\u001b[0m\u001b[0;34m,\u001b[0m\u001b[0mx\u001b[0m\u001b[0;34m)\u001b[0m\u001b[0;34m,\u001b[0m\u001b[0mlabel\u001b[0m \u001b[0;34m=\u001b[0m \u001b[0;34m'with NUC'\u001b[0m\u001b[0;34m)\u001b[0m\u001b[0;34m\u001b[0m\u001b[0;34m\u001b[0m\u001b[0m\n\u001b[1;32m      4\u001b[0m \u001b[0mplt\u001b[0m\u001b[0;34m.\u001b[0m\u001b[0mtitle\u001b[0m\u001b[0;34m(\u001b[0m\u001b[0;34m'spatially averaged response \\n $\\lambda = $'\u001b[0m \u001b[0;34m+\u001b[0m \u001b[0mstr\u001b[0m\u001b[0;34m(\u001b[0m\u001b[0mround\u001b[0m\u001b[0;34m(\u001b[0m\u001b[0mwaves\u001b[0m\u001b[0;34m[\u001b[0m\u001b[0mx\u001b[0m\u001b[0;34m]\u001b[0m\u001b[0;34m,\u001b[0m\u001b[0;36m2\u001b[0m\u001b[0;34m)\u001b[0m\u001b[0;34m)\u001b[0m \u001b[0;34m+\u001b[0m \u001b[0;34m' $  \\mu m$'\u001b[0m\u001b[0;34m)\u001b[0m\u001b[0;34m\u001b[0m\u001b[0;34m\u001b[0m\u001b[0m\n\u001b[1;32m      5\u001b[0m \u001b[0mplt\u001b[0m\u001b[0;34m.\u001b[0m\u001b[0mxlabel\u001b[0m\u001b[0;34m(\u001b[0m\u001b[0;34m'Scene Temperature [$^\\circ C$ ] '\u001b[0m\u001b[0;34m)\u001b[0m\u001b[0;34m\u001b[0m\u001b[0;34m\u001b[0m\u001b[0m\n",
      "\u001b[0;31mNameError\u001b[0m: name 'get_slice_avg' is not defined"
     ]
    }
   ],
   "source": [
    "x = 30\n",
    "plt.errorbar(df['BB_temps'],get_slice_avg(df['ims2'],x),yerr=get_slice_avg(df['s1'],x),label = 'no NUC')\n",
    "plt.errorbar(dfn['BB_temps'],get_slice_avg(dfn['ims2'],x),yerr=get_slice_avg(dfn['s1'],x),label = 'with NUC')\n",
    "plt.title('spatially averaged response \\n $\\lambda = $' + str(round(waves[x],2)) + ' $  \\mu m$')\n",
    "plt.xlabel('Scene Temperature [$^\\circ C$ ] ')\n",
    "plt.ylabel('avg camera count')\n",
    "plt.legend()\n",
    "plt.show()\n"
   ]
  },
  {
   "cell_type": "code",
   "execution_count": null,
   "metadata": {},
   "outputs": [],
   "source": [
    "def get_slice(df,x,y):\n",
    "    sli = []\n",
    "    for i in range(len(df)):\n",
    "        s = df[i]\n",
    "        sli.append(s[y,x])\n",
    "    return(sli)\n",
    "\n",
    "def get_slice_avg(df,x):\n",
    "    sli = []\n",
    "    for i in range(len(df)):\n",
    "        s = df[i]\n",
    "        sli.append(np.mean(s[:,x]))\n",
    "    return(sli)"
   ]
  },
  {
   "cell_type": "code",
   "execution_count": null,
   "metadata": {},
   "outputs": [],
   "source": [
    "\n",
    "def calc_rad_coef(db):\n",
    "    '''do pixel by pixel fit and determine A and B coefficients'''\n",
    "    spec = len(db['ims1'][1][1])\n",
    "    spat = len(db['ims1'][1])\n",
    "    Ts = df['BB_temps'];\n",
    "    \n",
    "    #preallocate coefficient arrays\n",
    "    A1 = np.zeros([spat,spec]);B1 = np.zeros([spat,spec]);\n",
    "    A2 = np.zeros([spat,spec]);B2 = np.zeros([spat,spec]);\n",
    "    At = np.zeros([spat,spec]);Bt = np.zeros([spat,spec]);\n",
    "    \n",
    "    for i in range(spat):\n",
    "        for j in range(spec):\n",
    "            rs1 = get_slice(db['ims1'],j,i)\n",
    "            rs2 = get_slice(db['ims2'],j,i)\n",
    "            [a1,b1],cov1 = curve_fit(f, Ts, rs1)\n",
    "            [a2,b2],cov2 = curve_fit(f, Ts, rs2)\n",
    "            [at,bt],covt = curve_fit(f, Ts, np.add(rs1,rs2))\n",
    "            A1[i,j] = a1;B1[i,j] =b1\n",
    "            A2[i,j] = a2;B2[i,j] =b2\n",
    "            At[i,j] = at;Bt[i,j] =bt\n",
    "    return([A1,B1],[A2,B2],[At,Bt])        \n",
    " "
   ]
  },
  {
   "cell_type": "code",
   "execution_count": null,
   "metadata": {},
   "outputs": [],
   "source": [
    "[A1,B1],[A2,B2],[At,Bt] = calc_rad_coef(df)"
   ]
  },
  {
   "cell_type": "code",
   "execution_count": null,
   "metadata": {},
   "outputs": [],
   "source": [
    "[A1n,B1n],[A2n,B2n],[Atn,Btn] = calc_rad_coef(dfn)"
   ]
  },
  {
   "cell_type": "code",
   "execution_count": null,
   "metadata": {},
   "outputs": [],
   "source": [
    "plt.matshow(B2)\n",
    "plt.colorbar()"
   ]
  },
  {
   "cell_type": "code",
   "execution_count": null,
   "metadata": {},
   "outputs": [],
   "source": [
    "#writetohdf5\n",
    "\n",
    "#choose filepath to desired data\n",
    "save_path =   '/Users/kirahart/Dropbox/GitHub/IRCSP2_data/calibration_files/'\n",
    "name =  \"LUT\" \n",
    "\n",
    "#create hdf5 file\n",
    "hf = h5py.File(save_path + name + '.h5', 'w')\n",
    "hf.create_dataset('/A1',  data= A1)\n",
    "hf.create_dataset('/B1',  data= B1)\n",
    "hf.create_dataset('/A2',  data= A2)\n",
    "hf.create_dataset('/B2',  data= B2)\n",
    "hf.create_dataset('/At',  data= At)\n",
    "hf.create_dataset('/Bt',  data= Bt)\n",
    "\n",
    "hf.create_dataset('/A1n',  data= A1n)\n",
    "hf.create_dataset('/B1n',  data= B1n)\n",
    "hf.create_dataset('/A2n',  data= A2n)\n",
    "hf.create_dataset('/B2n',  data= B2n)\n",
    "hf.create_dataset('/Atn',  data= Atn)\n",
    "hf.create_dataset('/Btn',  data= Btn)\n",
    "hf.close()"
   ]
  },
  {
   "cell_type": "code",
   "execution_count": null,
   "metadata": {},
   "outputs": [],
   "source": [
    "def radiometric_retrieval(df,j,At,Bt):\n",
    "    #attempt retrival\n",
    "    Ts= np.zeros([35,len(waves)])\n",
    "    for w in range(len(waves)):\n",
    "        for s in range(35):\n",
    "            data= list(df['ims1'][j]+df['ims2'][j])[s][w]\n",
    "            A = At[s][w]\n",
    "            B = Bt[s][w]\n",
    "            t = finv(data,A,B)\n",
    "            Ts[s][w] = t\n",
    "    return(Ts)        "
   ]
  },
  {
   "cell_type": "code",
   "execution_count": null,
   "metadata": {},
   "outputs": [],
   "source": [
    "j =3;\n",
    "Ts = radiometric_retrieval(df,j,At,Bt) \n",
    "\n",
    "\n",
    "plt.matshow(Ts,cmap = 'inferno' )\n",
    "cbar = plt.colorbar()\n",
    "cbar.set_label('retrieved T [$^\\circ C$]\\n', rotation=-90, va=\"bottom\")\n",
    "plt.ylabel('Angular FOV [$^\\circ$]')\n",
    "plt.xlabel('Wavelength [$\\mu m$]')\n",
    "plt.ax = plt.gca()\n",
    "plt.ax.xaxis.set_ticks_position('bottom')\n",
    "plt.xticks([0, 20, 40,60], [waves[0],round(waves[20]),waves[30],waves[60]])\n",
    "plt.yticks([0, 9,17,26,34], [angles[0], angles[9],angles[17],angles[26],angles[34]])\n",
    "plt.title('Target Temp = ' + str(temps[j])+ '$^\\circ C$')\n",
    "plt.clim(0,temps[j]+5)\n",
    "plt.show()\n",
    "\n",
    "plt.matshow(Ts-temps[j],cmap = 'bwr' )\n",
    "cbar = plt.colorbar()\n",
    "cbar.set_label('Error [$^\\circ C$]\\n', rotation=-90, va=\"bottom\")\n",
    "plt.ylabel('Angular FOV [$^\\circ$]') \n",
    "plt.xlabel('Wavelength [$\\mu m$]')\n",
    "plt.ax = plt.gca()\n",
    "plt.ax.xaxis.set_ticks_position('bottom')\n",
    "plt.xticks([0, 20, 40,60], [waves[0],round(waves[20]),waves[30],waves[60]])\n",
    "plt.yticks([0, 9,17,26,34], [angles[0], angles[9],angles[17],angles[26],angles[34]])\n",
    "plt.title('Retreival Error for T = ' + str(temps[j])+ '$^\\circ C$')\n",
    "plt.clim(-10,10)\n",
    "plt.show()"
   ]
  },
  {
   "cell_type": "code",
   "execution_count": null,
   "metadata": {},
   "outputs": [],
   "source": [
    "path = '/Users/kirahart/Dropbox/GitHub/IRCSP2_data/Cal_target_analysis/dec16/'\n",
    "\n",
    "df1 = create_LUT_df(path,'cam1_center.h5')\n",
    "df2 = create_LUT_df(path,'cam2_center.h5')"
   ]
  },
  {
   "cell_type": "code",
   "execution_count": null,
   "metadata": {},
   "outputs": [],
   "source": [
    "df1"
   ]
  },
  {
   "cell_type": "code",
   "execution_count": null,
   "metadata": {},
   "outputs": [],
   "source": []
  }
 ],
 "metadata": {
  "kernelspec": {
   "display_name": "Python 3",
   "language": "python",
   "name": "python3"
  },
  "language_info": {
   "codemirror_mode": {
    "name": "ipython",
    "version": 3
   },
   "file_extension": ".py",
   "mimetype": "text/x-python",
   "name": "python",
   "nbconvert_exporter": "python",
   "pygments_lexer": "ipython3",
   "version": "3.8.5"
  }
 },
 "nbformat": 4,
 "nbformat_minor": 2
}
