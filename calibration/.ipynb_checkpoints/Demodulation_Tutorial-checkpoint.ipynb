{
 "cells": [
  {
   "cell_type": "code",
   "execution_count": 21,
   "id": "094f45a3",
   "metadata": {},
   "outputs": [],
   "source": [
    "import numpy as np\n",
    "import pandas as pd\n",
    "import h5py\n",
    "import sys\n",
    "import matplotlib.pyplot as plt\n",
    "import matplotlib.cm as cm\n",
    "from statistics import mean\n",
    "import scipy\n",
    "from pathlib import Path\n",
    "import math\n",
    "from scipy.optimize import curve_fit\n",
    "from scipy.interpolate import interp1d\n",
    "from scipy.fft import fft, fftfreq"
   ]
  },
  {
   "cell_type": "code",
   "execution_count": 13,
   "id": "d0412f40",
   "metadata": {},
   "outputs": [],
   "source": [
    "#Plotting Options\n",
    "SMALL_SIZE = 12\n",
    "MEDIUM_SIZE = 14\n",
    "BIGGER_SIZE = 16\n",
    "\n",
    "plt.rc('font', size=SMALL_SIZE)          # controls default text sizes\n",
    "plt.rc('axes', titlesize=SMALL_SIZE)     # fontsize of the axes title\n",
    "plt.rc('axes', labelsize=MEDIUM_SIZE)    # fontsize of the x and y labels\n",
    "plt.rc('xtick', labelsize=SMALL_SIZE)    # fontsize of the tick labels\n",
    "plt.rc('ytick', labelsize=SMALL_SIZE)    # fontsize of the tick labels\n",
    "plt.rc('legend', fontsize=SMALL_SIZE)    # legend fontsize\n",
    "plt.rc('figure', titlesize=BIGGER_SIZE)  # fontsize of the figure title\n",
    "\n",
    "plt.rcParams[\"font.family\"] = \"Times New Roman\""
   ]
  },
  {
   "cell_type": "code",
   "execution_count": 2,
   "id": "7c538c51",
   "metadata": {},
   "outputs": [],
   "source": [
    "#choose filepath to desired data\n",
    "path = '/Volumes/KESU/may19/polarized/'"
   ]
  },
  {
   "cell_type": "markdown",
   "id": "b2f84544",
   "metadata": {},
   "source": [
    "# Import Calibration Data"
   ]
  },
  {
   "cell_type": "markdown",
   "id": "4a6653d2",
   "metadata": {},
   "source": [
    "Import hdf5 data generated from calculate_POL "
   ]
  },
  {
   "cell_type": "code",
   "execution_count": 46,
   "id": "f84f9c91",
   "metadata": {},
   "outputs": [],
   "source": [
    "with h5py.File(path+ 'poldata.h5', \"r\") as file:\n",
    "    var = file['/var'][()]\n",
    "    var1 = file['/var1'][()]\n",
    "    var2 = file['/var2'][()]\n",
    "    \n",
    "    waves = file['/waves'][()]\n",
    "    angles = file['/angles'][()]\n",
    "    nedt =  file['/nedt'][()]\n",
    "    \n",
    "    R1 = file['/responses1'][()]\n",
    "    R2 = file['/responses2'][()]\n",
    "    E1 = file['/responses_err1'][()]\n",
    "    E2 = file['/responses_err2'][()]\n"
   ]
  },
  {
   "cell_type": "markdown",
   "id": "8949593b",
   "metadata": {},
   "source": [
    "# Instrument Model"
   ]
  },
  {
   "cell_type": "markdown",
   "id": "d2e87c81",
   "metadata": {},
   "source": [
    "## Instrument design parameters"
   ]
  },
  {
   "cell_type": "code",
   "execution_count": 55,
   "id": "52ddd6ab",
   "metadata": {},
   "outputs": [],
   "source": [
    "cdse_thickness = 5.01\n",
    "lambda_min = 7;\n",
    "lambda_max = 12;"
   ]
  },
  {
   "cell_type": "markdown",
   "id": "6fbfa52b",
   "metadata": {},
   "source": [
    "## Retardance Model"
   ]
  },
  {
   "cell_type": "markdown",
   "id": "a802a1b7",
   "metadata": {},
   "source": [
    "Import refractive index data to build expected retardance arrays"
   ]
  },
  {
   "cell_type": "code",
   "execution_count": 6,
   "id": "91e41c30",
   "metadata": {},
   "outputs": [],
   "source": [
    "no = pd.read_csv(\"/Users/kirahart/Dropbox/Thesis/theory/Lisitsa-o.csv\")\n",
    "ne = pd.read_csv(\"/Users/kirahart/Dropbox/Thesis/theory/Lisitsa-e.csv\")"
   ]
  },
  {
   "cell_type": "code",
   "execution_count": 14,
   "id": "617380c5",
   "metadata": {},
   "outputs": [
    {
     "data": {
      "image/png": "[encoded data removed]",
      "text/plain": [
       "<Figure size 432x288 with 1 Axes>"
      ]
     },
     "metadata": {
      "needs_background": "light"
     },
     "output_type": "display_data"
    }
   ],
   "source": [
    "plt.plot(no['wl'],no['n'],'k')\n",
    "plt.plot(ne['wl'],ne['n'],'k--')\n",
    "plt.ylabel(\"Refractive Index\")\n",
    "plt.xlabel(\"Wavelength [$\\mu m$]\")\n",
    "plt.show()"
   ]
  },
  {
   "cell_type": "code",
   "execution_count": 18,
   "id": "001ffb5a",
   "metadata": {},
   "outputs": [],
   "source": [
    "delta_n = ne['n']-no['n']"
   ]
  },
  {
   "cell_type": "code",
   "execution_count": 22,
   "id": "e4d409e9",
   "metadata": {},
   "outputs": [],
   "source": [
    "birefringence = interp1d(no['wl'], delta_n, kind='cubic')"
   ]
  },
  {
   "cell_type": "code",
   "execution_count": 49,
   "id": "e2b0cd05",
   "metadata": {},
   "outputs": [],
   "source": [
    "def retardance(wavelength):\n",
    "    d = float(birefringence(wavelength))\n",
    "    return(cdse_thickness*d*1000)"
   ]
  },
  {
   "cell_type": "markdown",
   "id": "2013abb0",
   "metadata": {},
   "source": [
    "## Determine Spectral Windows "
   ]
  },
  {
   "cell_type": "markdown",
   "id": "9d58403c",
   "metadata": {},
   "source": [
    "$\\Delta\\lambda$ is the maximum size of the window that can be used to demodulate as a function of center wavelength $\\lambda_c$"
   ]
  },
  {
   "cell_type": "code",
   "execution_count": 80,
   "id": "7660ac92",
   "metadata": {},
   "outputs": [],
   "source": [
    "def delta_lambda(lambda_c):\n",
    "    delta = retardance(lambda_c)\n",
    "    return(lambda_c**2/(delta*(1 +(lambda_c**2 / (4*delta**2)))))\n",
    "\n",
    "def find_nearest(a, a0):\n",
    "    \"Element in nd array `a` closest to the scalar value `a0`\"\n",
    "    idx = np.abs(a - a0).argmin()\n",
    "    return idx"
   ]
  },
  {
   "cell_type": "markdown",
   "id": "3e891e08",
   "metadata": {},
   "source": [
    "Now, determine the spectral windows for demodulaation, returning the wavelength windows and the pixel numbers"
   ]
  },
  {
   "cell_type": "code",
   "execution_count": 81,
   "id": "20d876b5",
   "metadata": {},
   "outputs": [],
   "source": [
    "lambda_c = []\n",
    "lambda1  = []\n",
    "lambda2  = []\n",
    "pixel_c = []\n",
    "pixel1  = []\n",
    "pixel2  = [] \n",
    "for l in waves:\n",
    "    size = delta_lambda(l)\n",
    "    low  = l-size/2\n",
    "    high = l+size/2\n",
    "    if low > lambda_min and high < lambda_max:\n",
    "        lambda_c.append(l)\n",
    "        lambda1.append(low)\n",
    "        lambda2.append(high)\n",
    "        \n",
    "        pixel_c.append(find_nearest(waves,l))\n",
    "        pixel1.append(find_nearest(waves,low))\n",
    "        pixel2.append(find_nearest(waves,high))"
   ]
  },
  {
   "cell_type": "code",
   "execution_count": 88,
   "id": "a8e5e628",
   "metadata": {},
   "outputs": [
    {
     "data": {
      "image/png": "[encoded data removed]",
      "text/plain": [
       "<Figure size 432x288 with 1 Axes>"
      ]
     },
     "metadata": {
      "needs_background": "light"
     },
     "output_type": "display_data"
    }
   ],
   "source": [
    "f, (ax1) = plt.subplots()\n",
    "\n",
    "ax1.errorbar(lambda_c[::5],lambda_c[::5],xerr = (np.array(lambda1)- np.array(lambda2))[::5]/2,fmt = 'o')\n",
    "plt.show()\n"
   ]
  },
  {
   "cell_type": "markdown",
   "id": "a78c1c26",
   "metadata": {},
   "source": [
    "## Model System Functions"
   ]
  },
  {
   "cell_type": "code",
   "execution_count": 89,
   "id": "cbae5db0",
   "metadata": {},
   "outputs": [],
   "source": [
    "def M(lambda_c,DOLP,AOLP,W,delta_error,offset):\n",
    "    delta = 2*math.pi * retardance(lambda_c) /lambda_c\n",
    "    return(DOLP*W*np.cos(delta*delta_error +2*AOLP +offset))"
   ]
  },
  {
   "cell_type": "code",
   "execution_count": 101,
   "id": "9c292f9a",
   "metadata": {},
   "outputs": [],
   "source": [
    "def M_array(waves,DOLP,AOLP,W,delta_error,offset):\n",
    "    mod = np.zeros(len(waves))\n",
    "    for i in range(len(waves)):\n",
    "        m = M(waves[i],DOLP,AOLP,W,delta_error,offset)\n",
    "        mod[i] = m\n",
    "    return(mod)"
   ]
  },
  {
   "cell_type": "code",
   "execution_count": 108,
   "id": "828c7a90",
   "metadata": {},
   "outputs": [
    {
     "data": {
      "image/png": "[encoded data removed]",
      "text/plain": [
       "<Figure size 432x288 with 1 Axes>"
      ]
     },
     "metadata": {
      "needs_background": "light"
     },
     "output_type": "display_data"
    }
   ],
   "source": [
    "plt.plot(lambda_c,M_array(lambda_c,1,0,1,1,0),'.-')\n",
    "plt.show()"
   ]
  },
  {
   "cell_type": "markdown",
   "id": "c18c4173",
   "metadata": {},
   "source": [
    "#  Polarized Calibration"
   ]
  },
  {
   "cell_type": "markdown",
   "id": "d820c168",
   "metadata": {},
   "source": [
    "## Unpolarized Transmission"
   ]
  },
  {
   "cell_type": "code",
   "execution_count": 119,
   "id": "58c1b275",
   "metadata": {},
   "outputs": [
    {
     "data": {
      "text/plain": [
       "<ErrorbarContainer object of 3 artists>"
      ]
     },
     "execution_count": 119,
     "metadata": {},
     "output_type": "execute_result"
    },
    {
     "data": {
      "image/png": "[encoded data removed]",
      "text/plain": [
       "<Figure size 432x288 with 1 Axes>"
      ]
     },
     "metadata": {
      "needs_background": "light"
     },
     "output_type": "display_data"
    }
   ],
   "source": [
    "plt.errorbar(waves,np.mean(R1,axis = 0),yerr =np.mean(E1,axis = 0) ,label = '$T_1$')\n",
    "plt.errorbar(waves,np.mean(R2,axis = 0),yerr =np.mean(E2,axis = 0) ,label = '$T_2$' )"
   ]
  },
  {
   "cell_type": "code",
   "execution_count": null,
   "id": "0e4908d9",
   "metadata": {},
   "outputs": [],
   "source": []
  }
 ],
 "metadata": {
  "kernelspec": {
   "display_name": "Python 3 (ipykernel)",
   "language": "python",
   "name": "python3"
  },
  "language_info": {
   "codemirror_mode": {
    "name": "ipython",
    "version": 3
   },
   "file_extension": ".py",
   "mimetype": "text/x-python",
   "name": "python",
   "nbconvert_exporter": "python",
   "pygments_lexer": "ipython3",
   "version": "3.8.8"
  }
 },
 "nbformat": 4,
 "nbformat_minor": 5
}
