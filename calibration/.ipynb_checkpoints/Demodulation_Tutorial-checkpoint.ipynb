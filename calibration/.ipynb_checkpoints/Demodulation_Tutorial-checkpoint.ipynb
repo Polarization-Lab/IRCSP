{
 "cells": [
  {
   "cell_type": "code",
   "execution_count": null,
   "id": "430a0820",
   "metadata": {},
   "outputs": [],
   "source": [
    "import numpy as np\n",
    "import pandas as pd\n",
    "import h5py\n",
    "import sys\n",
    "import matplotlib.pyplot as plt\n",
    "import matplotlib.cm as cm\n",
    "from statistics import mean\n",
    "import scipy\n",
    "from pathlib import Path\n",
    "import math\n",
    "from scipy.optimize import curve_fit\n",
    "from scipy.interpolate import interp1d\n",
    "from scipy.fft import fft, fftfreq"
   ]
  },
  {
   "cell_type": "code",
   "execution_count": null,
   "id": "2756c55e",
   "metadata": {},
   "outputs": [],
   "source": [
    "#Plotting Options\n",
    "SMALL_SIZE = 12\n",
    "MEDIUM_SIZE = 14\n",
    "BIGGER_SIZE = 16\n",
    "\n",
    "plt.rc('font', size=SMALL_SIZE)          # controls default text sizes\n",
    "plt.rc('axes', titlesize=SMALL_SIZE)     # fontsize of the axes title\n",
    "plt.rc('axes', labelsize=MEDIUM_SIZE)    # fontsize of the x and y labels\n",
    "plt.rc('xtick', labelsize=SMALL_SIZE)    # fontsize of the tick labels\n",
    "plt.rc('ytick', labelsize=SMALL_SIZE)    # fontsize of the tick labels\n",
    "plt.rc('legend', fontsize=SMALL_SIZE)    # legend fontsize\n",
    "plt.rc('figure', titlesize=BIGGER_SIZE)  # fontsize of the figure title\n",
    "\n",
    "plt.rcParams[\"font.family\"] = \"Times New Roman\""
   ]
  },
  {
   "cell_type": "code",
   "execution_count": null,
   "id": "1e0c1489",
   "metadata": {},
   "outputs": [],
   "source": [
    "#choose filepath to desired data\n",
    "path = '/Volumes/KESU/may19/polarized/'"
   ]
  },
  {
   "cell_type": "markdown",
   "id": "8b0d7940",
   "metadata": {},
   "source": [
    "# Import Calibration Data"
   ]
  },
  {
   "cell_type": "markdown",
   "id": "c63f8669",
   "metadata": {},
   "source": [
    "Import hdf5 data generated from calculate_POL "
   ]
  },
  {
   "cell_type": "code",
   "execution_count": null,
   "id": "84a39de7",
   "metadata": {},
   "outputs": [],
   "source": [
    "with h5py.File(path+ 'poldata.h5', \"r\") as file:\n",
    "    var = file['/var'][()]\n",
    "    var1 = file['/var1'][()]\n",
    "    var2 = file['/var2'][()]\n",
    "    \n",
    "    waves = file['/waves'][()]\n",
    "    angles = file['/angles'][()]\n",
    "    nedt =  file['/nedt'][()]\n",
    "    \n",
    "    R1 = file['/responses1'][()]\n",
    "    R2 = file['/responses2'][()]\n",
    "    E1 = file['/responses_err1'][()]\n",
    "    E2 = file['/responses_err2'][()]\n"
   ]
  },
  {
   "cell_type": "markdown",
   "id": "8e4b0409",
   "metadata": {},
   "source": [
    "# Instrument Model"
   ]
  },
  {
   "cell_type": "markdown",
   "id": "c6fa8d22",
   "metadata": {},
   "source": [
    "## Instrument design parameters"
   ]
  },
  {
   "cell_type": "code",
   "execution_count": null,
   "id": "5a4063cc",
   "metadata": {},
   "outputs": [],
   "source": [
    "cdse_thickness = 5.01\n",
    "lambda_min = 7;\n",
    "lambda_max = 12;"
   ]
  },
  {
   "cell_type": "markdown",
   "id": "f68ac843",
   "metadata": {},
   "source": [
    "## Retardance Model"
   ]
  },
  {
   "cell_type": "markdown",
   "id": "bc473d70",
   "metadata": {},
   "source": [
    "Import refractive index data to build expected retardance arrays"
   ]
  },
  {
   "cell_type": "code",
   "execution_count": null,
   "id": "de48ba71",
   "metadata": {},
   "outputs": [],
   "source": [
    "no = pd.read_csv(\"/Users/kirahart/Dropbox/Thesis/theory/Lisitsa-o.csv\")\n",
    "ne = pd.read_csv(\"/Users/kirahart/Dropbox/Thesis/theory/Lisitsa-e.csv\")"
   ]
  },
  {
   "cell_type": "code",
   "execution_count": null,
   "id": "0c5464a3",
   "metadata": {},
   "outputs": [],
   "source": [
    "plt.plot(no['wl'],no['n'],'k')\n",
    "plt.plot(ne['wl'],ne['n'],'k--')\n",
    "plt.ylabel(\"Refractive Index\")\n",
    "plt.xlabel(\"Wavelength [$\\mu m$]\")\n",
    "plt.show()"
   ]
  },
  {
   "cell_type": "code",
   "execution_count": null,
   "id": "5e345757",
   "metadata": {},
   "outputs": [],
   "source": [
    "delta_n = ne['n']-no['n']"
   ]
  },
  {
   "cell_type": "code",
   "execution_count": null,
   "id": "2de670d4",
   "metadata": {},
   "outputs": [],
   "source": [
    "birefringence = interp1d(no['wl'], delta_n, kind='cubic')"
   ]
  },
  {
   "cell_type": "code",
   "execution_count": null,
   "id": "4e86e4ea",
   "metadata": {},
   "outputs": [],
   "source": [
    "def retardance(wavelength):\n",
    "    d = float(birefringence(wavelength))\n",
    "    return(cdse_thickness*d*1000)"
   ]
  },
  {
   "cell_type": "markdown",
   "id": "0b7dbae7",
   "metadata": {},
   "source": [
    "## Determine Spectral Windows "
   ]
  },
  {
   "cell_type": "markdown",
   "id": "1df58379",
   "metadata": {},
   "source": [
    "$\\Delta\\lambda$ is the maximum size of the window that can be used to demodulate as a function of center wavelength $\\lambda_c$"
   ]
  },
  {
   "cell_type": "code",
   "execution_count": null,
   "id": "62fab554",
   "metadata": {},
   "outputs": [],
   "source": [
    "def delta_lambda(lambda_c):\n",
    "    delta = retardance(lambda_c)\n",
    "    return(lambda_c**2/(delta*(1 +(lambda_c**2 / (4*delta**2)))))\n",
    "\n",
    "def find_nearest(a, a0):\n",
    "    \"Element in nd array `a` closest to the scalar value `a0`\"\n",
    "    idx = np.abs(a - a0).argmin()\n",
    "    return idx"
   ]
  },
  {
   "cell_type": "markdown",
   "id": "f42e502c",
   "metadata": {},
   "source": [
    "Now, determine the spectral windows for demodulaation, returning the wavelength windows and the pixel numbers"
   ]
  },
  {
   "cell_type": "code",
   "execution_count": null,
   "id": "47e46f17",
   "metadata": {},
   "outputs": [],
   "source": [
    "lambda_c = []\n",
    "lambda1  = []\n",
    "lambda2  = []\n",
    "pixel_c = []\n",
    "pixel1  = []\n",
    "pixel2  = [] \n",
    "for l in waves:\n",
    "    size = delta_lambda(l)\n",
    "    low  = l-size/2\n",
    "    high = l+size/2\n",
    "    if low > lambda_min and high < lambda_max:\n",
    "        lambda_c.append(l)\n",
    "        lambda1.append(low)\n",
    "        lambda2.append(high)\n",
    "        \n",
    "        pixel_c.append(find_nearest(waves,l))\n",
    "        pixel1.append(find_nearest(waves,low))\n",
    "        pixel2.append(find_nearest(waves,high))"
   ]
  },
  {
   "cell_type": "code",
   "execution_count": null,
   "id": "ce9eb76f",
   "metadata": {},
   "outputs": [],
   "source": [
    "f, (ax1) = plt.subplots()\n",
    "\n",
    "ax1.errorbar(lambda_c[::5],lambda_c[::5],xerr = (np.array(lambda1)- np.array(lambda2))[::5]/2,fmt = 'o')\n",
    "plt.show()\n"
   ]
  },
  {
   "cell_type": "markdown",
   "id": "3498139a",
   "metadata": {},
   "source": [
    "## Model System Functions"
   ]
  },
  {
   "cell_type": "code",
   "execution_count": null,
   "id": "6a0ef041",
   "metadata": {},
   "outputs": [],
   "source": [
    "def M(lambda_c,DOLP,AOLP,W,delta_error,offset):\n",
    "    delta = 2*math.pi * retardance(lambda_c) /lambda_c\n",
    "    return(DOLP*W*np.cos(delta*delta_error +2*AOLP +offset))\n",
    "\n",
    "#The Demodulation Kernals \n",
    "def F(lambda_c,delta_error,offset):\n",
    "    delta = 2*math.pi * retardance(lambda_c) /lambda_c\n",
    "    return(np.cos(delta*delta_error +2*AOLP +offset))\n",
    "\n",
    "def G(lambda_c,delta_error,offset):\n",
    "    delta = 2*math.pi * retardance(lambda_c) /lambda_c\n",
    "    return(np.sin(delta*delta_error +2*AOLP +offset))\n",
    "\n",
    "#definition of modulation in terms of u adn q\n",
    "def Mqu(lambda_c,Q,U,Wq,Wu,delta_error,offset):\n",
    "    delta = 2*math.pi * retardance(lambda_c) /lambda_c\n",
    "    return(Q*Wq*np.cos(delta*delta_error+offset)-U*Wu*np.sin(delta*delta_error+offset))"
   ]
  },
  {
   "cell_type": "code",
   "execution_count": null,
   "id": "664f8022",
   "metadata": {},
   "outputs": [],
   "source": [
    "def M_array(waves,DOLP,AOLP,W,delta_error,offset):\n",
    "    mod = np.zeros(len(waves))\n",
    "    for i in range(len(waves)):\n",
    "        m = M(waves[i],DOLP,AOLP,W,delta_error,offset)\n",
    "        mod[i] = m\n",
    "    return(mod)"
   ]
  },
  {
   "cell_type": "code",
   "execution_count": null,
   "id": "1b82726e",
   "metadata": {},
   "outputs": [],
   "source": [
    "plt.plot(lambda_c,M_array(lambda_c,1,0,1,1,0),'.-')\n",
    "plt.show()"
   ]
  },
  {
   "cell_type": "markdown",
   "id": "89998006",
   "metadata": {},
   "source": [
    "#  Polarized Calibration"
   ]
  },
  {
   "cell_type": "markdown",
   "id": "c2024117",
   "metadata": {},
   "source": [
    "## Unpolarized Transmission"
   ]
  },
  {
   "cell_type": "code",
   "execution_count": null,
   "id": "c8f05fa6",
   "metadata": {},
   "outputs": [],
   "source": [
    "plt.errorbar(waves,np.mean(R1,axis = 0),yerr =np.sum(E1,axis = 0)/(np.mean(R1,axis = 0)**2) ,label = '$T_1$')\n",
    "plt.errorbar(waves,np.mean(R2,axis = 0),yerr =np.sum(E2,axis = 0)/(np.mean(R2,axis = 0)**2) ,label = '$T_2$' )\n",
    "plt.legend()\n",
    "plt.show()\n",
    "\n",
    "t_unpol = np.mean(R1,axis = 0)/np.mean(R2,axis = 0)\n",
    "plt.plot(waves,t_unpol)\n",
    "plt.show()"
   ]
  },
  {
   "cell_type": "code",
   "execution_count": null,
   "id": "c9fe6345",
   "metadata": {},
   "outputs": [],
   "source": [
    "def transmission_correction(I1,I2,iterations):\n",
    "    T = 1\n",
    "    i = 0\n",
    "    while i < iterations:\n",
    "        t = np.mean(I1)/np.mean(I2)\n",
    "        T_update = T*t\n",
    "        T= T_update\n",
    "        i = i+1;\n",
    "    return(T)"
   ]
  },
  {
   "cell_type": "code",
   "execution_count": null,
   "id": "8e7b59ca",
   "metadata": {},
   "outputs": [],
   "source": [
    "ind = 5;\n",
    "I1 = R1[1]\n",
    "I2 = R2[1]\n",
    "\n",
    "transmission_correction(I1[pixel1[5]:pixel2[5]],I2[pixel1[5]:pixel2[5]],1)"
   ]
  },
  {
   "cell_type": "markdown",
   "id": "20db70fe",
   "metadata": {},
   "source": [
    "## Calculate AOLP dependent transmission"
   ]
  },
  {
   "cell_type": "code",
   "execution_count": null,
   "id": "527253e5",
   "metadata": {},
   "outputs": [],
   "source": []
  },
  {
   "cell_type": "code",
   "execution_count": 131,
   "id": "d13f8575",
   "metadata": {},
   "outputs": [],
   "source": [
    "\n",
    "for i in range(len(angles)):\n",
    "    np.max(R1[:,i]) - np.min(R1[:,i])"
   ]
  },
  {
   "cell_type": "code",
   "execution_count": null,
   "id": "562e119b",
   "metadata": {},
   "outputs": [],
   "source": []
  }
 ],
 "metadata": {
  "kernelspec": {
   "display_name": "Python 3 (ipykernel)",
   "language": "python",
   "name": "python3"
  },
  "language_info": {
   "codemirror_mode": {
    "name": "ipython",
    "version": 3
   },
   "file_extension": ".py",
   "mimetype": "text/x-python",
   "name": "python",
   "nbconvert_exporter": "python",
   "pygments_lexer": "ipython3",
   "version": "3.8.8"
  }
 },
 "nbformat": 4,
 "nbformat_minor": 5
}
