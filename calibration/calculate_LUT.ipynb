{
 "cells": [
  {
   "cell_type": "code",
   "execution_count": 1,
   "id": "dcf081b9",
   "metadata": {},
   "outputs": [],
   "source": [
    "import numpy as np\n",
    "import pandas as pd\n",
    "import h5py\n",
    "import sys\n",
    "import matplotlib.pyplot as plt\n",
    "import matplotlib.cm as cm\n",
    "from statistics import mean\n",
    "import scipy\n",
    "from pathlib import Path\n",
    "\n",
    "from radiometric.LUT import create_LUT_df\n",
    "\n",
    "from NUC.NUC_functions import import_NUC, apply_NUC, get_slice, determine_slope\n",
    "from NUC.NUC_functions import determine_dark, apply_DFC_to_df\n",
    "from NUC.NUC_functions import pixel_registration"
   ]
  },
  {
   "cell_type": "code",
   "execution_count": null,
   "id": "18bc13a5",
   "metadata": {},
   "outputs": [],
   "source": [
    "#choose filepath to desired data\n",
    "path = '/Volumes/KESU/may19/LUTS/'\n",
    "#note cam definitions are flipped as of FLIRPY ffc fix \n",
    "cal_file2 =  '/Volumes/KESU/calibration_files/cam1pixel.h5'\n",
    "cal_file1 =  '/Volumes/KESU/calibration_files/cam2pixel.h5'"
   ]
  },
  {
   "cell_type": "code",
   "execution_count": null,
   "id": "531d3757",
   "metadata": {},
   "outputs": [],
   "source": [
    "waves= np.linspace(7,12,61)\n",
    "TEMPS = np.linspace(25,80,12)"
   ]
  },
  {
   "cell_type": "code",
   "execution_count": null,
   "id": "02258f5f",
   "metadata": {},
   "outputs": [],
   "source": [
    "#select ROI\n",
    "ymin2 = 90; ymax2 = 150;\n",
    "ymin1 = 120; ymax1 = 180;\n",
    "\n",
    "FOV = 53.51 ;\n",
    "HFOV = FOV/4;\n",
    "angles = np.round(np.linspace(-HFOV,HFOV,ymax2-ymin2))"
   ]
  },
  {
   "cell_type": "code",
   "execution_count": null,
   "id": "ce777d1a",
   "metadata": {},
   "outputs": [],
   "source": [
    "'''LOAD slope from 2 point NUC'''\n",
    "#choose filepath to desired data\n",
    "save_path =   '/Volumes/KESU/calibration_files/'\n",
    "name =  \"NUC.h5\" \n",
    "\n",
    "hf = h5py.File(save_path+name, 'r')\n",
    "M1 = hf.get('M1')\n",
    "M2 = hf.get('M2')\n",
    "T1 = hf.get('Tref1')\n",
    "T2 = hf.get('Tref2')\n",
    "ROI1 = hf.get('ROI1')\n",
    "ROI2 = hf.get('ROI2')"
   ]
  },
  {
   "cell_type": "code",
   "execution_count": null,
   "id": "1bc42306",
   "metadata": {},
   "outputs": [],
   "source": [
    "#plot DFCs, check appearance \n",
    "fig, axes = plt.subplots(nrows=1, ncols=2, figsize=(15, 5),sharey = True)\n",
    "p1 = axes[0].pcolormesh(M1,shading = 'auto')\n",
    "axes[0].set_title('Camera 1',fontsize = 14)\n",
    "\n",
    "p2 = axes[1].pcolormesh(M2,shading = 'auto')\n",
    "axes[1].set_title('Camera 2',fontsize = 14)\n",
    "cbar = fig.colorbar(p1, ax=axes.ravel().tolist())\n",
    "cbar.ax.set_ylabel('\\n Gain Correction M',fontsize = 12)\n",
    "\n",
    "plt.show()"
   ]
  },
  {
   "cell_type": "code",
   "execution_count": null,
   "id": "4afbd926",
   "metadata": {},
   "outputs": [],
   "source": [
    "#first, determine reference temp for each camera\n",
    "ref_name  = '35C.h5'\n",
    "dark_name = 'dark1.h5'\n",
    "\n",
    "tref1, tref2 =determine_reference(path,ref_name )\n",
    "\n",
    "'''determine DFC'''\n",
    "df_dark = create_LUT_df(path,dark_name)\n",
    "tref1,tref2,D1,D2 = determine_dark(df_dark,df_ref,M1,M2)"
   ]
  },
  {
   "cell_type": "code",
   "execution_count": null,
   "id": "4ee5eac5",
   "metadata": {},
   "outputs": [],
   "source": [
    "#apply pixel registration and NUC to full dataset\n",
    "mean_ims1 =[]\n",
    "mean_ims2 =[]\n",
    "std_ims1  =[]\n",
    "std_ims2  =[]\n",
    "t1s = []\n",
    "t2s = []\n",
    "\n",
    "for i in TEMPS:\n",
    "    #will create a df and print the names of the keys in the original hdf5 file\n",
    "    df_i = create_LUT_df(path,str(round(i))+'C.h5')\n",
    "    \n",
    "    #apply 2 point NUC, this df cooresponds to Cij\n",
    "    df = apply_DFC_to_df(df_i,D1,D2,tref1,tref2,M1,M2)\n",
    "    \n",
    "    corrected_images1= [] ; \n",
    "    corrected_images2= [] ; \n",
    "    \n",
    "    for i in range(len(df)):\n",
    "        #load image\n",
    "        rn = df['imgs1'][i];\n",
    "        \n",
    "        #apply pixel registration, this returns C lambda, phi\n",
    "        T  = df['temps1'][i];\n",
    "        t1s.append(T)\n",
    "        cn = pixel_registration(rn,cal_file1,waves,ymin1,ymax1)\n",
    "        corrected_images1.append(cn)\n",
    "  \n",
    "\n",
    "    for i in range(len(df)):\n",
    "        #load image\n",
    "        rn = df['imgs2'][i];\n",
    "        \n",
    "        #apply pixel registration\n",
    "        T  = df['temps2'][i];\n",
    "        t2s.append(T)\n",
    "        cn = pixel_registration(rn,cal_file2,waves,ymin2,ymax2)\n",
    "        corrected_images2.append(cn)\n",
    "        \n",
    "\n",
    "    mean_ims1.append(np.mean(corrected_images1,axis = 0))\n",
    "    mean_ims2.append(np.mean(corrected_images2,axis = 0))\n",
    "\n",
    "    std_ims1.append(np.std(corrected_images1,axis = 0))\n",
    "    std_ims2.append(np.std(corrected_images2,axis = 0))\n",
    "    \n",
    "d = {'BB_temps': TEMPS, 'ims1': list(mean_ims1),'s1': list(std_ims1), 'ims2':list(mean_ims2),'s2': list(std_ims2)}\n",
    "df = pd.DataFrame.from_dict(d, orient='index')\n",
    "df = df.transpose()"
   ]
  },
  {
   "cell_type": "code",
   "execution_count": null,
   "id": "bbfed1db",
   "metadata": {},
   "outputs": [],
   "source": [
    "#create sum column\n",
    "df[\"totalrad\"] = df['ims2']+df['ims1']\n",
    "df[\"totalstd\"] = (df['s2']**2+df['s1']**2)**0.5"
   ]
  },
  {
   "cell_type": "code",
   "execution_count": null,
   "id": "554989db",
   "metadata": {},
   "outputs": [],
   "source": [
    "#calculate coefficients \n",
    "[A1,B1],[A2,B2],[At,Bt] = calc_rad_coef(df)"
   ]
  },
  {
   "cell_type": "code",
   "execution_count": null,
   "id": "1ad56cbb",
   "metadata": {},
   "outputs": [],
   "source": [
    "'''calculate transmission'''\n",
    "gamma1,gamma2 = calculate_transmission(df,waves)"
   ]
  },
  {
   "cell_type": "code",
   "execution_count": null,
   "id": "09c44587",
   "metadata": {},
   "outputs": [],
   "source": [
    "#let's build a lut\n",
    "temps= np.linspace(0,80,91)\n",
    "lut1,lut2 = build_LUT(waves, A1,A2,B1,B2)"
   ]
  },
  {
   "cell_type": "code",
   "execution_count": null,
   "id": "da590432",
   "metadata": {},
   "outputs": [],
   "source": [
    "#writetohdf5\n",
    "\n",
    "#choose filepath to desired data\n",
    "save_path =   '/Volumes/KESU/calibration_files/'\n",
    "name =  \"LUT0519\" \n",
    "\n",
    "save_LUT(save_path,name,A1,A2,At,B1,B2,Bt,gamma1,gamma2)"
   ]
  }
 ],
 "metadata": {
  "kernelspec": {
   "display_name": "Python 3",
   "language": "python",
   "name": "python3"
  },
  "language_info": {
   "codemirror_mode": {
    "name": "ipython",
    "version": 3
   },
   "file_extension": ".py",
   "mimetype": "text/x-python",
   "name": "python",
   "nbconvert_exporter": "python",
   "pygments_lexer": "ipython3",
   "version": "3.9.5"
  }
 },
 "nbformat": 4,
 "nbformat_minor": 5
}
